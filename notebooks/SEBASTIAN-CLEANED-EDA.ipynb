{
 "cells": [
  {
   "cell_type": "code",
   "execution_count": 32,
   "id": "675287ea-b7f8-4b0a-98d3-a874b9b43242",
   "metadata": {
    "tags": []
   },
   "outputs": [],
   "source": [
    "import pandas as pd\n",
    "import numpy as np\n",
    "import matplotlib.pyplot as plt\n",
    "import geopandas as gpd\n",
    "pd.set_option('display.max_columns', None)\n",
    "from shapely.geometry import Point\n",
    "import fiona\n",
    "import math\n",
    "import plotly.express as px\n",
    "from thefuzz import fuzz\n",
    "from thefuzz import process"
   ]
  },
  {
   "cell_type": "code",
   "execution_count": 33,
   "id": "5c203a0a-ac74-4596-ba1a-0250932ddd21",
   "metadata": {
    "tags": []
   },
   "outputs": [],
   "source": [
    "#Read in the data and keep only US Continental States and DC\n",
    "stores_2022 = pd.read_csv('/srv/data/my_shared_data_folder/rafi/2022_Business_Academic_QCQ_grocery.csv')\n",
    "stores_2022.drop(['Unnamed: 0'],inplace=True,axis=1)\n",
    "territories = ['PR', 'FM', 'MP', 'GU', 'VI', 'MH']\n",
    "stores_2022 = stores_2022.drop(stores_2022[stores_2022['STATE'].isin(territories)].index)"
   ]
  },
  {
   "cell_type": "code",
   "execution_count": 34,
   "id": "d4781b3d-1b24-4318-b3bc-3af4816cb134",
   "metadata": {
    "tags": []
   },
   "outputs": [],
   "source": [
    "#Create lists of Supermarkets/Companies owned by the Parent Coporations of Interest (Supermarkets/Companies were taken from Wikipedia)\n",
    "\n",
    "#Ahold Delhaize owned supermarkets/companies\n",
    "ahold = [\"Bottom Dollar Food\",\n",
    "    \"Food Lion\",\n",
    "    \"FreshDirect\",\n",
    "    \"Giant\",\n",
    "    \"Giant Food\",\n",
    "    \"Hannaford\",\n",
    "    \"Stop & Shop\",\n",
    "    \"Peapod\",\n",
    "    \"Bfresh\",\n",
    "    \"Eastside Marketplace\",]\n",
    "\n",
    "#WALMART owned supermarkets/companies\n",
    "walmart = [\"WALMART\",\"SAM'S CLUB\"]\n",
    "\n",
    "#Krogers owned supermarkets/companies\n",
    "kroger = [\"Baker's\",\n",
    "    \"City Market\",\n",
    "    \"Dillons\",\n",
    "    \"Food 4 Less\",\n",
    "    \"Foods Co.\",\n",
    "    \"Fred Meyer\",\n",
    "    \"Fry's\",\n",
    "    \"Gerbes\",\n",
    "    \"Harris Teeter\",\n",
    "    \"JayC\",\n",
    "    \"King Soopers\",\n",
    "    \"Kroger\",\n",
    "    \"Mariano's\",\n",
    "    \"Metro Market\",\n",
    "    \"Pay Less\",\n",
    "    \"Pick 'n Save\",\n",
    "    \"QFC\",\n",
    "    \"Ralphs\",\n",
    "    \"Ruler Foods\",\n",
    "    \"Smith's\",]\n",
    "\n",
    "# Albertsons owned supermarkets/companies\n",
    "albertsons= [\"Acme Markets\",\n",
    "    \"Albertsons\",\n",
    "    \"Albertsons Market\",\n",
    "    \"Amigos\",\n",
    "    \"Andronico's\",\n",
    "    \"Balducci's\",\n",
    "    \"Carrs\",\n",
    "    \"Haggen\",\n",
    "    \"Jewel-Osco\",\n",
    "    \"Kings Food Markets\",\n",
    "    \"Lucky\",\n",
    "    \"Market Street\",\n",
    "    \"Pak 'n Save\",\n",
    "    \"Pavilions\",\n",
    "    \"Randalls\",\n",
    "    \"Safewa\",\n",
    "    \"Shaw's\",\n",
    "    \"Star Market\",\n",
    "    \"Tom Thumb\",\n",
    "    \"United Supermarkets\",\n",
    "    \"Vons\",\n",
    "    \"Buttrey Food and Drug\",\n",
    "    \"Max Food and Drug\",\n",
    "    \"Max Foods\",\n",
    "    \"Skagg's Albertsons\",\n",
    "    \"Super Saver\",]\n",
    "\n",
    "#Costco owned supermarkets/companies\n",
    "costco = [\"Costco\"]"
   ]
  },
  {
   "cell_type": "code",
   "execution_count": 35,
   "id": "bcb12c01-db17-4b42-9c15-fc3549c9590c",
   "metadata": {},
   "outputs": [
    {
     "data": {
      "text/plain": [
       "'\\nparent = costco\\ncompanies = stores_2022[\"COMPANY\"]\\n\\nmatches = []\\nfor item in parent:\\n    for result in process.extract(item, companies, limit=len(parent)+1):\\n        store = result[0]\\n        score = result[1]\\n        if score >= 77 and store not in matches:\\n            matches.append(store)\\n\\nprint(matches)\\n\\n# i.e. returns: [\\'COSTCO DELI\\']\\n'"
      ]
     },
     "execution_count": 35,
     "metadata": {},
     "output_type": "execute_result"
    }
   ],
   "source": [
    "#Apply a string match through thefuzz that compares all stores to the parent corporations owned stores\n",
    "#We decided to use a threshold of 77\n",
    "#Generates a list of potential unique string matches\n",
    "#The matches list's length is based on the number of different stores the parent corporation owns\n",
    "#parent was initialized for each parent coporation (finished at costco)\n",
    "'''\n",
    "parent = costco\n",
    "companies = stores_2022[\"COMPANY\"]\n",
    "\n",
    "matches = []\n",
    "for item in parent:\n",
    "    for result in process.extract(item, companies, limit=len(parent)+1):\n",
    "        store = result[0]\n",
    "        score = result[1]\n",
    "        if score >= 77 and store not in matches:\n",
    "            matches.append(store)\n",
    "\n",
    "print(matches)\n",
    "\n",
    "# i.e. returns: ['COSTCO DELI']\n",
    "'''"
   ]
  },
  {
   "cell_type": "code",
   "execution_count": 36,
   "id": "e0e3f866-71c2-45d3-9f83-7a6355a40aff",
   "metadata": {
    "tags": []
   },
   "outputs": [],
   "source": [
    "#Generated String Matches from above\n",
    "\n",
    "#String matched brands owned by Walmart:\n",
    "walmart_string = ['WALMART GROCERY PICKUP', 'WALMART GROCERY PKUP-DELIVERY', \"SAM'S CLUB DELI\"]\n",
    "#Doesn't appear to have Walmart Neighborhood Stores\n",
    "\n",
    "#String matched brands owned by Ahold Delhaize:\n",
    "ahold_string = ['BOTTOM DOLLAR', 'DOLLAR DOLLAR', 'FOOD', 'FOOD 4 LESS', 'FOOD LION', 'FRESH DIRECT', 'REC', 'FRESH', 'H & H', 'S & S', 'FRESHII', 'GIANT', 'GIANT EAGLE', 'GIANT EAGLE FLORAL', 'GIANT FOOD', 'HANNAFORD', 'STOP & SHOP', 'PEA POD', 'BFRESH MARKET', 'REFRESH', 'EASTSIDE MARKETPLACE', 'WESTSIDE MARKETPLACE', 'MARKET', 'E MARKET', 'MARKETPLACE']\n",
    "\n",
    "#String matched brands owned by Kroger:\n",
    "kroger_string = [\"BAKER'S\", 'S & S', 'BAKERS', \"BAKER'S GAS & WELD SUPLS INC\", \"BAKER'S GAS\", \"BAKER'S MARKET\", \"BAKER'S PRO FARM LLC\", 'BAKER STREET MARKET', \"BAKER'S KWIK SHOP\", 'CITY MARKET', 'DILLONS', 'FOOD 4 LESS', 'FOODS CO', 'FRED MEYER', \"FRY'S FOOD\", 'GERBES SUPER MARKET', 'GERBES SUPER MARKETS', 'GE', 'GERBES SUPERMARKET', 'HARRIS TEETER', 'JAYC', \"JAYCEE'S\", 'JAYCON', 'CITY-RALEIGH-JAYCEE PARK-CMNTY', 'JAYCE MINIMARKET', 'NAY & JAY', 'KING SOOPERS', 'KROGER', \"MARIANO'S\", 'METRO MARKET', 'METRO MINI MARKET', 'MARKET MARKET', 'PAY LESS LIQUORS', 'PAY LESS SUPER MARKETS', 'PAY LESS GAS & FOOD', 'PAY LESS IGA', 'FOOD FOR LESS', 'FAR LESS FOOD MARKET', 'MORE FOR LESS', 'PRICE LESS FOODS', 'COST LESS FOODS CO', \"PICK'N SAVE\", 'QFC', 'RALPHS', 'RULER FOODS', \"SMITH'S\"]\n",
    "\n",
    "#String matched brands owned by Costco\n",
    "costco_string = [\"COSTCO DELI\"]\n",
    "\n",
    "#String matched brands owned by Albertsons\n",
    "albertsons_string = ['ACME MARKETS', 'ALBERTSONS', 'ALBERTSONS MARKET', 'MARKET MARKET', 'MARKET', '2 AMIGOS', 'AMIGO', 'LOS AMIGOS DISTRIBUTING', 'DOS AMIGOS MARKET', '3 AMIGOS BEER WINE-FOOD STORE', 'THREE AMIGOS', 'AMIGOS FOOD MART', 'LOS AMIGOS', 'AMIGOS MKT LOS', 'AMIGOS MARKET 7', 'TIENDA LOS AMIGOS', 'AMIGOS CONVENIENCE STORE', 'LOS AMIGOS UNO', 'AMIGOS LATIN GROCERY', 'AMIGOS UNITED', 'AMIGOS FOOD MART LLC', 'LOS AMIGOS MARKET', 'LOS AMIGOS SUPERMARKET', 'ICO', \"ANDRONICO'S COMMUNITY MARKETS\", \"KRAUSZER'S FOOD STORE\", \"CASEY'S\", \"MR T'S\", \"SEVEN'S\", \"PATTY'S PANTRY & DELI\", \"CASHION'S QUIK STOP\", 'E C F S SNACKS LLC', \"MICKEY'S T-MART INC\", \"STATLER'S COUNTRY MART\", \"MIKE'S CONVENIENCE\", \"BELL'S ROWLESBURG GROCERY\", \"SOCCORSI'S GROCERY & SUBS\", 'CC', \"BALDUCCI'S FOOD LOVER'S MARKET\", \"DANIEL'S MARKET\", \"GRILLO'S MARKET\", 'S & G CONVENIENCE MART', \"NANCY'S FOODMART\", \"MILLER'S MARKETS\", \"MAYNARD'S OF FLANDREAU\", \"SKIP'S\", \"HARDESTY'S EXPRESS MART LLC\", \"KASSAR'S FOOD & GIFTS\", \"JERRY'S MARKET & LIQUOR\", \"SHELLY'S GROCERY & BAKERY LLC\", 'CARRS/SAFEWAY', 'CARRS SAFEWAY', 'CARRS QUALITY CTR PALMER SHPG', 'BIG CHEAP CASH & CARR', 'C & B USED CARS', 'HAGGEN', 'HAGGEN FOOD & PHARMACY', 'HAGGEN SUPPORT CTR', 'HAGGEN FOOD', 'GE', 'JEWEL-OSCO', 'KINGS FOOD MARKETS', 'KINGS FOOD MARKET', \"KING'S FOOD MARKET\", \"KING'S FOODMARKET\", 'KINGS FOOD MART', 'FOOD', 'LUCKY', 'LUCKY 3', 'LUCKY 7', \"LUCKY'S\", 'LUCKY 8', 'LUCKYS', 'LUCKY SEVEN FOOD STORE', 'LUCKY FOOD FARMERS MARKET', 'LUCKY GROCERY & DELI', 'LUCKY DOLLAR', 'LUCKY CHARM CONVENIENCE STORE', 'LUCKY STAR MARKET LLC', 'LUCKY FOOD MART LLC', 'LUCKY MARKET', \"LUCKY'S STATION\", 'LUCKY MARKET LLC', \"LUCKY'S SUPER MARKET\", 'MARKET STREET', \"PAK 'N SAVE\", 'U-SAVE FOOD STORE', 'GOLD LINE GRAB N GO', 'INDO PAK SUPERMARKET', 'STOP N GO FOOD MART', 'STOP N GO ENTERPRISES INC', \"OCALA SHOP N' PLAY LLC\", 'J & N MINI MART 2', \"GRAB 'N GO MART LLC\", 'KWIK PAK FOOD MART', \"SHOP 'N SAVE EXPRESS\", 'PIC-N-SAVE MARKET', 'U-SAVE TRAVEL PLAZA', \"UP NORT' SWEET N SAVORY\", 'STOP N SHOP WESTFIELD', \"SACK 'N SAVE FOOD\", \"STOP 'N GO MARKETS OF TEXAS\", 'CARTA N SHORE GARAGE', 'MASALA INDO PAK GROCERS', 'IN N OUT FOOD & GAS LLC', \"GAS 'N' GO FOOD & BEVERAGE\", 'N A M C COMMUNITY MARKET INC', 'PAVILIONS', 'RANDALLS', 'SAFEWAY', 'S & S', \"SHAW'S SUPERMARKET\", \"SHAW'S SUPERMARKETS INC\", 'STAR MARKET', 'TOM THUMB', 'UNITED SUPERMARKETS', 'VONS', 'FOOD 4 LESS', 'FOOD MART', 'FOOD LION', 'HERA FOOD MART', 'FOOD TOWN', 'FOOD FAIR', 'OHM FOOD MART', \"D'S FOOD STORE\", 'FOOD EXPRESS', 'E Z FOOD MART', 'JR FOOD MART', 'EXPRESS FOOD', 'MR FOOD MART', 'CITGO CONVENIENT FOOD MART', 'GREEN ACRES HEALTH FOOD STORE', 'FRIENDSHIP FOOD STORES INC', 'VERISTAS AFRICAN FOOD STORE', 'ILLINOIS VALLEY FOOD & DELI', \"FRY'S FOOD\", 'FOOD CITY', 'MAX FOODS', 'MAXI FOODS', 'FOODS', 'FOOD MAX', 'SUPER ONE FOODS', 'SUNSHINE FOODS', 'JAMBOREE FOODS', 'DAY STAR FOODS', \"SULLIVAN'S FOODS\", 'AFFILIATED FOODS CO-OP', \"JENSEN'S FINEST FOODS\", 'EAST DAKOTAH NATURAL FOODS', \"JENSEN'S FOODS\", 'RITE PRICE FOODS', 'VALLEY CENTER FOODS', 'SUPER SAVER', 'SUPER SAVE', 'SUPER SAVER INC', 'SUPER', 'SUPER SAVER COST PLUS', \"SAAR'S SUPER SAVER FOODS\"]"
   ]
  },
  {
   "cell_type": "code",
   "execution_count": 37,
   "id": "00e16c15-4f2b-4026-9feb-f667917d4a72",
   "metadata": {
    "tags": []
   },
   "outputs": [],
   "source": [
    "#Cleaned lists from the string matches of supermarkets/companies actually owned by the parent coprporation\n",
    "#***NOTE***There will be a margin of error from this process because stores were validated through manual checks\n",
    "#***NOTE***It was unrealistic to manually inspect every store generated this way so there will be supermarkets/companies that do not actually belong to the parent coporation\n",
    "#***NOTE***STOP AND SHOP SUPERMARKET was missing from string match so it was manually added\n",
    "#KROGERS FINAL\n",
    "kroger_clean = [\"BAKER'S\",\n",
    " 'BAKERS', \n",
    " 'CITY MARKET',\n",
    " 'DILLONS',\n",
    " 'FOOD 4 LESS', \n",
    " 'FOODS CO', \n",
    " 'FRED MEYER', \n",
    " \"FRY'S FOOD\",\n",
    " 'GERBES SUPER MARKET',  \n",
    " 'GERBES SUPER MARKETS', \n",
    " 'GERBES SUPERMARKET', \n",
    " 'HARRIS TEETER', \n",
    " 'JAYC', \n",
    " 'KING SOOPERS',\n",
    " 'KROGER',\n",
    " \"MARIANO'S\",\n",
    " 'METRO MARKET', \n",
    " 'PAY LESS SUPER MARKETS',\n",
    " \"PICK'N SAVE\", \n",
    " 'QFC', \n",
    " 'RALPHS', \n",
    " 'RULER FOODS', \n",
    " \"SMITH'S\"]\n",
    "\n",
    "#Ahold Delhaize FINAL:\n",
    "ahold_clean = [ 'FOOD LION',\n",
    " 'GIANT',\n",
    " 'GIANT EAGLE',\n",
    " 'GIANT FOOD',\n",
    " 'HANNAFORD',\n",
    " 'STOP & SHOP',\n",
    " 'BFRESH MARKET',\n",
    " 'EASTSIDE MARKETPLACE','STOP & SHOP SUPERMARKET']\n",
    "\n",
    "#WALMART FINAL:\n",
    "walmart_clean = ['WALMART GROCERY PICKUP',\n",
    " 'WALMART GROCERY PKUP-DELIVERY', \n",
    " \"SAM'S CLUB DELI\"]\n",
    "\n",
    "#COSTCO FINAL:\n",
    "costco_clean = [\"COSTCO DELI\"]\n",
    "\n",
    "#ALBERTSONS FINAL:\n",
    "albertsons_clean = ['ACME MARKETS',\n",
    "'ALBERTSONS',\n",
    "'ALBERTSONS MARKET',\n",
    "'AMIGOS UNITED',\n",
    "\"ANDRONICO'S COMMUNITY MARKETS\",\n",
    "'CARRS/SAFEWAY',\n",
    "'CARRS SAFEWAY',\n",
    "'HAGGEN',\n",
    "'HAGGEN FOOD & PHARMACY',\n",
    "'HAGGEN FOOD',\n",
    "'JEWEL-OSCO',\n",
    "'KINGS FOOD MARKETS',\n",
    "'KINGS FOOD MARKET',\n",
    "'MARKET STREET',\n",
    "\"PAK 'N SAVE\",\n",
    "'PAVILIONS',\n",
    "'RANDALLS',\n",
    "'SAFEWAY',\n",
    "'STAR MARKET',\n",
    "'TOM THUMB',\n",
    "'UNITED SUPERMARKETS',\n",
    "'VONS',\n",
    "'SUPER SAVER',\n",
    "'CARRS QUALITY CTR PALMER SHPG',\n",
    " \"SAAR'S SUPER SAVER FOODS\"]"
   ]
  },
  {
   "cell_type": "code",
   "execution_count": 38,
   "id": "010d4435-d9f4-4308-a1e2-b9ca42ccde9b",
   "metadata": {
    "tags": []
   },
   "outputs": [],
   "source": [
    "#Records the removed values from the string matching for each store\n",
    "#\"Removed\" list can be used to see the values we chose to remove from the string match\n",
    "kroger_removed = [value for value in kroger_string if value not in kroger_clean]\n",
    "ahold_removed = [value for value in ahold_string if value not in ahold_clean]\n",
    "walmart_removed = [value for value in walmart_string if value not in walmart_clean]\n",
    "costco_removed = [value for value in costco_string if value not in costco_clean]\n",
    "albertsons_removed = [value for value in albertsons_string if value not in albertsons_string]"
   ]
  },
  {
   "cell_type": "code",
   "execution_count": 39,
   "id": "72b44ada-9529-4575-bad7-e77c141b0006",
   "metadata": {
    "tags": []
   },
   "outputs": [],
   "source": [
    "def parent_name(row):\n",
    "    '''Creates a new column called \"PARENT NAME\" based on the cleaned string match list''' \n",
    "    '''The new column generalizes individual companies into their parent coporation (ie. Walmart, Krogers, etc.)''' \n",
    "    companies = row['COMPANY']  \n",
    "    \n",
    "    if companies in walmart_clean:\n",
    "        return 'WALMART'\n",
    "    if companies in costco_clean:\n",
    "        return 'COSTCO'\n",
    "    if companies in ahold_clean:\n",
    "        return 'AHOLD DELHAIZE'\n",
    "    if companies in kroger_clean:\n",
    "        return 'KROGER'\n",
    "    if companies in albertsons_clean:\n",
    "        return 'ALBERTSONS'\n",
    "    else:\n",
    "        return 'OTHER'\n",
    "\n",
    "stores_2022['PARENT NAME'] = stores_2022.apply(parent_name, axis=1)"
   ]
  },
  {
   "cell_type": "code",
   "execution_count": 40,
   "id": "bf16d40e-48dc-4795-917d-226d3c48c028",
   "metadata": {
    "tags": []
   },
   "outputs": [],
   "source": [
    "#Locate the unique primary sic codes present within the supermarkets/companies owned by the parent corporations of interest\n",
    "#These unique primary SIC codes will be used as the basis of how we filter the main dataset to include only relevant supermarkets/companies (ie. removing convenient stores)\n",
    "\n",
    "#Step 1: Filter a dataframe based on parent coporations\n",
    "parent_companies = ['WALMART', 'COSTCO', 'KROGER', 'AHOLD DELHAIZE','ALBERTSONS']\n",
    "filtered_df = stores_2022[stores_2022['PARENT NAME'].isin(parent_companies)]\n",
    "\n",
    "# Step 2: Extract the PRIMARY SIC CODES values\n",
    "primary_sic_codes = filtered_df['PRIMARY SIC CODE']\n",
    "\n",
    "# Step 3: Get the unique PRIMARY SIC CODES values\n",
    "unique_sic_codes = primary_sic_codes.unique()\n",
    "\n",
    "# Print the unique PRIMARY SIC CODES\n",
    "unique_sic_codes = np.delete(unique_sic_codes,(np.where(unique_sic_codes == 541103)))\n",
    "\n",
    "#***NOTE remove SIC Code 541103 since it contains the SIC code for convenient stores"
   ]
  },
  {
   "cell_type": "code",
   "execution_count": 41,
   "id": "96b38b81-379e-47fb-9bcc-2c32f542b068",
   "metadata": {
    "tags": []
   },
   "outputs": [],
   "source": [
    "def sic_filter(df):\n",
    "    \"\"\"\n",
    "    Filters the dataframe to keep only the stores with specific primary SIC codes,\n",
    "    including NaN values. SIC codes are from the parent corporation's subsidiary's Primary SIC codes\n",
    "\n",
    "    The function takes in an unfiltered dataframe as a parameter.\n",
    "    The function returns a filtered dataframe.\n",
    "    \"\"\"\n",
    "    sic_codes = unique_sic_codes\n",
    "    filtered_df = df[df['PRIMARY SIC CODE'].isin(sic_codes) | df['PRIMARY SIC CODE'].isna()]\n",
    "    return filtered_df\n",
    "\n",
    "supermarkets_2022 = sic_filter(stores_2022)"
   ]
  },
  {
   "cell_type": "code",
   "execution_count": 42,
   "id": "9877e33d-a2c9-4a91-946e-a0e9ce637124",
   "metadata": {
    "tags": []
   },
   "outputs": [],
   "source": [
    "def update_parent_name(df):\n",
    "    \"\"\"\n",
    "    Helps account for erros in manual string matching selection\n",
    "    Checked for different Parent Numbers within each Parent Group and if the company had a different Parent Number \n",
    "    than the accepted, the company was grouped to other\n",
    "    \"\"\"\n",
    "    accepted_parent_numbers = {\n",
    "        238136725.0: \"AHOLD DELHAIZE\",\n",
    "        5995907.0: \"ALBERTSONS\",\n",
    "        7521503.0: \"KROGER\",\n",
    "        5889993.0: \"WALMART\",\n",
    "        441311800.0: \"COSTCO\"\n",
    "    }\n",
    "    \n",
    "    for parent_number, parent_name in accepted_parent_numbers.items():\n",
    "        df.loc[(df[\"PARENT NUMBER\"] != parent_number) & (df[\"PARENT NAME\"] == parent_name), \"PARENT NAME\"] = \"OTHER\"\n",
    "    \n",
    "    return df\n",
    "supermarkets_2022 = update_parent_name(supermarkets_2022)\n",
    "#Assigns Parent Number of Albertsons to CARRS\n",
    "supermarkets_2022.loc[supermarkets_2022[supermarkets_2022[\"COMPANY\"] == \"CARRS QUALITY CTR PALMER SHPG\"].index, \"PARENT NUMBER\"] = 5995907.0"
   ]
  },
  {
   "cell_type": "code",
   "execution_count": 43,
   "id": "9942bf94-f766-4b6d-8197-3275e1703793",
   "metadata": {
    "tags": []
   },
   "outputs": [
    {
     "data": {
      "text/plain": [
       "(78449, 54)"
      ]
     },
     "execution_count": 43,
     "metadata": {},
     "output_type": "execute_result"
    }
   ],
   "source": [
    "supermarkets_2022.shape\n",
    "#There are 78449 supermarkets/related companies in the entire US"
   ]
  },
  {
   "cell_type": "code",
   "execution_count": 44,
   "id": "2260d07e-1b3c-4c9c-9eff-7ec7e3edb162",
   "metadata": {
    "tags": []
   },
   "outputs": [
    {
     "data": {
      "text/html": [
       "<div>\n",
       "<style scoped>\n",
       "    .dataframe tbody tr th:only-of-type {\n",
       "        vertical-align: middle;\n",
       "    }\n",
       "\n",
       "    .dataframe tbody tr th {\n",
       "        vertical-align: top;\n",
       "    }\n",
       "\n",
       "    .dataframe thead th {\n",
       "        text-align: right;\n",
       "    }\n",
       "</style>\n",
       "<table border=\"1\" class=\"dataframe\">\n",
       "  <thead>\n",
       "    <tr style=\"text-align: right;\">\n",
       "      <th></th>\n",
       "      <th>PARENT NAME</th>\n",
       "      <th>STORE COUNT</th>\n",
       "      <th>Percent</th>\n",
       "    </tr>\n",
       "  </thead>\n",
       "  <tbody>\n",
       "    <tr>\n",
       "      <th>0</th>\n",
       "      <td>AHOLD DELHAIZE</td>\n",
       "      <td>1713</td>\n",
       "      <td>2.183584</td>\n",
       "    </tr>\n",
       "    <tr>\n",
       "      <th>1</th>\n",
       "      <td>ALBERTSONS</td>\n",
       "      <td>2191</td>\n",
       "      <td>2.792897</td>\n",
       "    </tr>\n",
       "    <tr>\n",
       "      <th>2</th>\n",
       "      <td>COSTCO</td>\n",
       "      <td>29</td>\n",
       "      <td>0.036967</td>\n",
       "    </tr>\n",
       "    <tr>\n",
       "      <th>3</th>\n",
       "      <td>KROGER</td>\n",
       "      <td>2716</td>\n",
       "      <td>3.462122</td>\n",
       "    </tr>\n",
       "    <tr>\n",
       "      <th>4</th>\n",
       "      <td>OTHER</td>\n",
       "      <td>68098</td>\n",
       "      <td>86.805440</td>\n",
       "    </tr>\n",
       "    <tr>\n",
       "      <th>5</th>\n",
       "      <td>WALMART</td>\n",
       "      <td>3702</td>\n",
       "      <td>4.718989</td>\n",
       "    </tr>\n",
       "  </tbody>\n",
       "</table>\n",
       "</div>"
      ],
      "text/plain": [
       "      PARENT NAME  STORE COUNT    Percent\n",
       "0  AHOLD DELHAIZE         1713   2.183584\n",
       "1      ALBERTSONS         2191   2.792897\n",
       "2          COSTCO           29   0.036967\n",
       "3          KROGER         2716   3.462122\n",
       "4           OTHER        68098  86.805440\n",
       "5         WALMART         3702   4.718989"
      ]
     },
     "execution_count": 44,
     "metadata": {},
     "output_type": "execute_result"
    }
   ],
   "source": [
    "#Finds the Percent of Brick and Mortar and Store Count for Each Major Parent Company and Other\n",
    "store_count_us = supermarkets_2022.groupby('PARENT NAME').count()[[\"CITY\"]].reset_index().rename(columns={\"CITY\":\"STORE COUNT\"})\n",
    "store_count_us['Percent'] = store_count_us['STORE COUNT'] / supermarkets_2022.shape[0] * 100\n",
    "\n",
    "store_count_us"
   ]
  },
  {
   "cell_type": "markdown",
   "id": "3355c689-072b-4073-9903-4623967b22a5",
   "metadata": {},
   "source": [
    "# Illinois Analysis"
   ]
  },
  {
   "cell_type": "code",
   "execution_count": 45,
   "id": "d558e821-5b32-443f-bf30-ead0c51e57e8",
   "metadata": {
    "tags": []
   },
   "outputs": [
    {
     "data": {
      "text/html": [
       "<div>\n",
       "<style scoped>\n",
       "    .dataframe tbody tr th:only-of-type {\n",
       "        vertical-align: middle;\n",
       "    }\n",
       "\n",
       "    .dataframe tbody tr th {\n",
       "        vertical-align: top;\n",
       "    }\n",
       "\n",
       "    .dataframe thead th {\n",
       "        text-align: right;\n",
       "    }\n",
       "</style>\n",
       "<table border=\"1\" class=\"dataframe\">\n",
       "  <thead>\n",
       "    <tr style=\"text-align: right;\">\n",
       "      <th></th>\n",
       "      <th>COMPANY</th>\n",
       "      <th>ADDRESS LINE 1</th>\n",
       "      <th>CITY</th>\n",
       "      <th>STATE</th>\n",
       "      <th>ZIPCODE</th>\n",
       "      <th>ZIP4</th>\n",
       "      <th>COUNTY CODE</th>\n",
       "      <th>AREA CODE</th>\n",
       "      <th>IDCODE</th>\n",
       "      <th>LOCATION EMPLOYEE SIZE CODE</th>\n",
       "      <th>LOCATION SALES VOLUME CODE</th>\n",
       "      <th>PRIMARY SIC CODE</th>\n",
       "      <th>SIC6_DESCRIPTIONS</th>\n",
       "      <th>PRIMARY NAICS CODE</th>\n",
       "      <th>NAICS8 DESCRIPTIONS</th>\n",
       "      <th>SIC CODE</th>\n",
       "      <th>SIC6_DESCRIPTIONS (SIC)</th>\n",
       "      <th>SIC CODE 1</th>\n",
       "      <th>SIC6_DESCRIPTIONS (SIC1)</th>\n",
       "      <th>SIC CODE 2</th>\n",
       "      <th>SIC6_DESCRIPTIONS(SIC2)</th>\n",
       "      <th>SIC CODE 3</th>\n",
       "      <th>SIC6_DESCRIPTIONS(SIC3)</th>\n",
       "      <th>SIC CODE 4</th>\n",
       "      <th>SIC6_DESCRIPTIONS(SIC4)</th>\n",
       "      <th>ARCHIVE VERSION YEAR</th>\n",
       "      <th>YELLOW PAGE CODE</th>\n",
       "      <th>EMPLOYEE SIZE (5) - LOCATION</th>\n",
       "      <th>SALES VOLUME (9) - LOCATION</th>\n",
       "      <th>BUSINESS STATUS CODE</th>\n",
       "      <th>INDUSTRY SPECIFIC FIRST BYTE</th>\n",
       "      <th>YEAR ESTABLISHED</th>\n",
       "      <th>OFFICE SIZE CODE</th>\n",
       "      <th>COMPANY HOLDING STATUS</th>\n",
       "      <th>ABI</th>\n",
       "      <th>SUBSIDIARY NUMBER</th>\n",
       "      <th>PARENT NUMBER</th>\n",
       "      <th>PARENT ACTUAL EMPLOYEE SIZE</th>\n",
       "      <th>PARENT ACTUAL SALES VOLUME</th>\n",
       "      <th>PARENT EMPLOYEE SIZE CODE</th>\n",
       "      <th>PARENT SALES VOLUME CODE</th>\n",
       "      <th>SITE NUMBER</th>\n",
       "      <th>ADDRESS TYPE INDICATOR</th>\n",
       "      <th>POPULATION CODE</th>\n",
       "      <th>CENSUS TRACT</th>\n",
       "      <th>CENSUS BLOCK</th>\n",
       "      <th>LATITUDE</th>\n",
       "      <th>LONGITUDE</th>\n",
       "      <th>MATCH CODE</th>\n",
       "      <th>CBSA CODE</th>\n",
       "      <th>CBSA LEVEL</th>\n",
       "      <th>CSA CODE</th>\n",
       "      <th>FIPS CODE</th>\n",
       "      <th>PARENT NAME</th>\n",
       "    </tr>\n",
       "  </thead>\n",
       "  <tbody>\n",
       "    <tr>\n",
       "      <th>13</th>\n",
       "      <td>KROGER</td>\n",
       "      <td>301 E MCKINLEY RD</td>\n",
       "      <td>OTTAWA</td>\n",
       "      <td>IL</td>\n",
       "      <td>61350</td>\n",
       "      <td>4805.0</td>\n",
       "      <td>99.0</td>\n",
       "      <td>815</td>\n",
       "      <td>2</td>\n",
       "      <td>E</td>\n",
       "      <td>F</td>\n",
       "      <td>541105</td>\n",
       "      <td>GROCERS-RETAIL</td>\n",
       "      <td>44511003.0</td>\n",
       "      <td>SUPERMARKETS/OTHER GROCERY (EXC CONVENIENCE) STRS</td>\n",
       "      <td>NaN</td>\n",
       "      <td>NaN</td>\n",
       "      <td>NaN</td>\n",
       "      <td>NaN</td>\n",
       "      <td>NaN</td>\n",
       "      <td>NaN</td>\n",
       "      <td>NaN</td>\n",
       "      <td>NaN</td>\n",
       "      <td>NaN</td>\n",
       "      <td>NaN</td>\n",
       "      <td>2022</td>\n",
       "      <td>39106.0</td>\n",
       "      <td>70.0</td>\n",
       "      <td>14158.0</td>\n",
       "      <td>2</td>\n",
       "      <td>P</td>\n",
       "      <td>NaN</td>\n",
       "      <td>NaN</td>\n",
       "      <td>NaN</td>\n",
       "      <td>152123287</td>\n",
       "      <td>NaN</td>\n",
       "      <td>7521503.0</td>\n",
       "      <td>1200.0</td>\n",
       "      <td>137888000.0</td>\n",
       "      <td>I</td>\n",
       "      <td>I</td>\n",
       "      <td>152123287.0</td>\n",
       "      <td>NaN</td>\n",
       "      <td>7</td>\n",
       "      <td>963500.0</td>\n",
       "      <td>1.0</td>\n",
       "      <td>41.323858</td>\n",
       "      <td>-88.836271</td>\n",
       "      <td>P</td>\n",
       "      <td>36837.0</td>\n",
       "      <td>1.0</td>\n",
       "      <td>176.0</td>\n",
       "      <td>17099.0</td>\n",
       "      <td>KROGER</td>\n",
       "    </tr>\n",
       "    <tr>\n",
       "      <th>199</th>\n",
       "      <td>SPRING VALLEY SUPERMARKET</td>\n",
       "      <td>117 S SPALDING ST</td>\n",
       "      <td>SPRING VALLEY</td>\n",
       "      <td>IL</td>\n",
       "      <td>61362</td>\n",
       "      <td>2097.0</td>\n",
       "      <td>11.0</td>\n",
       "      <td>815</td>\n",
       "      <td>2</td>\n",
       "      <td>E</td>\n",
       "      <td>E</td>\n",
       "      <td>541105</td>\n",
       "      <td>GROCERS-RETAIL</td>\n",
       "      <td>44511003.0</td>\n",
       "      <td>SUPERMARKETS/OTHER GROCERY (EXC CONVENIENCE) STRS</td>\n",
       "      <td>542107.0</td>\n",
       "      <td>MEAT-RETAIL</td>\n",
       "      <td>NaN</td>\n",
       "      <td>NaN</td>\n",
       "      <td>NaN</td>\n",
       "      <td>NaN</td>\n",
       "      <td>NaN</td>\n",
       "      <td>NaN</td>\n",
       "      <td>NaN</td>\n",
       "      <td>NaN</td>\n",
       "      <td>2022</td>\n",
       "      <td>39106.0</td>\n",
       "      <td>60.0</td>\n",
       "      <td>8908.0</td>\n",
       "      <td>9</td>\n",
       "      <td>NaN</td>\n",
       "      <td>NaN</td>\n",
       "      <td>NaN</td>\n",
       "      <td>NaN</td>\n",
       "      <td>2994101</td>\n",
       "      <td>NaN</td>\n",
       "      <td>NaN</td>\n",
       "      <td>NaN</td>\n",
       "      <td>NaN</td>\n",
       "      <td>NaN</td>\n",
       "      <td>NaN</td>\n",
       "      <td>NaN</td>\n",
       "      <td>NaN</td>\n",
       "      <td>5</td>\n",
       "      <td>965200.0</td>\n",
       "      <td>2.0</td>\n",
       "      <td>41.323951</td>\n",
       "      <td>-89.199282</td>\n",
       "      <td>P</td>\n",
       "      <td>36837.0</td>\n",
       "      <td>1.0</td>\n",
       "      <td>176.0</td>\n",
       "      <td>17011.0</td>\n",
       "      <td>OTHER</td>\n",
       "    </tr>\n",
       "    <tr>\n",
       "      <th>316</th>\n",
       "      <td>SENECA FOOD MART</td>\n",
       "      <td>271 S MAIN ST</td>\n",
       "      <td>SENECA</td>\n",
       "      <td>IL</td>\n",
       "      <td>61360</td>\n",
       "      <td>9415.0</td>\n",
       "      <td>99.0</td>\n",
       "      <td>815</td>\n",
       "      <td>2</td>\n",
       "      <td>B</td>\n",
       "      <td>C</td>\n",
       "      <td>541105</td>\n",
       "      <td>GROCERS-RETAIL</td>\n",
       "      <td>44511003.0</td>\n",
       "      <td>SUPERMARKETS/OTHER GROCERY (EXC CONVENIENCE) STRS</td>\n",
       "      <td>209903.0</td>\n",
       "      <td>FOOD PRODUCTS &amp; MANUFACTURERS</td>\n",
       "      <td>NaN</td>\n",
       "      <td>NaN</td>\n",
       "      <td>NaN</td>\n",
       "      <td>NaN</td>\n",
       "      <td>NaN</td>\n",
       "      <td>NaN</td>\n",
       "      <td>NaN</td>\n",
       "      <td>NaN</td>\n",
       "      <td>2022</td>\n",
       "      <td>39106.0</td>\n",
       "      <td>8.0</td>\n",
       "      <td>1618.0</td>\n",
       "      <td>2</td>\n",
       "      <td>NaN</td>\n",
       "      <td>NaN</td>\n",
       "      <td>NaN</td>\n",
       "      <td>NaN</td>\n",
       "      <td>152142808</td>\n",
       "      <td>NaN</td>\n",
       "      <td>558247.0</td>\n",
       "      <td>75.0</td>\n",
       "      <td>1385280.0</td>\n",
       "      <td>E</td>\n",
       "      <td>K</td>\n",
       "      <td>NaN</td>\n",
       "      <td>NaN</td>\n",
       "      <td>4</td>\n",
       "      <td>963700.0</td>\n",
       "      <td>1.0</td>\n",
       "      <td>41.306622</td>\n",
       "      <td>-88.610207</td>\n",
       "      <td>P</td>\n",
       "      <td>36837.0</td>\n",
       "      <td>1.0</td>\n",
       "      <td>176.0</td>\n",
       "      <td>17099.0</td>\n",
       "      <td>OTHER</td>\n",
       "    </tr>\n",
       "    <tr>\n",
       "      <th>379</th>\n",
       "      <td>HANDY FOODS</td>\n",
       "      <td>604 W MAIN ST</td>\n",
       "      <td>OTTAWA</td>\n",
       "      <td>IL</td>\n",
       "      <td>61350</td>\n",
       "      <td>2718.0</td>\n",
       "      <td>99.0</td>\n",
       "      <td>815</td>\n",
       "      <td>2</td>\n",
       "      <td>E</td>\n",
       "      <td>F</td>\n",
       "      <td>541105</td>\n",
       "      <td>GROCERS-RETAIL</td>\n",
       "      <td>44511003.0</td>\n",
       "      <td>SUPERMARKETS/OTHER GROCERY (EXC CONVENIENCE) STRS</td>\n",
       "      <td>NaN</td>\n",
       "      <td>NaN</td>\n",
       "      <td>NaN</td>\n",
       "      <td>NaN</td>\n",
       "      <td>NaN</td>\n",
       "      <td>NaN</td>\n",
       "      <td>NaN</td>\n",
       "      <td>NaN</td>\n",
       "      <td>NaN</td>\n",
       "      <td>NaN</td>\n",
       "      <td>2022</td>\n",
       "      <td>39106.0</td>\n",
       "      <td>90.0</td>\n",
       "      <td>19214.0</td>\n",
       "      <td>9</td>\n",
       "      <td>L</td>\n",
       "      <td>1963.0</td>\n",
       "      <td>NaN</td>\n",
       "      <td>NaN</td>\n",
       "      <td>152124368</td>\n",
       "      <td>NaN</td>\n",
       "      <td>NaN</td>\n",
       "      <td>NaN</td>\n",
       "      <td>NaN</td>\n",
       "      <td>NaN</td>\n",
       "      <td>NaN</td>\n",
       "      <td>NaN</td>\n",
       "      <td>NaN</td>\n",
       "      <td>7</td>\n",
       "      <td>962800.0</td>\n",
       "      <td>4.0</td>\n",
       "      <td>41.346474</td>\n",
       "      <td>-88.848812</td>\n",
       "      <td>P</td>\n",
       "      <td>36837.0</td>\n",
       "      <td>1.0</td>\n",
       "      <td>176.0</td>\n",
       "      <td>17099.0</td>\n",
       "      <td>OTHER</td>\n",
       "    </tr>\n",
       "    <tr>\n",
       "      <th>435</th>\n",
       "      <td>SULLIVAN'S FOODS</td>\n",
       "      <td>1102 MERIDEN ST</td>\n",
       "      <td>MENDOTA</td>\n",
       "      <td>IL</td>\n",
       "      <td>61342</td>\n",
       "      <td>1054.0</td>\n",
       "      <td>99.0</td>\n",
       "      <td>815</td>\n",
       "      <td>2</td>\n",
       "      <td>E</td>\n",
       "      <td>F</td>\n",
       "      <td>541105</td>\n",
       "      <td>GROCERS-RETAIL</td>\n",
       "      <td>44511003.0</td>\n",
       "      <td>SUPERMARKETS/OTHER GROCERY (EXC CONVENIENCE) STRS</td>\n",
       "      <td>NaN</td>\n",
       "      <td>NaN</td>\n",
       "      <td>NaN</td>\n",
       "      <td>NaN</td>\n",
       "      <td>NaN</td>\n",
       "      <td>NaN</td>\n",
       "      <td>NaN</td>\n",
       "      <td>NaN</td>\n",
       "      <td>NaN</td>\n",
       "      <td>NaN</td>\n",
       "      <td>2022</td>\n",
       "      <td>39106.0</td>\n",
       "      <td>72.0</td>\n",
       "      <td>14562.0</td>\n",
       "      <td>2</td>\n",
       "      <td>NaN</td>\n",
       "      <td>1967.0</td>\n",
       "      <td>NaN</td>\n",
       "      <td>NaN</td>\n",
       "      <td>2971463</td>\n",
       "      <td>NaN</td>\n",
       "      <td>356801134.0</td>\n",
       "      <td>NaN</td>\n",
       "      <td>389500.0</td>\n",
       "      <td>NaN</td>\n",
       "      <td>I</td>\n",
       "      <td>2971463.0</td>\n",
       "      <td>NaN</td>\n",
       "      <td>5</td>\n",
       "      <td>961900.0</td>\n",
       "      <td>3.0</td>\n",
       "      <td>41.555409</td>\n",
       "      <td>-89.125462</td>\n",
       "      <td>0</td>\n",
       "      <td>36837.0</td>\n",
       "      <td>1.0</td>\n",
       "      <td>176.0</td>\n",
       "      <td>17099.0</td>\n",
       "      <td>OTHER</td>\n",
       "    </tr>\n",
       "  </tbody>\n",
       "</table>\n",
       "</div>"
      ],
      "text/plain": [
       "                       COMPANY     ADDRESS LINE 1           CITY STATE  \\\n",
       "13                      KROGER  301 E MCKINLEY RD         OTTAWA    IL   \n",
       "199  SPRING VALLEY SUPERMARKET  117 S SPALDING ST  SPRING VALLEY    IL   \n",
       "316           SENECA FOOD MART      271 S MAIN ST         SENECA    IL   \n",
       "379                HANDY FOODS      604 W MAIN ST         OTTAWA    IL   \n",
       "435           SULLIVAN'S FOODS    1102 MERIDEN ST        MENDOTA    IL   \n",
       "\n",
       "     ZIPCODE    ZIP4  COUNTY CODE  AREA CODE  IDCODE  \\\n",
       "13     61350  4805.0         99.0        815       2   \n",
       "199    61362  2097.0         11.0        815       2   \n",
       "316    61360  9415.0         99.0        815       2   \n",
       "379    61350  2718.0         99.0        815       2   \n",
       "435    61342  1054.0         99.0        815       2   \n",
       "\n",
       "    LOCATION EMPLOYEE SIZE CODE LOCATION SALES VOLUME CODE  PRIMARY SIC CODE  \\\n",
       "13                            E                          F            541105   \n",
       "199                           E                          E            541105   \n",
       "316                           B                          C            541105   \n",
       "379                           E                          F            541105   \n",
       "435                           E                          F            541105   \n",
       "\n",
       "    SIC6_DESCRIPTIONS  PRIMARY NAICS CODE  \\\n",
       "13     GROCERS-RETAIL          44511003.0   \n",
       "199    GROCERS-RETAIL          44511003.0   \n",
       "316    GROCERS-RETAIL          44511003.0   \n",
       "379    GROCERS-RETAIL          44511003.0   \n",
       "435    GROCERS-RETAIL          44511003.0   \n",
       "\n",
       "                                   NAICS8 DESCRIPTIONS  SIC CODE  \\\n",
       "13   SUPERMARKETS/OTHER GROCERY (EXC CONVENIENCE) STRS       NaN   \n",
       "199  SUPERMARKETS/OTHER GROCERY (EXC CONVENIENCE) STRS  542107.0   \n",
       "316  SUPERMARKETS/OTHER GROCERY (EXC CONVENIENCE) STRS  209903.0   \n",
       "379  SUPERMARKETS/OTHER GROCERY (EXC CONVENIENCE) STRS       NaN   \n",
       "435  SUPERMARKETS/OTHER GROCERY (EXC CONVENIENCE) STRS       NaN   \n",
       "\n",
       "           SIC6_DESCRIPTIONS (SIC)  SIC CODE 1 SIC6_DESCRIPTIONS (SIC1)  \\\n",
       "13                             NaN         NaN                      NaN   \n",
       "199                    MEAT-RETAIL         NaN                      NaN   \n",
       "316  FOOD PRODUCTS & MANUFACTURERS         NaN                      NaN   \n",
       "379                            NaN         NaN                      NaN   \n",
       "435                            NaN         NaN                      NaN   \n",
       "\n",
       "     SIC CODE 2 SIC6_DESCRIPTIONS(SIC2)  SIC CODE 3 SIC6_DESCRIPTIONS(SIC3)  \\\n",
       "13          NaN                     NaN         NaN                     NaN   \n",
       "199         NaN                     NaN         NaN                     NaN   \n",
       "316         NaN                     NaN         NaN                     NaN   \n",
       "379         NaN                     NaN         NaN                     NaN   \n",
       "435         NaN                     NaN         NaN                     NaN   \n",
       "\n",
       "     SIC CODE 4 SIC6_DESCRIPTIONS(SIC4)  ARCHIVE VERSION YEAR  \\\n",
       "13          NaN                     NaN                  2022   \n",
       "199         NaN                     NaN                  2022   \n",
       "316         NaN                     NaN                  2022   \n",
       "379         NaN                     NaN                  2022   \n",
       "435         NaN                     NaN                  2022   \n",
       "\n",
       "     YELLOW PAGE CODE  EMPLOYEE SIZE (5) - LOCATION  \\\n",
       "13            39106.0                          70.0   \n",
       "199           39106.0                          60.0   \n",
       "316           39106.0                           8.0   \n",
       "379           39106.0                          90.0   \n",
       "435           39106.0                          72.0   \n",
       "\n",
       "     SALES VOLUME (9) - LOCATION  BUSINESS STATUS CODE  \\\n",
       "13                       14158.0                     2   \n",
       "199                       8908.0                     9   \n",
       "316                       1618.0                     2   \n",
       "379                      19214.0                     9   \n",
       "435                      14562.0                     2   \n",
       "\n",
       "    INDUSTRY SPECIFIC FIRST BYTE  YEAR ESTABLISHED  OFFICE SIZE CODE  \\\n",
       "13                             P               NaN               NaN   \n",
       "199                          NaN               NaN               NaN   \n",
       "316                          NaN               NaN               NaN   \n",
       "379                            L            1963.0               NaN   \n",
       "435                          NaN            1967.0               NaN   \n",
       "\n",
       "     COMPANY HOLDING STATUS        ABI  SUBSIDIARY NUMBER  PARENT NUMBER  \\\n",
       "13                      NaN  152123287                NaN      7521503.0   \n",
       "199                     NaN    2994101                NaN            NaN   \n",
       "316                     NaN  152142808                NaN       558247.0   \n",
       "379                     NaN  152124368                NaN            NaN   \n",
       "435                     NaN    2971463                NaN    356801134.0   \n",
       "\n",
       "     PARENT ACTUAL EMPLOYEE SIZE  PARENT ACTUAL SALES VOLUME  \\\n",
       "13                        1200.0                 137888000.0   \n",
       "199                          NaN                         NaN   \n",
       "316                         75.0                   1385280.0   \n",
       "379                          NaN                         NaN   \n",
       "435                          NaN                    389500.0   \n",
       "\n",
       "    PARENT EMPLOYEE SIZE CODE PARENT SALES VOLUME CODE  SITE NUMBER  \\\n",
       "13                          I                        I  152123287.0   \n",
       "199                       NaN                      NaN          NaN   \n",
       "316                         E                        K          NaN   \n",
       "379                       NaN                      NaN          NaN   \n",
       "435                       NaN                        I    2971463.0   \n",
       "\n",
       "    ADDRESS TYPE INDICATOR  POPULATION CODE  CENSUS TRACT  CENSUS BLOCK  \\\n",
       "13                     NaN                7      963500.0           1.0   \n",
       "199                    NaN                5      965200.0           2.0   \n",
       "316                    NaN                4      963700.0           1.0   \n",
       "379                    NaN                7      962800.0           4.0   \n",
       "435                    NaN                5      961900.0           3.0   \n",
       "\n",
       "      LATITUDE  LONGITUDE MATCH CODE  CBSA CODE  CBSA LEVEL  CSA CODE  \\\n",
       "13   41.323858 -88.836271          P    36837.0         1.0     176.0   \n",
       "199  41.323951 -89.199282          P    36837.0         1.0     176.0   \n",
       "316  41.306622 -88.610207          P    36837.0         1.0     176.0   \n",
       "379  41.346474 -88.848812          P    36837.0         1.0     176.0   \n",
       "435  41.555409 -89.125462          0    36837.0         1.0     176.0   \n",
       "\n",
       "     FIPS CODE PARENT NAME  \n",
       "13     17099.0      KROGER  \n",
       "199    17011.0       OTHER  \n",
       "316    17099.0       OTHER  \n",
       "379    17099.0       OTHER  \n",
       "435    17099.0       OTHER  "
      ]
     },
     "execution_count": 45,
     "metadata": {},
     "output_type": "execute_result"
    }
   ],
   "source": [
    "supermarkets_2022_il = supermarkets_2022.loc[supermarkets_2022[\"STATE\"] == \"IL\"]\n",
    "supermarkets_2022_il.head() \n",
    "#There are 2662 Supermarkets/companies in IL"
   ]
  },
  {
   "cell_type": "code",
   "execution_count": 46,
   "id": "d9c94d3e-d206-4735-996e-43135edb692d",
   "metadata": {
    "tags": []
   },
   "outputs": [
    {
     "data": {
      "text/html": [
       "<div>\n",
       "<style scoped>\n",
       "    .dataframe tbody tr th:only-of-type {\n",
       "        vertical-align: middle;\n",
       "    }\n",
       "\n",
       "    .dataframe tbody tr th {\n",
       "        vertical-align: top;\n",
       "    }\n",
       "\n",
       "    .dataframe thead th {\n",
       "        text-align: right;\n",
       "    }\n",
       "</style>\n",
       "<table border=\"1\" class=\"dataframe\">\n",
       "  <thead>\n",
       "    <tr style=\"text-align: right;\">\n",
       "      <th></th>\n",
       "      <th>PARENT NAME</th>\n",
       "      <th>STORE COUNT</th>\n",
       "      <th>Percent</th>\n",
       "    </tr>\n",
       "  </thead>\n",
       "  <tbody>\n",
       "    <tr>\n",
       "      <th>0</th>\n",
       "      <td>ALBERTSONS</td>\n",
       "      <td>188</td>\n",
       "      <td>7.062359</td>\n",
       "    </tr>\n",
       "    <tr>\n",
       "      <th>1</th>\n",
       "      <td>KROGER</td>\n",
       "      <td>100</td>\n",
       "      <td>3.756574</td>\n",
       "    </tr>\n",
       "    <tr>\n",
       "      <th>2</th>\n",
       "      <td>OTHER</td>\n",
       "      <td>2247</td>\n",
       "      <td>84.410218</td>\n",
       "    </tr>\n",
       "    <tr>\n",
       "      <th>3</th>\n",
       "      <td>WALMART</td>\n",
       "      <td>127</td>\n",
       "      <td>4.770849</td>\n",
       "    </tr>\n",
       "  </tbody>\n",
       "</table>\n",
       "</div>"
      ],
      "text/plain": [
       "  PARENT NAME  STORE COUNT    Percent\n",
       "0  ALBERTSONS          188   7.062359\n",
       "1      KROGER          100   3.756574\n",
       "2       OTHER         2247  84.410218\n",
       "3     WALMART          127   4.770849"
      ]
     },
     "execution_count": 46,
     "metadata": {},
     "output_type": "execute_result"
    }
   ],
   "source": [
    "#Finds the Percent of Brick and Mortar and Store Count for Each Major Parent Company and Other in IL\n",
    "store_count_il = supermarkets_2022_il.groupby('PARENT NAME').count()[[\"CITY\"]].reset_index().rename(columns={\"CITY\":\"STORE COUNT\"})\n",
    "store_count_il['Percent'] = store_count_il['STORE COUNT'] / supermarkets_2022_il.shape[0] * 100\n",
    "\n",
    "store_count_il\n",
    "\n",
    "#External Sources\n",
    "#ALBERTSONS: 188 Locations (Jewel-Osco) (wikipedia)\n",
    "#KROGER: 88 Total: \"31 grocery stores across 25 cities in Illinois\" (Kroger.com) + 44 Mariano's (Mariano's.com) + 13 Ruler Foods (google maps)\n",
    "#WALMART: 169 Total Retail Units not including discount stores (Supercenters; Neighborhood Markets; Sam's Club) (Walmart.com)\n",
    "#COSTCO: 23 Warehouses (Costco.com)\n",
    "#AHOLD DELHAIZE: 0 (wikipedia)"
   ]
  },
  {
   "cell_type": "markdown",
   "id": "f570bd7b-696a-4547-b0f9-cdf025f9284c",
   "metadata": {},
   "source": [
    "# Market Share"
   ]
  },
  {
   "cell_type": "code",
   "execution_count": 47,
   "id": "41b61cf7-0285-40d7-9a92-0134ad0022e7",
   "metadata": {},
   "outputs": [],
   "source": [
    "#to do: map groceries in country; map of metro area"
   ]
  },
  {
   "cell_type": "code",
   "execution_count": 48,
   "id": "52a53703-832b-4b9f-96b7-9b0de101c5b6",
   "metadata": {},
   "outputs": [],
   "source": [
    "#Market Share = (Bussines Rev/Total Industry Rev) x 100"
   ]
  },
  {
   "cell_type": "code",
   "execution_count": 49,
   "id": "b7f19ace-7c77-485f-8325-82a481980613",
   "metadata": {
    "tags": []
   },
   "outputs": [
    {
     "name": "stdout",
     "output_type": "stream",
     "text": [
      "OTHER TOTAL SALES: 641535248290.0\n"
     ]
    }
   ],
   "source": [
    "#If a store under the Parent Name Other had no PARENT ACTUAL SALES VOLUME recorded then we summed the total sales at each of that specific store's location and subsituted it in\n",
    "#FIND THE TOTAL SALES for the OTHER category\n",
    "other_sales = supermarkets_2022.loc[supermarkets_2022.loc[:, \"PARENT NAME\"]==\"OTHER\", [\"PARENT NUMBER\", \"PARENT ACTUAL EMPLOYEE SIZE\", \"PARENT ACTUAL SALES VOLUME\", \"SALES VOLUME (9) - LOCATION\"]]\n",
    "other_sales.loc[(other_sales.loc[:,\"PARENT ACTUAL SALES VOLUME\"].isna()),\"PARENT ACTUAL SALES VOLUME\"] = other_sales.loc[(other_sales.loc[:,\"PARENT ACTUAL SALES VOLUME\"].isna()),\"SALES VOLUME (9) - LOCATION\"] * 1000\n",
    "other_sales = other_sales.drop_duplicates()\n",
    "other_sales = other_sales.rename(columns={\"PARENT ACTUAL SALES VOLUME\":\"OTHER TOTAL SALES\"})\n",
    "\n",
    "other_sales_volume = other_sales[\"OTHER TOTAL SALES\"].sum()\n",
    "\n",
    "print(\"OTHER TOTAL SALES:\", other_sales_volume)"
   ]
  },
  {
   "cell_type": "markdown",
   "id": "b08b3854-01b9-4d0c-9416-d0b3f97af3f3",
   "metadata": {},
   "source": [
    "***NOTE Because the data is inconsistent and PARENT ACTUAL SALES do not corroborate with Fiscal Reports issued by Parent Companies we will be using actual net sales data provided by parent company annual reports; not the PARENT ACTUAL SALES VOLUME column***\n",
    "COSTCO: 85.6 Billion Food and Sundries (statista.com)\n",
    "WALMART: 218.944 Billion Groceries (walmart 2023 annual report)\n",
    "ALBERTSONS: 77.6497 Billion (ALBERTSONS 2023 annual report)\n",
    "KROGER: 148.3 Billion (Kroger)\n",
    "AHOLD DELHAIZE: .060464538 (in Billions) (AHOLD DElHAIZE) (US)\n",
    "\n",
    "Limitations: Albertsons Fiscal Report does not distinguish grocery stores and gas stations; Kroger owns 2 non-supermarket companies\n",
    "\n",
    "supermarkets_2022 PARENT ACTUAL SALES:\n",
    "COSTCO: 5098266.0\n",
    "WALMART: 572754000.0\n",
    "ALBERTSONS: NAN\n",
    "KROGER: 137888000.0\n",
    "AHOLD DELHAIZE: 44000000.0"
   ]
  },
  {
   "cell_type": "code",
   "execution_count": 50,
   "id": "580d922f-f4b3-4133-9fc9-e3334de123de",
   "metadata": {},
   "outputs": [
    {
     "name": "stderr",
     "output_type": "stream",
     "text": [
      "/tmp/ipykernel_1384831/3010909825.py:19: SettingWithCopyWarning: \n",
      "A value is trying to be set on a copy of a slice from a DataFrame.\n",
      "Try using .loc[row_indexer,col_indexer] = value instead\n",
      "\n",
      "See the caveats in the documentation: https://pandas.pydata.org/pandas-docs/stable/user_guide/indexing.html#returning-a-view-versus-a-copy\n",
      "  supermarkets_2022['PARENT TRUE SALES (BILLIONS)'] = supermarkets_2022.apply(true_sales, axis=1)\n"
     ]
    }
   ],
   "source": [
    "def true_sales(row):\n",
    "    '''Creates a new column called \"PARENT NAME\" based on the cleaned string match list''' \n",
    "    '''The new column generalizes individual companies into their parent coporation (ie. Walmart, Krogers, etc.)''' \n",
    "    companies = row['PARENT NAME']  \n",
    "    \n",
    "    if companies == \"WALMART\":\n",
    "        return 218.944\n",
    "    if companies == \"COSTCO\":\n",
    "        return 85.6\n",
    "    if companies == \"ALBERTSONS\":\n",
    "        return 77.6497\n",
    "    if companies == \"KROGER\":\n",
    "        return 148.3\n",
    "    if companies == \"AHOLD DELHAIZE\":\n",
    "        return .060464538\n",
    "    if companies == \"OTHER\":\n",
    "        return 641.535248\n",
    "\n",
    "supermarkets_2022['PARENT TRUE SALES (BILLIONS)'] = supermarkets_2022.apply(true_sales, axis=1)"
   ]
  },
  {
   "cell_type": "code",
   "execution_count": 88,
   "id": "e5b9057b-e553-4abf-bc8d-c25f1ae6a300",
   "metadata": {
    "tags": []
   },
   "outputs": [
    {
     "data": {
      "application/vnd.plotly.v1+json": {
       "config": {
        "plotlyServerURL": "https://plot.ly"
       },
       "data": [
        {
         "alignmentgroup": "True",
         "hovertemplate": "PARENT NAME=%{x}<br>PERCENT=%{y}<extra></extra>",
         "legendgroup": "",
         "marker": {
          "color": "#636efa",
          "pattern": {
           "shape": ""
          }
         },
         "name": "",
         "offsetgroup": "",
         "orientation": "v",
         "showlegend": false,
         "textposition": "auto",
         "type": "bar",
         "x": [
          "OTHER",
          "KROGER",
          "WALMART",
          "ALBERTSONS",
          "COSTCO"
         ],
         "xaxis": "x",
         "y": [
          54.73432667656667,
          12.652618342390499,
          18.679803576239685,
          6.624895606885499,
          7.3031971012044945
         ],
         "yaxis": "y"
        }
       ],
       "layout": {
        "autosize": true,
        "barmode": "relative",
        "legend": {
         "tracegroupgap": 0
        },
        "template": {
         "data": {
          "bar": [
           {
            "error_x": {
             "color": "#2a3f5f"
            },
            "error_y": {
             "color": "#2a3f5f"
            },
            "marker": {
             "line": {
              "color": "#E5ECF6",
              "width": 0.5
             },
             "pattern": {
              "fillmode": "overlay",
              "size": 10,
              "solidity": 0.2
             }
            },
            "type": "bar"
           }
          ],
          "barpolar": [
           {
            "marker": {
             "line": {
              "color": "#E5ECF6",
              "width": 0.5
             },
             "pattern": {
              "fillmode": "overlay",
              "size": 10,
              "solidity": 0.2
             }
            },
            "type": "barpolar"
           }
          ],
          "carpet": [
           {
            "aaxis": {
             "endlinecolor": "#2a3f5f",
             "gridcolor": "white",
             "linecolor": "white",
             "minorgridcolor": "white",
             "startlinecolor": "#2a3f5f"
            },
            "baxis": {
             "endlinecolor": "#2a3f5f",
             "gridcolor": "white",
             "linecolor": "white",
             "minorgridcolor": "white",
             "startlinecolor": "#2a3f5f"
            },
            "type": "carpet"
           }
          ],
          "choropleth": [
           {
            "colorbar": {
             "outlinewidth": 0,
             "ticks": ""
            },
            "type": "choropleth"
           }
          ],
          "contour": [
           {
            "colorbar": {
             "outlinewidth": 0,
             "ticks": ""
            },
            "colorscale": [
             [
              0,
              "#0d0887"
             ],
             [
              0.1111111111111111,
              "#46039f"
             ],
             [
              0.2222222222222222,
              "#7201a8"
             ],
             [
              0.3333333333333333,
              "#9c179e"
             ],
             [
              0.4444444444444444,
              "#bd3786"
             ],
             [
              0.5555555555555556,
              "#d8576b"
             ],
             [
              0.6666666666666666,
              "#ed7953"
             ],
             [
              0.7777777777777778,
              "#fb9f3a"
             ],
             [
              0.8888888888888888,
              "#fdca26"
             ],
             [
              1,
              "#f0f921"
             ]
            ],
            "type": "contour"
           }
          ],
          "contourcarpet": [
           {
            "colorbar": {
             "outlinewidth": 0,
             "ticks": ""
            },
            "type": "contourcarpet"
           }
          ],
          "heatmap": [
           {
            "colorbar": {
             "outlinewidth": 0,
             "ticks": ""
            },
            "colorscale": [
             [
              0,
              "#0d0887"
             ],
             [
              0.1111111111111111,
              "#46039f"
             ],
             [
              0.2222222222222222,
              "#7201a8"
             ],
             [
              0.3333333333333333,
              "#9c179e"
             ],
             [
              0.4444444444444444,
              "#bd3786"
             ],
             [
              0.5555555555555556,
              "#d8576b"
             ],
             [
              0.6666666666666666,
              "#ed7953"
             ],
             [
              0.7777777777777778,
              "#fb9f3a"
             ],
             [
              0.8888888888888888,
              "#fdca26"
             ],
             [
              1,
              "#f0f921"
             ]
            ],
            "type": "heatmap"
           }
          ],
          "heatmapgl": [
           {
            "colorbar": {
             "outlinewidth": 0,
             "ticks": ""
            },
            "colorscale": [
             [
              0,
              "#0d0887"
             ],
             [
              0.1111111111111111,
              "#46039f"
             ],
             [
              0.2222222222222222,
              "#7201a8"
             ],
             [
              0.3333333333333333,
              "#9c179e"
             ],
             [
              0.4444444444444444,
              "#bd3786"
             ],
             [
              0.5555555555555556,
              "#d8576b"
             ],
             [
              0.6666666666666666,
              "#ed7953"
             ],
             [
              0.7777777777777778,
              "#fb9f3a"
             ],
             [
              0.8888888888888888,
              "#fdca26"
             ],
             [
              1,
              "#f0f921"
             ]
            ],
            "type": "heatmapgl"
           }
          ],
          "histogram": [
           {
            "marker": {
             "pattern": {
              "fillmode": "overlay",
              "size": 10,
              "solidity": 0.2
             }
            },
            "type": "histogram"
           }
          ],
          "histogram2d": [
           {
            "colorbar": {
             "outlinewidth": 0,
             "ticks": ""
            },
            "colorscale": [
             [
              0,
              "#0d0887"
             ],
             [
              0.1111111111111111,
              "#46039f"
             ],
             [
              0.2222222222222222,
              "#7201a8"
             ],
             [
              0.3333333333333333,
              "#9c179e"
             ],
             [
              0.4444444444444444,
              "#bd3786"
             ],
             [
              0.5555555555555556,
              "#d8576b"
             ],
             [
              0.6666666666666666,
              "#ed7953"
             ],
             [
              0.7777777777777778,
              "#fb9f3a"
             ],
             [
              0.8888888888888888,
              "#fdca26"
             ],
             [
              1,
              "#f0f921"
             ]
            ],
            "type": "histogram2d"
           }
          ],
          "histogram2dcontour": [
           {
            "colorbar": {
             "outlinewidth": 0,
             "ticks": ""
            },
            "colorscale": [
             [
              0,
              "#0d0887"
             ],
             [
              0.1111111111111111,
              "#46039f"
             ],
             [
              0.2222222222222222,
              "#7201a8"
             ],
             [
              0.3333333333333333,
              "#9c179e"
             ],
             [
              0.4444444444444444,
              "#bd3786"
             ],
             [
              0.5555555555555556,
              "#d8576b"
             ],
             [
              0.6666666666666666,
              "#ed7953"
             ],
             [
              0.7777777777777778,
              "#fb9f3a"
             ],
             [
              0.8888888888888888,
              "#fdca26"
             ],
             [
              1,
              "#f0f921"
             ]
            ],
            "type": "histogram2dcontour"
           }
          ],
          "mesh3d": [
           {
            "colorbar": {
             "outlinewidth": 0,
             "ticks": ""
            },
            "type": "mesh3d"
           }
          ],
          "parcoords": [
           {
            "line": {
             "colorbar": {
              "outlinewidth": 0,
              "ticks": ""
             }
            },
            "type": "parcoords"
           }
          ],
          "pie": [
           {
            "automargin": true,
            "type": "pie"
           }
          ],
          "scatter": [
           {
            "fillpattern": {
             "fillmode": "overlay",
             "size": 10,
             "solidity": 0.2
            },
            "type": "scatter"
           }
          ],
          "scatter3d": [
           {
            "line": {
             "colorbar": {
              "outlinewidth": 0,
              "ticks": ""
             }
            },
            "marker": {
             "colorbar": {
              "outlinewidth": 0,
              "ticks": ""
             }
            },
            "type": "scatter3d"
           }
          ],
          "scattercarpet": [
           {
            "marker": {
             "colorbar": {
              "outlinewidth": 0,
              "ticks": ""
             }
            },
            "type": "scattercarpet"
           }
          ],
          "scattergeo": [
           {
            "marker": {
             "colorbar": {
              "outlinewidth": 0,
              "ticks": ""
             }
            },
            "type": "scattergeo"
           }
          ],
          "scattergl": [
           {
            "marker": {
             "colorbar": {
              "outlinewidth": 0,
              "ticks": ""
             }
            },
            "type": "scattergl"
           }
          ],
          "scattermapbox": [
           {
            "marker": {
             "colorbar": {
              "outlinewidth": 0,
              "ticks": ""
             }
            },
            "type": "scattermapbox"
           }
          ],
          "scatterpolar": [
           {
            "marker": {
             "colorbar": {
              "outlinewidth": 0,
              "ticks": ""
             }
            },
            "type": "scatterpolar"
           }
          ],
          "scatterpolargl": [
           {
            "marker": {
             "colorbar": {
              "outlinewidth": 0,
              "ticks": ""
             }
            },
            "type": "scatterpolargl"
           }
          ],
          "scatterternary": [
           {
            "marker": {
             "colorbar": {
              "outlinewidth": 0,
              "ticks": ""
             }
            },
            "type": "scatterternary"
           }
          ],
          "surface": [
           {
            "colorbar": {
             "outlinewidth": 0,
             "ticks": ""
            },
            "colorscale": [
             [
              0,
              "#0d0887"
             ],
             [
              0.1111111111111111,
              "#46039f"
             ],
             [
              0.2222222222222222,
              "#7201a8"
             ],
             [
              0.3333333333333333,
              "#9c179e"
             ],
             [
              0.4444444444444444,
              "#bd3786"
             ],
             [
              0.5555555555555556,
              "#d8576b"
             ],
             [
              0.6666666666666666,
              "#ed7953"
             ],
             [
              0.7777777777777778,
              "#fb9f3a"
             ],
             [
              0.8888888888888888,
              "#fdca26"
             ],
             [
              1,
              "#f0f921"
             ]
            ],
            "type": "surface"
           }
          ],
          "table": [
           {
            "cells": {
             "fill": {
              "color": "#EBF0F8"
             },
             "line": {
              "color": "white"
             }
            },
            "header": {
             "fill": {
              "color": "#C8D4E3"
             },
             "line": {
              "color": "white"
             }
            },
            "type": "table"
           }
          ]
         },
         "layout": {
          "annotationdefaults": {
           "arrowcolor": "#2a3f5f",
           "arrowhead": 0,
           "arrowwidth": 1
          },
          "autotypenumbers": "strict",
          "coloraxis": {
           "colorbar": {
            "outlinewidth": 0,
            "ticks": ""
           }
          },
          "colorscale": {
           "diverging": [
            [
             0,
             "#8e0152"
            ],
            [
             0.1,
             "#c51b7d"
            ],
            [
             0.2,
             "#de77ae"
            ],
            [
             0.3,
             "#f1b6da"
            ],
            [
             0.4,
             "#fde0ef"
            ],
            [
             0.5,
             "#f7f7f7"
            ],
            [
             0.6,
             "#e6f5d0"
            ],
            [
             0.7,
             "#b8e186"
            ],
            [
             0.8,
             "#7fbc41"
            ],
            [
             0.9,
             "#4d9221"
            ],
            [
             1,
             "#276419"
            ]
           ],
           "sequential": [
            [
             0,
             "#0d0887"
            ],
            [
             0.1111111111111111,
             "#46039f"
            ],
            [
             0.2222222222222222,
             "#7201a8"
            ],
            [
             0.3333333333333333,
             "#9c179e"
            ],
            [
             0.4444444444444444,
             "#bd3786"
            ],
            [
             0.5555555555555556,
             "#d8576b"
            ],
            [
             0.6666666666666666,
             "#ed7953"
            ],
            [
             0.7777777777777778,
             "#fb9f3a"
            ],
            [
             0.8888888888888888,
             "#fdca26"
            ],
            [
             1,
             "#f0f921"
            ]
           ],
           "sequentialminus": [
            [
             0,
             "#0d0887"
            ],
            [
             0.1111111111111111,
             "#46039f"
            ],
            [
             0.2222222222222222,
             "#7201a8"
            ],
            [
             0.3333333333333333,
             "#9c179e"
            ],
            [
             0.4444444444444444,
             "#bd3786"
            ],
            [
             0.5555555555555556,
             "#d8576b"
            ],
            [
             0.6666666666666666,
             "#ed7953"
            ],
            [
             0.7777777777777778,
             "#fb9f3a"
            ],
            [
             0.8888888888888888,
             "#fdca26"
            ],
            [
             1,
             "#f0f921"
            ]
           ]
          },
          "colorway": [
           "#636efa",
           "#EF553B",
           "#00cc96",
           "#ab63fa",
           "#FFA15A",
           "#19d3f3",
           "#FF6692",
           "#B6E880",
           "#FF97FF",
           "#FECB52"
          ],
          "font": {
           "color": "#2a3f5f"
          },
          "geo": {
           "bgcolor": "white",
           "lakecolor": "white",
           "landcolor": "#E5ECF6",
           "showlakes": true,
           "showland": true,
           "subunitcolor": "white"
          },
          "hoverlabel": {
           "align": "left"
          },
          "hovermode": "closest",
          "mapbox": {
           "style": "light"
          },
          "paper_bgcolor": "white",
          "plot_bgcolor": "#E5ECF6",
          "polar": {
           "angularaxis": {
            "gridcolor": "white",
            "linecolor": "white",
            "ticks": ""
           },
           "bgcolor": "#E5ECF6",
           "radialaxis": {
            "gridcolor": "white",
            "linecolor": "white",
            "ticks": ""
           }
          },
          "scene": {
           "xaxis": {
            "backgroundcolor": "#E5ECF6",
            "gridcolor": "white",
            "gridwidth": 2,
            "linecolor": "white",
            "showbackground": true,
            "ticks": "",
            "zerolinecolor": "white"
           },
           "yaxis": {
            "backgroundcolor": "#E5ECF6",
            "gridcolor": "white",
            "gridwidth": 2,
            "linecolor": "white",
            "showbackground": true,
            "ticks": "",
            "zerolinecolor": "white"
           },
           "zaxis": {
            "backgroundcolor": "#E5ECF6",
            "gridcolor": "white",
            "gridwidth": 2,
            "linecolor": "white",
            "showbackground": true,
            "ticks": "",
            "zerolinecolor": "white"
           }
          },
          "shapedefaults": {
           "line": {
            "color": "#2a3f5f"
           }
          },
          "ternary": {
           "aaxis": {
            "gridcolor": "white",
            "linecolor": "white",
            "ticks": ""
           },
           "baxis": {
            "gridcolor": "white",
            "linecolor": "white",
            "ticks": ""
           },
           "bgcolor": "#E5ECF6",
           "caxis": {
            "gridcolor": "white",
            "linecolor": "white",
            "ticks": ""
           }
          },
          "title": {
           "x": 0.05
          },
          "xaxis": {
           "automargin": true,
           "gridcolor": "white",
           "linecolor": "white",
           "ticks": "",
           "title": {
            "standoff": 15
           },
           "zerolinecolor": "white",
           "zerolinewidth": 2
          },
          "yaxis": {
           "automargin": true,
           "gridcolor": "white",
           "linecolor": "white",
           "ticks": "",
           "title": {
            "standoff": 15
           },
           "zerolinecolor": "white",
           "zerolinewidth": 2
          }
         }
        },
        "title": {
         "text": "US GROCERY MARKET SHARE (2022)"
        },
        "xaxis": {
         "anchor": "y",
         "autorange": true,
         "domain": [
          0,
          1
         ],
         "range": [
          -0.5,
          4.5
         ],
         "title": {
          "text": "PARENT NAME"
         },
         "type": "category"
        },
        "yaxis": {
         "anchor": "x",
         "autorange": true,
         "domain": [
          0,
          1
         ],
         "range": [
          0,
          57.61508071217544
         ],
         "title": {
          "text": "PERCENT"
         },
         "type": "linear"
        }
       }
      },
      "image/png": "[encoded data removed]",
      "text/html": [
       "<div>                            <div id=\"6695888d-cc94-437f-ba32-16d54e5a31c5\" class=\"plotly-graph-div\" style=\"height:525px; width:100%;\"></div>            <script type=\"text/javascript\">                require([\"plotly\"], function(Plotly) {                    window.PLOTLYENV=window.PLOTLYENV || {};                                    if (document.getElementById(\"6695888d-cc94-437f-ba32-16d54e5a31c5\")) {                    Plotly.newPlot(                        \"6695888d-cc94-437f-ba32-16d54e5a31c5\",                        [{\"alignmentgroup\":\"True\",\"hovertemplate\":\"PARENT NAME=%{x}\\u003cbr\\u003ePERCENT=%{y}\\u003cextra\\u003e\\u003c\\u002fextra\\u003e\",\"legendgroup\":\"\",\"marker\":{\"color\":\"#636efa\",\"pattern\":{\"shape\":\"\"}},\"name\":\"\",\"offsetgroup\":\"\",\"orientation\":\"v\",\"showlegend\":false,\"textposition\":\"auto\",\"x\":[\"OTHER\",\"KROGER\",\"WALMART\",\"ALBERTSONS\",\"COSTCO\"],\"xaxis\":\"x\",\"y\":[54.73432667656667,12.652618342390499,18.679803576239685,6.624895606885499,7.3031971012044945],\"yaxis\":\"y\",\"type\":\"bar\"}],                        {\"template\":{\"data\":{\"histogram2dcontour\":[{\"type\":\"histogram2dcontour\",\"colorbar\":{\"outlinewidth\":0,\"ticks\":\"\"},\"colorscale\":[[0.0,\"#0d0887\"],[0.1111111111111111,\"#46039f\"],[0.2222222222222222,\"#7201a8\"],[0.3333333333333333,\"#9c179e\"],[0.4444444444444444,\"#bd3786\"],[0.5555555555555556,\"#d8576b\"],[0.6666666666666666,\"#ed7953\"],[0.7777777777777778,\"#fb9f3a\"],[0.8888888888888888,\"#fdca26\"],[1.0,\"#f0f921\"]]}],\"choropleth\":[{\"type\":\"choropleth\",\"colorbar\":{\"outlinewidth\":0,\"ticks\":\"\"}}],\"histogram2d\":[{\"type\":\"histogram2d\",\"colorbar\":{\"outlinewidth\":0,\"ticks\":\"\"},\"colorscale\":[[0.0,\"#0d0887\"],[0.1111111111111111,\"#46039f\"],[0.2222222222222222,\"#7201a8\"],[0.3333333333333333,\"#9c179e\"],[0.4444444444444444,\"#bd3786\"],[0.5555555555555556,\"#d8576b\"],[0.6666666666666666,\"#ed7953\"],[0.7777777777777778,\"#fb9f3a\"],[0.8888888888888888,\"#fdca26\"],[1.0,\"#f0f921\"]]}],\"heatmap\":[{\"type\":\"heatmap\",\"colorbar\":{\"outlinewidth\":0,\"ticks\":\"\"},\"colorscale\":[[0.0,\"#0d0887\"],[0.1111111111111111,\"#46039f\"],[0.2222222222222222,\"#7201a8\"],[0.3333333333333333,\"#9c179e\"],[0.4444444444444444,\"#bd3786\"],[0.5555555555555556,\"#d8576b\"],[0.6666666666666666,\"#ed7953\"],[0.7777777777777778,\"#fb9f3a\"],[0.8888888888888888,\"#fdca26\"],[1.0,\"#f0f921\"]]}],\"heatmapgl\":[{\"type\":\"heatmapgl\",\"colorbar\":{\"outlinewidth\":0,\"ticks\":\"\"},\"colorscale\":[[0.0,\"#0d0887\"],[0.1111111111111111,\"#46039f\"],[0.2222222222222222,\"#7201a8\"],[0.3333333333333333,\"#9c179e\"],[0.4444444444444444,\"#bd3786\"],[0.5555555555555556,\"#d8576b\"],[0.6666666666666666,\"#ed7953\"],[0.7777777777777778,\"#fb9f3a\"],[0.8888888888888888,\"#fdca26\"],[1.0,\"#f0f921\"]]}],\"contourcarpet\":[{\"type\":\"contourcarpet\",\"colorbar\":{\"outlinewidth\":0,\"ticks\":\"\"}}],\"contour\":[{\"type\":\"contour\",\"colorbar\":{\"outlinewidth\":0,\"ticks\":\"\"},\"colorscale\":[[0.0,\"#0d0887\"],[0.1111111111111111,\"#46039f\"],[0.2222222222222222,\"#7201a8\"],[0.3333333333333333,\"#9c179e\"],[0.4444444444444444,\"#bd3786\"],[0.5555555555555556,\"#d8576b\"],[0.6666666666666666,\"#ed7953\"],[0.7777777777777778,\"#fb9f3a\"],[0.8888888888888888,\"#fdca26\"],[1.0,\"#f0f921\"]]}],\"surface\":[{\"type\":\"surface\",\"colorbar\":{\"outlinewidth\":0,\"ticks\":\"\"},\"colorscale\":[[0.0,\"#0d0887\"],[0.1111111111111111,\"#46039f\"],[0.2222222222222222,\"#7201a8\"],[0.3333333333333333,\"#9c179e\"],[0.4444444444444444,\"#bd3786\"],[0.5555555555555556,\"#d8576b\"],[0.6666666666666666,\"#ed7953\"],[0.7777777777777778,\"#fb9f3a\"],[0.8888888888888888,\"#fdca26\"],[1.0,\"#f0f921\"]]}],\"mesh3d\":[{\"type\":\"mesh3d\",\"colorbar\":{\"outlinewidth\":0,\"ticks\":\"\"}}],\"scatter\":[{\"fillpattern\":{\"fillmode\":\"overlay\",\"size\":10,\"solidity\":0.2},\"type\":\"scatter\"}],\"parcoords\":[{\"type\":\"parcoords\",\"line\":{\"colorbar\":{\"outlinewidth\":0,\"ticks\":\"\"}}}],\"scatterpolargl\":[{\"type\":\"scatterpolargl\",\"marker\":{\"colorbar\":{\"outlinewidth\":0,\"ticks\":\"\"}}}],\"bar\":[{\"error_x\":{\"color\":\"#2a3f5f\"},\"error_y\":{\"color\":\"#2a3f5f\"},\"marker\":{\"line\":{\"color\":\"#E5ECF6\",\"width\":0.5},\"pattern\":{\"fillmode\":\"overlay\",\"size\":10,\"solidity\":0.2}},\"type\":\"bar\"}],\"scattergeo\":[{\"type\":\"scattergeo\",\"marker\":{\"colorbar\":{\"outlinewidth\":0,\"ticks\":\"\"}}}],\"scatterpolar\":[{\"type\":\"scatterpolar\",\"marker\":{\"colorbar\":{\"outlinewidth\":0,\"ticks\":\"\"}}}],\"histogram\":[{\"marker\":{\"pattern\":{\"fillmode\":\"overlay\",\"size\":10,\"solidity\":0.2}},\"type\":\"histogram\"}],\"scattergl\":[{\"type\":\"scattergl\",\"marker\":{\"colorbar\":{\"outlinewidth\":0,\"ticks\":\"\"}}}],\"scatter3d\":[{\"type\":\"scatter3d\",\"line\":{\"colorbar\":{\"outlinewidth\":0,\"ticks\":\"\"}},\"marker\":{\"colorbar\":{\"outlinewidth\":0,\"ticks\":\"\"}}}],\"scattermapbox\":[{\"type\":\"scattermapbox\",\"marker\":{\"colorbar\":{\"outlinewidth\":0,\"ticks\":\"\"}}}],\"scatterternary\":[{\"type\":\"scatterternary\",\"marker\":{\"colorbar\":{\"outlinewidth\":0,\"ticks\":\"\"}}}],\"scattercarpet\":[{\"type\":\"scattercarpet\",\"marker\":{\"colorbar\":{\"outlinewidth\":0,\"ticks\":\"\"}}}],\"carpet\":[{\"aaxis\":{\"endlinecolor\":\"#2a3f5f\",\"gridcolor\":\"white\",\"linecolor\":\"white\",\"minorgridcolor\":\"white\",\"startlinecolor\":\"#2a3f5f\"},\"baxis\":{\"endlinecolor\":\"#2a3f5f\",\"gridcolor\":\"white\",\"linecolor\":\"white\",\"minorgridcolor\":\"white\",\"startlinecolor\":\"#2a3f5f\"},\"type\":\"carpet\"}],\"table\":[{\"cells\":{\"fill\":{\"color\":\"#EBF0F8\"},\"line\":{\"color\":\"white\"}},\"header\":{\"fill\":{\"color\":\"#C8D4E3\"},\"line\":{\"color\":\"white\"}},\"type\":\"table\"}],\"barpolar\":[{\"marker\":{\"line\":{\"color\":\"#E5ECF6\",\"width\":0.5},\"pattern\":{\"fillmode\":\"overlay\",\"size\":10,\"solidity\":0.2}},\"type\":\"barpolar\"}],\"pie\":[{\"automargin\":true,\"type\":\"pie\"}]},\"layout\":{\"autotypenumbers\":\"strict\",\"colorway\":[\"#636efa\",\"#EF553B\",\"#00cc96\",\"#ab63fa\",\"#FFA15A\",\"#19d3f3\",\"#FF6692\",\"#B6E880\",\"#FF97FF\",\"#FECB52\"],\"font\":{\"color\":\"#2a3f5f\"},\"hovermode\":\"closest\",\"hoverlabel\":{\"align\":\"left\"},\"paper_bgcolor\":\"white\",\"plot_bgcolor\":\"#E5ECF6\",\"polar\":{\"bgcolor\":\"#E5ECF6\",\"angularaxis\":{\"gridcolor\":\"white\",\"linecolor\":\"white\",\"ticks\":\"\"},\"radialaxis\":{\"gridcolor\":\"white\",\"linecolor\":\"white\",\"ticks\":\"\"}},\"ternary\":{\"bgcolor\":\"#E5ECF6\",\"aaxis\":{\"gridcolor\":\"white\",\"linecolor\":\"white\",\"ticks\":\"\"},\"baxis\":{\"gridcolor\":\"white\",\"linecolor\":\"white\",\"ticks\":\"\"},\"caxis\":{\"gridcolor\":\"white\",\"linecolor\":\"white\",\"ticks\":\"\"}},\"coloraxis\":{\"colorbar\":{\"outlinewidth\":0,\"ticks\":\"\"}},\"colorscale\":{\"sequential\":[[0.0,\"#0d0887\"],[0.1111111111111111,\"#46039f\"],[0.2222222222222222,\"#7201a8\"],[0.3333333333333333,\"#9c179e\"],[0.4444444444444444,\"#bd3786\"],[0.5555555555555556,\"#d8576b\"],[0.6666666666666666,\"#ed7953\"],[0.7777777777777778,\"#fb9f3a\"],[0.8888888888888888,\"#fdca26\"],[1.0,\"#f0f921\"]],\"sequentialminus\":[[0.0,\"#0d0887\"],[0.1111111111111111,\"#46039f\"],[0.2222222222222222,\"#7201a8\"],[0.3333333333333333,\"#9c179e\"],[0.4444444444444444,\"#bd3786\"],[0.5555555555555556,\"#d8576b\"],[0.6666666666666666,\"#ed7953\"],[0.7777777777777778,\"#fb9f3a\"],[0.8888888888888888,\"#fdca26\"],[1.0,\"#f0f921\"]],\"diverging\":[[0,\"#8e0152\"],[0.1,\"#c51b7d\"],[0.2,\"#de77ae\"],[0.3,\"#f1b6da\"],[0.4,\"#fde0ef\"],[0.5,\"#f7f7f7\"],[0.6,\"#e6f5d0\"],[0.7,\"#b8e186\"],[0.8,\"#7fbc41\"],[0.9,\"#4d9221\"],[1,\"#276419\"]]},\"xaxis\":{\"gridcolor\":\"white\",\"linecolor\":\"white\",\"ticks\":\"\",\"title\":{\"standoff\":15},\"zerolinecolor\":\"white\",\"automargin\":true,\"zerolinewidth\":2},\"yaxis\":{\"gridcolor\":\"white\",\"linecolor\":\"white\",\"ticks\":\"\",\"title\":{\"standoff\":15},\"zerolinecolor\":\"white\",\"automargin\":true,\"zerolinewidth\":2},\"scene\":{\"xaxis\":{\"backgroundcolor\":\"#E5ECF6\",\"gridcolor\":\"white\",\"linecolor\":\"white\",\"showbackground\":true,\"ticks\":\"\",\"zerolinecolor\":\"white\",\"gridwidth\":2},\"yaxis\":{\"backgroundcolor\":\"#E5ECF6\",\"gridcolor\":\"white\",\"linecolor\":\"white\",\"showbackground\":true,\"ticks\":\"\",\"zerolinecolor\":\"white\",\"gridwidth\":2},\"zaxis\":{\"backgroundcolor\":\"#E5ECF6\",\"gridcolor\":\"white\",\"linecolor\":\"white\",\"showbackground\":true,\"ticks\":\"\",\"zerolinecolor\":\"white\",\"gridwidth\":2}},\"shapedefaults\":{\"line\":{\"color\":\"#2a3f5f\"}},\"annotationdefaults\":{\"arrowcolor\":\"#2a3f5f\",\"arrowhead\":0,\"arrowwidth\":1},\"geo\":{\"bgcolor\":\"white\",\"landcolor\":\"#E5ECF6\",\"subunitcolor\":\"white\",\"showland\":true,\"showlakes\":true,\"lakecolor\":\"white\"},\"title\":{\"x\":0.05},\"mapbox\":{\"style\":\"light\"}}},\"xaxis\":{\"anchor\":\"y\",\"domain\":[0.0,1.0],\"title\":{\"text\":\"PARENT NAME\"}},\"yaxis\":{\"anchor\":\"x\",\"domain\":[0.0,1.0],\"title\":{\"text\":\"PERCENT\"}},\"legend\":{\"tracegroupgap\":0},\"title\":{\"text\":\"US GROCERY MARKET SHARE (2022)\"},\"barmode\":\"relative\"},                        {\"responsive\": true}                    ).then(function(){\n",
       "                            \n",
       "var gd = document.getElementById('6695888d-cc94-437f-ba32-16d54e5a31c5');\n",
       "var x = new MutationObserver(function (mutations, observer) {{\n",
       "        var display = window.getComputedStyle(gd).display;\n",
       "        if (!display || display === 'none') {{\n",
       "            console.log([gd, 'removed!']);\n",
       "            Plotly.purge(gd);\n",
       "            observer.disconnect();\n",
       "        }}\n",
       "}});\n",
       "\n",
       "// Listen for the removal of the full notebook cells\n",
       "var notebookContainer = gd.closest('#notebook-container');\n",
       "if (notebookContainer) {{\n",
       "    x.observe(notebookContainer, {childList: true});\n",
       "}}\n",
       "\n",
       "// Listen for the clearing of the current output cell\n",
       "var outputEl = gd.closest('.output');\n",
       "if (outputEl) {{\n",
       "    x.observe(outputEl, {childList: true});\n",
       "}}\n",
       "\n",
       "                        })                };                });            </script>        </div>"
      ]
     },
     "metadata": {},
     "output_type": "display_data"
    }
   ],
   "source": [
    "### Market Share = (Bussines Rev/Total Industry Rev) x 100\n",
    "### Decided to Drop AHOLD DELHAIZE since it is insignifcant in terms of its value of 0.06 billion\n",
    "market_share = supermarkets_2022.iloc[:,[-2,-1]]\n",
    "market_share = market_share.drop_duplicates().reset_index().drop(columns=\"index\").rename(columns={\"PARENT TRUE SALES (BILLIONS)\":\"SALES (BILLIONS)\"})\n",
    "market_share[\"PERCENT\"] = (market_share[\"SALES (BILLIONS)\"] / market_share[\"SALES (BILLIONS)\"].sum()) * 100\n",
    "market_share.drop([4],inplace=True) \n",
    "\n",
    "fig = px.bar(market_share, x='PARENT NAME', y='PERCENT',title=\"US GROCERY MARKET SHARE (2022)\")\n",
    "fig.show()"
   ]
  },
  {
   "cell_type": "code",
   "execution_count": 89,
   "id": "3126d5a9-e463-4453-8ad8-b98ea68d6dd7",
   "metadata": {
    "tags": []
   },
   "outputs": [
    {
     "data": {
      "text/html": [
       "<div>\n",
       "<style scoped>\n",
       "    .dataframe tbody tr th:only-of-type {\n",
       "        vertical-align: middle;\n",
       "    }\n",
       "\n",
       "    .dataframe tbody tr th {\n",
       "        vertical-align: top;\n",
       "    }\n",
       "\n",
       "    .dataframe thead th {\n",
       "        text-align: right;\n",
       "    }\n",
       "</style>\n",
       "<table border=\"1\" class=\"dataframe\">\n",
       "  <thead>\n",
       "    <tr style=\"text-align: right;\">\n",
       "      <th></th>\n",
       "      <th>PARENT NAME</th>\n",
       "      <th>SALES (BILLIONS)</th>\n",
       "      <th>PERCENT</th>\n",
       "    </tr>\n",
       "  </thead>\n",
       "  <tbody>\n",
       "    <tr>\n",
       "      <th>0</th>\n",
       "      <td>OTHER</td>\n",
       "      <td>641.535248</td>\n",
       "      <td>54.734327</td>\n",
       "    </tr>\n",
       "    <tr>\n",
       "      <th>1</th>\n",
       "      <td>KROGER</td>\n",
       "      <td>148.300000</td>\n",
       "      <td>12.652618</td>\n",
       "    </tr>\n",
       "    <tr>\n",
       "      <th>2</th>\n",
       "      <td>WALMART</td>\n",
       "      <td>218.944000</td>\n",
       "      <td>18.679804</td>\n",
       "    </tr>\n",
       "    <tr>\n",
       "      <th>3</th>\n",
       "      <td>ALBERTSONS</td>\n",
       "      <td>77.649700</td>\n",
       "      <td>6.624896</td>\n",
       "    </tr>\n",
       "    <tr>\n",
       "      <th>5</th>\n",
       "      <td>COSTCO</td>\n",
       "      <td>85.600000</td>\n",
       "      <td>7.303197</td>\n",
       "    </tr>\n",
       "  </tbody>\n",
       "</table>\n",
       "</div>"
      ],
      "text/plain": [
       "  PARENT NAME  SALES (BILLIONS)    PERCENT\n",
       "0       OTHER        641.535248  54.734327\n",
       "1      KROGER        148.300000  12.652618\n",
       "2     WALMART        218.944000  18.679804\n",
       "3  ALBERTSONS         77.649700   6.624896\n",
       "5      COSTCO         85.600000   7.303197"
      ]
     },
     "execution_count": 89,
     "metadata": {},
     "output_type": "execute_result"
    }
   ],
   "source": [
    "market_share"
   ]
  }
 ],
 "metadata": {
  "kernelspec": {
   "display_name": "Python 3 (ipykernel)",
   "language": "python",
   "name": "python3"
  },
  "language_info": {
   "codemirror_mode": {
    "name": "ipython",
    "version": 3
   },
   "file_extension": ".py",
   "mimetype": "text/x-python",
   "name": "python",
   "nbconvert_exporter": "python",
   "pygments_lexer": "ipython3",
   "version": "3.9.7"
  }
 },
 "nbformat": 4,
 "nbformat_minor": 5
}
