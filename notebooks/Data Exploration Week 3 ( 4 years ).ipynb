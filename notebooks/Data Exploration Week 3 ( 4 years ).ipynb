{
 "cells": [
  {
   "cell_type": "markdown",
   "id": "b39bf035-4a69-46b7-9841-3d89cc8d23f1",
   "metadata": {},
   "source": [
    "## Start date : July 10th, 2023 \n",
    "\n",
    "### Data Exploration of 2018, 2019, 2020, 2022 Business Data\n",
    "\n",
    "Author : Kenthia\n",
    "\n",
    "Goals:"
   ]
  },
  {
   "cell_type": "code",
   "execution_count": null,
   "id": "ae075ccc-8f50-4914-88f6-3b5834f42db1",
   "metadata": {
    "tags": []
   },
   "outputs": [],
   "source": [
    "import pandas as pd\n",
    "import numpy as np\n",
    "import matplotlib.pyplot as plt\n",
    "import geopandas as gpd\n",
    "pd.set_option('display.max_columns', None)\n",
    "from shapely.geometry import Point\n",
    "import fiona\n",
    "import math\n",
    "import plotly.express as px\n",
    "from thefuzz import fuzz\n",
    "from thefuzz import process"
   ]
  },
  {
   "cell_type": "markdown",
   "id": "722266de-0a69-4423-87b8-67b068f4bc38",
   "metadata": {},
   "source": [
    "# 2018 DATA"
   ]
  },
  {
   "cell_type": "code",
   "execution_count": null,
   "id": "51cd5120-4ce8-4c26-8f95-649cede29d1e",
   "metadata": {
    "tags": []
   },
   "outputs": [],
   "source": [
    "#reading in the dataset \n",
    "\n",
    "stores_2018 = pd.read_csv('/srv/data/my_shared_data_folder/rafi/2018_Business_Academic_QCQ_grocery.csv')\n",
    "stores_2018.drop(['Unnamed: 0'],inplace=True,axis=1)\n",
    "territories = ['PR', 'FM', 'MP', 'GU', 'VI', 'MH']\n",
    "stores_2018 = stores_2018.drop(stores_2018[stores_2018['STATE'].isin(territories)].index)\n",
    "stores_2018.head()"
   ]
  },
  {
   "cell_type": "code",
   "execution_count": null,
   "id": "567855d1-4133-4055-a499-fc22bfc74e74",
   "metadata": {
    "tags": []
   },
   "outputs": [],
   "source": [
    "#Cleaned lists from the string matches of supermarkets/companies actually owned by the parent coprporation\n",
    "#***NOTE***There will be a margin of error from this process because stores were validated through manual checks\n",
    "#***NOTE***It was unrealistic to manually inspect every store generated this way so there will be supermarkets/companies that do not actually belong to the parent coporation\n",
    "#***NOTE***STOP AND SHOP SUPERMARKET was missing from string match so it was manually added\n",
    "#KROGERS FINAL\n",
    "kroger_clean = [\"BAKER'S\",\n",
    " 'BAKERS', \n",
    " 'CITY MARKET',\n",
    " 'DILLONS',\n",
    " 'FOOD 4 LESS', \n",
    " 'FOODS CO', \n",
    " 'FRED MEYER', \n",
    " \"FRY'S FOOD\",\n",
    " 'GERBES SUPER MARKET',  \n",
    " 'GERBES SUPER MARKETS', \n",
    " 'GERBES SUPERMARKET', \n",
    " 'HARRIS TEETER', \n",
    " 'JAYC', \n",
    " 'KING SOOPERS',\n",
    " 'KROGER',\n",
    " \"MARIANO'S\",\n",
    " 'METRO MARKET', \n",
    " 'PAY LESS SUPER MARKETS',\n",
    " \"PICK'N SAVE\", \n",
    " 'QFC', \n",
    " 'RALPHS', \n",
    " 'RULER FOODS', \n",
    " \"SMITH'S\"]\n",
    "\n",
    "#Ahold Delhaize FINAL:\n",
    "ahold_clean = [ 'FOOD LION',\n",
    " 'GIANT',\n",
    " 'GIANT EAGLE',\n",
    " 'GIANT FOOD',\n",
    " 'HANNAFORD',\n",
    " 'STOP & SHOP',\n",
    " 'BFRESH MARKET',\n",
    " 'EASTSIDE MARKETPLACE','STOP & SHOP SUPERMARKET']\n",
    "\n",
    "#WALMART FINAL:\n",
    "walmart_clean = ['WALMART GROCERY PICKUP',\n",
    " 'WALMART GROCERY PKUP-DELIVERY', \n",
    " \"SAM'S CLUB DELI\"]\n",
    "\n",
    "#COSTCO FINAL:\n",
    "costco_clean = [\"COSTCO DELI\"]\n",
    "\n",
    "#ALBERTSONS FINAL:\n",
    "albertsons_clean = ['ACME MARKETS',\n",
    "'ALBERTSONS',\n",
    "'ALBERTSONS MARKET',\n",
    "'AMIGOS UNITED',\n",
    "\"ANDRONICO'S COMMUNITY MARKETS\",\n",
    "'CARRS/SAFEWAY',\n",
    "'CARRS SAFEWAY',\n",
    "'HAGGEN',\n",
    "'HAGGEN FOOD & PHARMACY',\n",
    "'HAGGEN FOOD',\n",
    "'JEWEL-OSCO',\n",
    "'KINGS FOOD MARKETS',\n",
    "'KINGS FOOD MARKET',\n",
    "'MARKET STREET',\n",
    "\"PAK 'N SAVE\",\n",
    "'PAVILIONS',\n",
    "'RANDALLS',\n",
    "'SAFEWAY',\n",
    "'STAR MARKET',\n",
    "'TOM THUMB',\n",
    "'UNITED SUPERMARKETS',\n",
    "'VONS',\n",
    "'SUPER SAVER',\n",
    "'CARRS QUALITY CTR PALMER SHPG',\n",
    " \"SAAR'S SUPER SAVER FOODS\"]"
   ]
  },
  {
   "cell_type": "code",
   "execution_count": null,
   "id": "f6fab1d0-6ebc-496b-a9a6-c71e3a75a0ed",
   "metadata": {
    "tags": []
   },
   "outputs": [],
   "source": [
    "#placing function here to run storecount below on grocery_naics\n",
    "\n",
    "\n",
    "def parent_name(row):\n",
    "    '''Creates a new column called \"PARENT NAME\" based on the cleaned string match list''' \n",
    "    '''The new column generalizes individual companies into their parent coporation (ie. Walmart, Krogers, etc.)''' \n",
    "    companies = row['COMPANY']  \n",
    "    \n",
    "    if companies in walmart_clean:\n",
    "        return 'WALMART'\n",
    "    if companies in costco_clean:\n",
    "        return 'COSTCO'\n",
    "    if companies in ahold_clean:\n",
    "        return 'AHOLD DELHAIZE'\n",
    "    if companies in kroger_clean:\n",
    "        return 'KROGER'\n",
    "    if companies in albertsons_clean:\n",
    "        return 'ALBERTSONS'\n",
    "    else:\n",
    "        return 'OTHER'\n",
    "\n",
    "stores_2018['PARENT NAME'] = stores_2018.apply(parent_name, axis=1)"
   ]
  },
  {
   "cell_type": "code",
   "execution_count": null,
   "id": "b56ecf86-2d5b-43c8-81a4-8bd098013d00",
   "metadata": {
    "tags": []
   },
   "outputs": [],
   "source": [
    "#filter by NAICS code \"44511\" - SUPERMARKETS/OTHER GROCERY (EXC CONVENIENCE) STRS\n",
    "\n",
    "grocery_naics_2018 = stores_2018.loc[stores_2018[['PRIMARY NAICS CODE']].astype(str).apply(lambda x: x.str.startswith('44511')).any(axis=1)]\n",
    "grocery_naics_2018\n",
    "\n",
    "# There are 75227 supermarkets/related companies in the entire US in 2018"
   ]
  },
  {
   "cell_type": "code",
   "execution_count": null,
   "id": "9d8fb408-6adf-440a-9a99-9f5b8fd68f29",
   "metadata": {
    "tags": []
   },
   "outputs": [],
   "source": [
    "grocery_type= grocery_naics_2018[\"PRIMARY NAICS CODE\"].unique().tolist()\n",
    "grocery_type"
   ]
  },
  {
   "cell_type": "code",
   "execution_count": null,
   "id": "b80ff09c-1c2c-44f7-8f34-4fada32ae51b",
   "metadata": {
    "tags": []
   },
   "outputs": [],
   "source": [
    "store_count_2018= grocery_naics_2018.groupby('PARENT NAME').count()[[\"CITY\"]].reset_index().rename(columns={\"CITY\":\"STORE COUNT\"})\n",
    "store_count_2018"
   ]
  },
  {
   "cell_type": "markdown",
   "id": "6c1fe6d7-011d-4956-8aa2-495e21cba89b",
   "metadata": {},
   "source": [
    "# 2019 DATA"
   ]
  },
  {
   "cell_type": "code",
   "execution_count": null,
   "id": "c10a9849-4267-4de0-8291-b6f35dfc3f11",
   "metadata": {
    "tags": []
   },
   "outputs": [],
   "source": [
    "#reading in the dataset \n",
    "\n",
    "stores_2019 = pd.read_csv('/srv/data/my_shared_data_folder/rafi/2019_Business_Academic_QCQ_grocery.csv')\n",
    "stores_2019.drop(['Unnamed: 0'],inplace=True,axis=1)\n",
    "territories = ['PR', 'FM', 'MP', 'GU', 'VI', 'MH']\n",
    "stores_2019 = stores_2019.drop(stores_2019[stores_2019['STATE'].isin(territories)].index)\n",
    "stores_2019.head()"
   ]
  },
  {
   "cell_type": "code",
   "execution_count": null,
   "id": "c1d24bfa-3703-42eb-a980-72c71790d874",
   "metadata": {
    "tags": []
   },
   "outputs": [],
   "source": [
    "#placing function here to run storecount below on grocery_naics\n",
    "\n",
    "\n",
    "def parent_name(row):\n",
    "    '''Creates a new column called \"PARENT NAME\" based on the cleaned string match list''' \n",
    "    '''The new column generalizes individual companies into their parent coporation (ie. Walmart, Krogers, etc.)''' \n",
    "    companies = row['COMPANY']  \n",
    "    \n",
    "    if companies in walmart_clean:\n",
    "        return 'WALMART'\n",
    "    if companies in costco_clean:\n",
    "        return 'COSTCO'\n",
    "    if companies in ahold_clean:\n",
    "        return 'AHOLD DELHAIZE'\n",
    "    if companies in kroger_clean:\n",
    "        return 'KROGER'\n",
    "    if companies in albertsons_clean:\n",
    "        return 'ALBERTSONS'\n",
    "    else:\n",
    "        return 'OTHER'\n",
    "\n",
    "stores_2019['PARENT NAME'] = stores_2019.apply(parent_name, axis=1)"
   ]
  },
  {
   "cell_type": "code",
   "execution_count": null,
   "id": "17272253-0269-4054-bd4d-6449afbb1592",
   "metadata": {
    "tags": []
   },
   "outputs": [],
   "source": [
    "#filter by NAICS code \"44511\" - SUPERMARKETS/OTHER GROCERY (EXC CONVENIENCE) STRS\n",
    "\n",
    "grocery_naics_2019 = stores_2019.loc[stores_2019[['PRIMARY NAICS CODE']].astype(str).apply(lambda x: x.str.startswith('44511')).any(axis=1)]\n",
    "grocery_naics_2019\n",
    "\n",
    "# There 81480 supermarkets/related companies in the entire US in 2019"
   ]
  },
  {
   "cell_type": "code",
   "execution_count": null,
   "id": "50395657-bac1-4634-bf74-02fb3b2ebebb",
   "metadata": {
    "tags": []
   },
   "outputs": [],
   "source": [
    "grocery_type= grocery_naics_2019[\"PRIMARY NAICS CODE\"].unique().tolist()\n",
    "grocery_type"
   ]
  },
  {
   "cell_type": "code",
   "execution_count": null,
   "id": "1c83d1e6-6131-40ea-b3a6-63dff6db32ca",
   "metadata": {
    "tags": []
   },
   "outputs": [],
   "source": [
    "store_count_2019= grocery_naics_2019.groupby('PARENT NAME').count()[[\"CITY\"]].reset_index().rename(columns={\"CITY\":\"STORE COUNT\"})\n",
    "store_count_2019"
   ]
  },
  {
   "cell_type": "markdown",
   "id": "9734d7d1-4f21-49e8-80b6-5a02b01231ca",
   "metadata": {},
   "source": [
    "# 2020 DATA"
   ]
  },
  {
   "cell_type": "code",
   "execution_count": null,
   "id": "3f77da1a-46be-4fd7-b100-3c4bce92789b",
   "metadata": {
    "tags": []
   },
   "outputs": [],
   "source": [
    "#reading in the dataset \n",
    "\n",
    "stores_2020 = pd.read_csv('/srv/data/my_shared_data_folder/rafi/2020_Business_Academic_QCQ_grocery.csv')\n",
    "stores_2020.drop(['Unnamed: 0'],inplace=True,axis=1)\n",
    "territories = ['PR', 'FM', 'MP', 'GU', 'VI', 'MH']\n",
    "stores_2020 = stores_2020.drop(stores_2020[stores_2020['STATE'].isin(territories)].index)\n",
    "stores_2020.head()"
   ]
  },
  {
   "cell_type": "code",
   "execution_count": null,
   "id": "e7eee617-bd46-458d-891d-8def7de2afa1",
   "metadata": {
    "tags": []
   },
   "outputs": [],
   "source": [
    "#placing function here to run storecount below on grocery_naics\n",
    "\n",
    "\n",
    "def parent_name(row):\n",
    "    '''Creates a new column called \"PARENT NAME\" based on the cleaned string match list''' \n",
    "    '''The new column generalizes individual companies into their parent coporation (ie. Walmart, Krogers, etc.)''' \n",
    "    companies = row['COMPANY']  \n",
    "    \n",
    "    if companies in walmart_clean:\n",
    "        return 'WALMART'\n",
    "    if companies in costco_clean:\n",
    "        return 'COSTCO'\n",
    "    if companies in ahold_clean:\n",
    "        return 'AHOLD DELHAIZE'\n",
    "    if companies in kroger_clean:\n",
    "        return 'KROGER'\n",
    "    if companies in albertsons_clean:\n",
    "        return 'ALBERTSONS'\n",
    "    else:\n",
    "        return 'OTHER'\n",
    "\n",
    "stores_2020['PARENT NAME'] = stores_2020.apply(parent_name, axis=1)"
   ]
  },
  {
   "cell_type": "code",
   "execution_count": null,
   "id": "af3575e6-fe1c-4aa5-9fdb-16de6719f0fa",
   "metadata": {
    "tags": []
   },
   "outputs": [],
   "source": [
    "#filter by NAICS code \"44511\" - SUPERMARKETS/OTHER GROCERY (EXC CONVENIENCE) STRS\n",
    "\n",
    "grocery_naics_2020 = stores_2020.loc[stores_2020[['PRIMARY NAICS CODE']].astype(str).apply(lambda x: x.str.startswith('44511')).any(axis=1)]\n",
    "grocery_naics_2020\n",
    "\n",
    "# There are 76579 supermarkets/related companies in the entire US in 2020"
   ]
  },
  {
   "cell_type": "code",
   "execution_count": null,
   "id": "77af1e27-09c4-4d21-8ac4-40392089fcd2",
   "metadata": {
    "tags": []
   },
   "outputs": [],
   "source": [
    "grocery_type= grocery_naics_2020[\"PRIMARY NAICS CODE\"].unique().tolist()\n",
    "grocery_type"
   ]
  },
  {
   "cell_type": "code",
   "execution_count": null,
   "id": "8d213c16-9ef6-4cf1-9c9c-109f8a2539d6",
   "metadata": {
    "tags": []
   },
   "outputs": [],
   "source": [
    "store_count_2020= grocery_naics_2020.groupby('PARENT NAME').count()[[\"CITY\"]].reset_index().rename(columns={\"CITY\":\"STORE COUNT\"})\n",
    "store_count_2020"
   ]
  },
  {
   "cell_type": "markdown",
   "id": "7a78de23-bc5d-4944-beee-b9d7bb3b4e75",
   "metadata": {},
   "source": [
    "# 2022 DATA"
   ]
  },
  {
   "cell_type": "code",
   "execution_count": null,
   "id": "783a023d-c10e-40f6-a75a-80c0d1b6e55e",
   "metadata": {
    "tags": []
   },
   "outputs": [],
   "source": [
    "#reading in the dataset \n",
    "\n",
    "stores_2022 = pd.read_csv('/srv/data/my_shared_data_folder/rafi/2022_Business_Academic_QCQ_grocery.csv')\n",
    "stores_2022.drop(['Unnamed: 0'],inplace=True,axis=1)\n",
    "territories = ['PR', 'FM', 'MP', 'GU', 'VI', 'MH']\n",
    "stores_2022 = stores_2022.drop(stores_2022[stores_2022['STATE'].isin(territories)].index)\n",
    "stores_2022.head()"
   ]
  },
  {
   "cell_type": "code",
   "execution_count": null,
   "id": "ce03ac00-a362-4f53-8325-4805ba1be628",
   "metadata": {
    "tags": []
   },
   "outputs": [],
   "source": [
    "#placing function here to run storecount below on grocery_naics\n",
    "\n",
    "\n",
    "def parent_name(row):\n",
    "    '''Creates a new column called \"PARENT NAME\" based on the cleaned string match list''' \n",
    "    '''The new column generalizes individual companies into their parent coporation (ie. Walmart, Krogers, etc.)''' \n",
    "    companies = row['COMPANY']  \n",
    "    \n",
    "    if companies in walmart_clean:\n",
    "        return 'WALMART'\n",
    "    if companies in costco_clean:\n",
    "        return 'COSTCO'\n",
    "    if companies in ahold_clean:\n",
    "        return 'AHOLD DELHAIZE'\n",
    "    if companies in kroger_clean:\n",
    "        return 'KROGER'\n",
    "    if companies in albertsons_clean:\n",
    "        return 'ALBERTSONS'\n",
    "    else:\n",
    "        return 'OTHER'\n",
    "\n",
    "stores_2022['PARENT NAME'] = stores_2022.apply(parent_name, axis=1)"
   ]
  },
  {
   "cell_type": "code",
   "execution_count": null,
   "id": "3b161824-c2d7-409a-bcef-cd076b82b4fa",
   "metadata": {
    "tags": []
   },
   "outputs": [],
   "source": [
    "#filter by NAICS code \"44511\" - SUPERMARKETS/OTHER GROCERY (EXC CONVENIENCE) STRS\n",
    "\n",
    "grocery_naics_2022 = stores_2022.loc[stores_2022[['PRIMARY NAICS CODE']].astype(str).apply(lambda x: x.str.startswith('44511')).any(axis=1)]\n",
    "grocery_naics_2022\n",
    "\n",
    "# There are 76579 supermarkets/related companies in the entire US in 2020"
   ]
  },
  {
   "cell_type": "code",
   "execution_count": null,
   "id": "0b2ad1da-eb80-46b8-ac15-a87db1cc0be5",
   "metadata": {
    "tags": []
   },
   "outputs": [],
   "source": [
    "grocery_type= grocery_naics_2022[\"PRIMARY NAICS CODE\"].unique().tolist()\n",
    "grocery_type"
   ]
  },
  {
   "cell_type": "code",
   "execution_count": null,
   "id": "c6d1acbc-8bab-4d62-986f-8a184a12473e",
   "metadata": {
    "tags": []
   },
   "outputs": [],
   "source": [
    "store_count_2022= grocery_naics_2022.groupby('PARENT NAME').count()[[\"CITY\"]].reset_index().rename(columns={\"CITY\":\"STORE COUNT\"})\n",
    "store_count_2022"
   ]
  },
  {
   "cell_type": "markdown",
   "id": "46867b5b-1215-4c29-8c9b-0e7579fa5b2d",
   "metadata": {},
   "source": [
    "## LET'S EXPLORE SOME VISUALIZATIONS "
   ]
  },
  {
   "cell_type": "code",
   "execution_count": null,
   "id": "2e67d0d7-75c7-465a-af95-3aeccf96a4e3",
   "metadata": {},
   "outputs": [],
   "source": []
  },
  {
   "cell_type": "code",
   "execution_count": null,
   "id": "eb01e8db-a6cf-4b64-a66d-74d2484dd1fc",
   "metadata": {
    "tags": []
   },
   "outputs": [],
   "source": [
    "fig = px.choropleth(stores_2022, \n",
    "                    locations=stores_2022.loc[stores_2022['STATE']=='DC', \n",
    "                    color ='PARENT NAME',\n",
    "                    locationmode='USA-states',\n",
    "                    title='Albertsons in the US',\n",
    "                    scope='usa',\n",
    "                    color_continuous_scale=\"Viridis\")\n",
    "\n",
    "fig.show()"
   ]
  }
 ],
 "metadata": {
  "kernelspec": {
   "display_name": "Python 3 (ipykernel)",
   "language": "python",
   "name": "python3"
  },
  "language_info": {
   "codemirror_mode": {
    "name": "ipython",
    "version": 3
   },
   "file_extension": ".py",
   "mimetype": "text/x-python",
   "name": "python",
   "nbconvert_exporter": "python",
   "pygments_lexer": "ipython3",
   "version": "3.9.7"
  }
 },
 "nbformat": 4,
 "nbformat_minor": 5
}
