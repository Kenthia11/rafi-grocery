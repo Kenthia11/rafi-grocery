{
 "cells": [
  {
   "cell_type": "code",
   "execution_count": 2,
   "id": "675287ea-b7f8-4b0a-98d3-a874b9b43242",
   "metadata": {
    "tags": []
   },
   "outputs": [
    {
     "name": "stderr",
     "output_type": "stream",
     "text": [
      "/opt/tljh/user/lib/python3.9/site-packages/thefuzz/fuzz.py:11: UserWarning: Using slow pure-python SequenceMatcher. Install python-Levenshtein to remove this warning\n",
      "  warnings.warn('Using slow pure-python SequenceMatcher. Install python-Levenshtein to remove this warning')\n"
     ]
    }
   ],
   "source": [
    "import pandas as pd\n",
    "import numpy as np\n",
    "import matplotlib.pyplot as plt\n",
    "import geopandas as gpd\n",
    "pd.set_option('display.max_columns', None)\n",
    "from shapely.geometry import Point\n",
    "import seaborn as sns\n",
    "import fiona\n",
    "import math #Hi testing\n",
    "import plotly.express as px\n",
    "from thefuzz import fuzz\n",
    "from thefuzz import process\n",
    "import random\n",
    "from sklearn.linear_model import LassoCV\n",
    "import statsmodels.api as sm"
   ]
  },
  {
   "cell_type": "code",
   "execution_count": 3,
   "id": "5c203a0a-ac74-4596-ba1a-0250932ddd21",
   "metadata": {
    "tags": []
   },
   "outputs": [],
   "source": [
    "#Read in the data and keep only US Continental States and DC\n",
    "stores_general = pd.read_csv('/srv/data/my_shared_data_folder/rafi/2022_Business_Academic_QCQ_grocery.csv')\n",
    "stores_general.drop(['Unnamed: 0'],inplace=True,axis=1)\n",
    "territories = ['PR', 'FM', 'MP', 'GU', 'VI', 'MH','AK','HI']\n",
    "stores_general = stores_general.drop(stores_general[stores_general['STATE'].isin(territories)].index)"
   ]
  },
  {
   "cell_type": "code",
   "execution_count": 4,
   "id": "d4781b3d-1b24-4318-b3bc-3af4816cb134",
   "metadata": {
    "tags": []
   },
   "outputs": [],
   "source": [
    "#Create lists of Supermarkets/Companies owned by the Parent Coporations of Interest (Supermarkets/Companies were taken from Wikipedia)\n",
    "\n",
    "#Ahold Delhaize owned supermarkets/companies\n",
    "ahold = [\"Bottom Dollar Food\",\n",
    "    \"Food Lion\",\n",
    "    \"FreshDirect\",\n",
    "    \"Giant\",\n",
    "    \"Giant Food\",\n",
    "    \"Hannaford\",\n",
    "    \"Stop & Shop\",\n",
    "    \"Peapod\",\n",
    "    \"Bfresh\",\n",
    "    \"Eastside Marketplace\",]\n",
    "\n",
    "#WALMART owned supermarkets/companies\n",
    "walmart = [\"WALMART\",\"SAM'S CLUB\"]\n",
    "\n",
    "#Krogers owned supermarkets/companies\n",
    "kroger = [\"Baker's\",\n",
    "    \"City Market\",\n",
    "    \"Dillons\",\n",
    "    \"Food 4 Less\",\n",
    "    \"Foods Co.\",\n",
    "    \"Fred Meyer\",\n",
    "    \"Fry's\",\n",
    "    \"Gerbes\",\n",
    "    \"Harris Teeter\",\n",
    "    \"JayC\",\n",
    "    \"King Soopers\",\n",
    "    \"Kroger\",\n",
    "    \"Mariano's\",\n",
    "    \"Metro Market\",\n",
    "    \"Pay Less\",\n",
    "    \"Pick 'n Save\",\n",
    "    \"QFC\",\n",
    "    \"Ralphs\",\n",
    "    \"Ruler Foods\",\n",
    "    \"Smith's\",]\n",
    "\n",
    "# Albertsons owned supermarkets/companies\n",
    "albertsons= [\"Acme Markets\",\n",
    "    \"Albertsons\",\n",
    "    \"Albertsons Market\",\n",
    "    \"Amigos\",\n",
    "    \"Andronico's\",\n",
    "    \"Balducci's\",\n",
    "    \"Carrs\",\n",
    "    \"Haggen\",\n",
    "    \"Jewel-Osco\",\n",
    "    \"Kings Food Markets\",\n",
    "    \"Lucky\",\n",
    "    \"Market Street\",\n",
    "    \"Pak 'n Save\",\n",
    "    \"Pavilions\",\n",
    "    \"Randalls\",\n",
    "    \"Safewa\",\n",
    "    \"Shaw's\",\n",
    "    \"Star Market\",\n",
    "    \"Tom Thumb\",\n",
    "    \"United Supermarkets\",\n",
    "    \"Vons\",\n",
    "    \"Buttrey Food and Drug\",\n",
    "    \"Max Food and Drug\",\n",
    "    \"Max Foods\",\n",
    "    \"Skagg's Albertsons\",\n",
    "    \"Super Saver\",]\n",
    "\n",
    "#Costco owned supermarkets/companies\n",
    "costco = [\"Costco\"]"
   ]
  },
  {
   "cell_type": "code",
   "execution_count": 5,
   "id": "bcb12c01-db17-4b42-9c15-fc3549c9590c",
   "metadata": {},
   "outputs": [
    {
     "data": {
      "text/plain": [
       "'\\nparent = costco\\ncompanies = stores_general[\"COMPANY\"]\\n\\nmatches = []\\nfor item in parent:\\n    for result in process.extract(item, companies, limit=len(parent)+1):\\n        store = result[0]\\n        score = result[1]\\n        if score >= 77 and store not in matches:\\n            matches.append(store)\\n\\nprint(matches)\\n\\n# i.e. returns: [\\'COSTCO DELI\\']\\n'"
      ]
     },
     "execution_count": 5,
     "metadata": {},
     "output_type": "execute_result"
    }
   ],
   "source": [
    "#Apply a string match through thefuzz that compares all stores to the parent corporations owned stores\n",
    "#We decided to use a threshold of 77\n",
    "#Generates a list of potential unique string matches\n",
    "#The matches list's length is based on the number of different stores the parent corporation owns\n",
    "#parent was initialized for each parent coporation (finished at costco)\n",
    "'''\n",
    "parent = costco\n",
    "companies = stores_general[\"COMPANY\"]\n",
    "\n",
    "matches = []\n",
    "for item in parent:\n",
    "    for result in process.extract(item, companies, limit=len(parent)+1):\n",
    "        store = result[0]\n",
    "        score = result[1]\n",
    "        if score >= 77 and store not in matches:\n",
    "            matches.append(store)\n",
    "\n",
    "print(matches)\n",
    "\n",
    "# i.e. returns: ['COSTCO DELI']\n",
    "'''"
   ]
  },
  {
   "cell_type": "code",
   "execution_count": 6,
   "id": "e0e3f866-71c2-45d3-9f83-7a6355a40aff",
   "metadata": {
    "tags": []
   },
   "outputs": [],
   "source": [
    "#Generated String Matches from above\n",
    "\n",
    "#String matched brands owned by Walmart:\n",
    "walmart_string = ['WALMART GROCERY PICKUP', 'WALMART GROCERY PKUP-DELIVERY', \"SAM'S CLUB DELI\"]\n",
    "#Doesn't appear to have Walmart Neighborhood Stores\n",
    "\n",
    "#String matched brands owned by Ahold Delhaize:\n",
    "ahold_string = ['BOTTOM DOLLAR', 'DOLLAR DOLLAR', 'FOOD', 'FOOD 4 LESS', 'FOOD LION', 'FRESH DIRECT', 'REC', 'FRESH', 'H & H', 'S & S', 'FRESHII', 'GIANT', 'GIANT EAGLE', 'GIANT EAGLE FLORAL', 'GIANT FOOD', 'HANNAFORD', 'STOP & SHOP', 'PEA POD', 'BFRESH MARKET', 'REFRESH', 'EASTSIDE MARKETPLACE', 'WESTSIDE MARKETPLACE', 'MARKET', 'E MARKET', 'MARKETPLACE']\n",
    "\n",
    "#String matched brands owned by Kroger:\n",
    "kroger_string = [\"BAKER'S\", 'S & S', 'BAKERS', \"BAKER'S GAS & WELD SUPLS INC\", \"BAKER'S GAS\", \"BAKER'S MARKET\", \"BAKER'S PRO FARM LLC\", 'BAKER STREET MARKET', \"BAKER'S KWIK SHOP\", 'CITY MARKET', 'DILLONS', 'FOOD 4 LESS', 'FOODS CO', 'FRED MEYER', \"FRY'S FOOD\", 'GERBES SUPER MARKET', 'GERBES SUPER MARKETS', 'GE', 'GERBES SUPERMARKET', 'HARRIS TEETER', 'JAYC', \"JAYCEE'S\", 'JAYCON', 'CITY-RALEIGH-JAYCEE PARK-CMNTY', 'JAYCE MINIMARKET', 'NAY & JAY', 'KING SOOPERS', 'KROGER', \"MARIANO'S\", 'METRO MARKET', 'METRO MINI MARKET', 'MARKET MARKET', 'PAY LESS LIQUORS', 'PAY LESS SUPER MARKETS', 'PAY LESS GAS & FOOD', 'PAY LESS IGA', 'FOOD FOR LESS', 'FAR LESS FOOD MARKET', 'MORE FOR LESS', 'PRICE LESS FOODS', 'COST LESS FOODS CO', \"PICK'N SAVE\", 'QFC', 'RALPHS', 'RULER FOODS', \"SMITH'S\"]\n",
    "\n",
    "#String matched brands owned by Costco\n",
    "costco_string = [\"COSTCO DELI\"]\n",
    "\n",
    "#String matched brands owned by Albertsons\n",
    "albertsons_string = ['ACME MARKETS', 'ALBERTSONS', 'ALBERTSONS MARKET', 'MARKET MARKET', 'MARKET', '2 AMIGOS', 'AMIGO', 'LOS AMIGOS DISTRIBUTING', 'DOS AMIGOS MARKET', '3 AMIGOS BEER WINE-FOOD STORE', 'THREE AMIGOS', 'AMIGOS FOOD MART', 'LOS AMIGOS', 'AMIGOS MKT LOS', 'AMIGOS MARKET 7', 'TIENDA LOS AMIGOS', 'AMIGOS CONVENIENCE STORE', 'LOS AMIGOS UNO', 'AMIGOS LATIN GROCERY', 'AMIGOS UNITED', 'AMIGOS FOOD MART LLC', 'LOS AMIGOS MARKET', 'LOS AMIGOS SUPERMARKET', 'ICO', \"ANDRONICO'S COMMUNITY MARKETS\", \"KRAUSZER'S FOOD STORE\", \"CASEY'S\", \"MR T'S\", \"SEVEN'S\", \"PATTY'S PANTRY & DELI\", \"CASHION'S QUIK STOP\", 'E C F S SNACKS LLC', \"MICKEY'S T-MART INC\", \"STATLER'S COUNTRY MART\", \"MIKE'S CONVENIENCE\", \"BELL'S ROWLESBURG GROCERY\", \"SOCCORSI'S GROCERY & SUBS\", 'CC', \"BALDUCCI'S FOOD LOVER'S MARKET\", \"DANIEL'S MARKET\", \"GRILLO'S MARKET\", 'S & G CONVENIENCE MART', \"NANCY'S FOODMART\", \"MILLER'S MARKETS\", \"MAYNARD'S OF FLANDREAU\", \"SKIP'S\", \"HARDESTY'S EXPRESS MART LLC\", \"KASSAR'S FOOD & GIFTS\", \"JERRY'S MARKET & LIQUOR\", \"SHELLY'S GROCERY & BAKERY LLC\", 'CARRS/SAFEWAY', 'CARRS SAFEWAY', 'CARRS QUALITY CTR PALMER SHPG', 'BIG CHEAP CASH & CARR', 'C & B USED CARS', 'HAGGEN', 'HAGGEN FOOD & PHARMACY', 'HAGGEN SUPPORT CTR', 'HAGGEN FOOD', 'GE', 'JEWEL-OSCO', 'KINGS FOOD MARKETS', 'KINGS FOOD MARKET', \"KING'S FOOD MARKET\", \"KING'S FOODMARKET\", 'KINGS FOOD MART', 'FOOD', 'LUCKY', 'LUCKY 3', 'LUCKY 7', \"LUCKY'S\", 'LUCKY 8', 'LUCKYS', 'LUCKY SEVEN FOOD STORE', 'LUCKY FOOD FARMERS MARKET', 'LUCKY GROCERY & DELI', 'LUCKY DOLLAR', 'LUCKY CHARM CONVENIENCE STORE', 'LUCKY STAR MARKET LLC', 'LUCKY FOOD MART LLC', 'LUCKY MARKET', \"LUCKY'S STATION\", 'LUCKY MARKET LLC', \"LUCKY'S SUPER MARKET\", 'MARKET STREET', \"PAK 'N SAVE\", 'U-SAVE FOOD STORE', 'GOLD LINE GRAB N GO', 'INDO PAK SUPERMARKET', 'STOP N GO FOOD MART', 'STOP N GO ENTERPRISES INC', \"OCALA SHOP N' PLAY LLC\", 'J & N MINI MART 2', \"GRAB 'N GO MART LLC\", 'KWIK PAK FOOD MART', \"SHOP 'N SAVE EXPRESS\", 'PIC-N-SAVE MARKET', 'U-SAVE TRAVEL PLAZA', \"UP NORT' SWEET N SAVORY\", 'STOP N SHOP WESTFIELD', \"SACK 'N SAVE FOOD\", \"STOP 'N GO MARKETS OF TEXAS\", 'CARTA N SHORE GARAGE', 'MASALA INDO PAK GROCERS', 'IN N OUT FOOD & GAS LLC', \"GAS 'N' GO FOOD & BEVERAGE\", 'N A M C COMMUNITY MARKET INC', 'PAVILIONS', 'RANDALLS', 'SAFEWAY', 'S & S', \"SHAW'S SUPERMARKET\", \"SHAW'S SUPERMARKETS INC\", 'STAR MARKET', 'TOM THUMB', 'UNITED SUPERMARKETS', 'VONS', 'FOOD 4 LESS', 'FOOD MART', 'FOOD LION', 'HERA FOOD MART', 'FOOD TOWN', 'FOOD FAIR', 'OHM FOOD MART', \"D'S FOOD STORE\", 'FOOD EXPRESS', 'E Z FOOD MART', 'JR FOOD MART', 'EXPRESS FOOD', 'MR FOOD MART', 'CITGO CONVENIENT FOOD MART', 'GREEN ACRES HEALTH FOOD STORE', 'FRIENDSHIP FOOD STORES INC', 'VERISTAS AFRICAN FOOD STORE', 'ILLINOIS VALLEY FOOD & DELI', \"FRY'S FOOD\", 'FOOD CITY', 'MAX FOODS', 'MAXI FOODS', 'FOODS', 'FOOD MAX', 'SUPER ONE FOODS', 'SUNSHINE FOODS', 'JAMBOREE FOODS', 'DAY STAR FOODS', \"SULLIVAN'S FOODS\", 'AFFILIATED FOODS CO-OP', \"JENSEN'S FINEST FOODS\", 'EAST DAKOTAH NATURAL FOODS', \"JENSEN'S FOODS\", 'RITE PRICE FOODS', 'VALLEY CENTER FOODS', 'SUPER SAVER', 'SUPER SAVE', 'SUPER SAVER INC', 'SUPER', 'SUPER SAVER COST PLUS', \"SAAR'S SUPER SAVER FOODS\"]"
   ]
  },
  {
   "cell_type": "code",
   "execution_count": 7,
   "id": "00e16c15-4f2b-4026-9feb-f667917d4a72",
   "metadata": {
    "tags": []
   },
   "outputs": [],
   "source": [
    "#Cleaned lists from the string matches of supermarkets/companies actually owned by the parent coprporation\n",
    "#***NOTE***There will be a margin of error from this process because stores were validated through manual checks\n",
    "#***NOTE***It was unrealistic to manually inspect every store generated this way so there will be supermarkets/companies that do not actually belong to the parent coporation\n",
    "#***NOTE***STOP AND SHOP SUPERMARKET was missing from string match so it was manually added\n",
    "#KROGERS FINAL\n",
    "kroger_clean = [\"BAKER'S\",\n",
    " 'BAKERS', \n",
    " 'CITY MARKET',\n",
    " 'DILLONS',\n",
    " 'FOOD 4 LESS', \n",
    " 'FOODS CO', \n",
    " 'FRED MEYER', \n",
    " \"FRY'S FOOD\",\n",
    " 'GERBES SUPER MARKET',  \n",
    " 'GERBES SUPER MARKETS', \n",
    " 'GERBES SUPERMARKET', \n",
    " 'HARRIS TEETER', \n",
    " 'JAYC', \n",
    " 'KING SOOPERS',\n",
    " 'KROGER',\n",
    " \"MARIANO'S\",\n",
    " 'METRO MARKET', \n",
    " 'PAY LESS SUPER MARKETS',\n",
    " \"PICK'N SAVE\", \n",
    " 'QFC', \n",
    " 'RALPHS', \n",
    " 'RULER FOODS', \n",
    " \"SMITH'S\",\"KROGER PICK UP\"]\n",
    "\n",
    "#Ahold Delhaize FINAL:\n",
    "ahold_clean = [ 'FOOD LION',\n",
    " 'GIANT',\n",
    " 'GIANT EAGLE',\n",
    " 'GIANT FOOD',\n",
    " 'HANNAFORD',\n",
    " 'STOP & SHOP',\n",
    " 'BFRESH MARKET',\n",
    " 'EASTSIDE MARKETPLACE','STOP & SHOP SUPERMARKET']\n",
    "\n",
    "#WALMART FINAL:\n",
    "walmart_clean = ['WALMART GROCERY PICKUP',\n",
    " 'WALMART GROCERY PKUP-DELIVERY', \n",
    " \"SAM'S CLUB DELI\"]\n",
    "\n",
    "#COSTCO FINAL:\n",
    "costco_clean = [\"COSTCO DELI\"]\n",
    "\n",
    "#ALBERTSONS FINAL:\n",
    "albertsons_clean = ['ACME MARKETS',\n",
    "'ALBERTSONS',\n",
    "'ALBERTSONS MARKET',\n",
    "'AMIGOS UNITED',\n",
    "\"ANDRONICO'S COMMUNITY MARKETS\",\n",
    "'CARRS/SAFEWAY',\n",
    "'CARRS SAFEWAY',\n",
    "'HAGGEN',\n",
    "'HAGGEN FOOD & PHARMACY',\n",
    "'HAGGEN FOOD',\n",
    "'JEWEL-OSCO',\n",
    "'KINGS FOOD MARKETS',\n",
    "'KINGS FOOD MARKET',\n",
    "'MARKET STREET',\n",
    "\"PAK 'N SAVE\",\n",
    "'PAVILIONS',\n",
    "'RANDALLS',\n",
    "'SAFEWAY',\n",
    "'STAR MARKET',\n",
    "'TOM THUMB',\n",
    "'UNITED SUPERMARKETS',\n",
    "'VONS',\n",
    "'SUPER SAVER',\n",
    "'CARRS QUALITY CTR PALMER SHPG',\n",
    " \"SAAR'S SUPER SAVER FOODS\"]"
   ]
  },
  {
   "cell_type": "code",
   "execution_count": 8,
   "id": "010d4435-d9f4-4308-a1e2-b9ca42ccde9b",
   "metadata": {
    "tags": []
   },
   "outputs": [],
   "source": [
    "#Records the removed values from the string matching for each store\n",
    "#\"Removed\" list can be used to see the values we chose to remove from the string match\n",
    "kroger_removed = [value for value in kroger_string if value not in kroger_clean]\n",
    "ahold_removed = [value for value in ahold_string if value not in ahold_clean]\n",
    "walmart_removed = [value for value in walmart_string if value not in walmart_clean]\n",
    "costco_removed = [value for value in costco_string if value not in costco_clean]\n",
    "albertsons_removed = [value for value in albertsons_string if value not in albertsons_string]"
   ]
  },
  {
   "cell_type": "code",
   "execution_count": 9,
   "id": "72b44ada-9529-4575-bad7-e77c141b0006",
   "metadata": {
    "tags": []
   },
   "outputs": [],
   "source": [
    "def parent_name(row):\n",
    "    '''Creates a new column called \"PARENT NAME\" based on the cleaned string match list''' \n",
    "    '''The new column generalizes individual companies into their parent coporation (ie. Walmart, Krogers, etc.)''' \n",
    "    companies = row['COMPANY']\n",
    "    parent = row[\"PARENT NUMBER\"]\n",
    "    \n",
    "    if companies in walmart_clean or parent == 5889993.0:\n",
    "        return 'WALMART'\n",
    "    if companies in costco_clean or parent == 441311800.0:\n",
    "        return 'COSTCO'\n",
    "    if companies in ahold_clean or parent == 238136725.0:\n",
    "        return 'AHOLD DELHAIZE'\n",
    "    if companies in kroger_clean or parent == 7521503.0:\n",
    "        return 'KROGER'\n",
    "    if companies in albertsons_clean or parent == 5995907.0:\n",
    "        return 'ALBERTSONS'\n",
    "    \n",
    "    return 'OTHER'\n",
    "\n",
    "stores_general['STORE TYPE'] = stores_general.apply(parent_name, axis=1)"
   ]
  },
  {
   "cell_type": "code",
   "execution_count": 10,
   "id": "50a08fa9-46df-497d-bc64-4cabe0e6687b",
   "metadata": {
    "tags": []
   },
   "outputs": [
    {
     "data": {
      "text/plain": [
       "STORE TYPE\n",
       "AHOLD DELHAIZE    2105\n",
       "Name: count, dtype: int64"
      ]
     },
     "execution_count": 10,
     "metadata": {},
     "output_type": "execute_result"
    }
   ],
   "source": [
    "stores_general.loc[stores_general[\"PARENT NUMBER\"] == 238136725.0][\"STORE TYPE\"].value_counts()"
   ]
  },
  {
   "cell_type": "code",
   "execution_count": 11,
   "id": "bf16d40e-48dc-4795-917d-226d3c48c028",
   "metadata": {
    "tags": []
   },
   "outputs": [],
   "source": [
    "#Locate the unique primary sic codes present within the supermarkets/companies owned by the parent corporations of interest\n",
    "#These unique primary SIC codes will be used as the basis of how we filter the main dataset to include only relevant supermarkets/companies (ie. removing convenient stores)\n",
    "\n",
    "#Step 1: Filter a dataframe based on parent coporations\n",
    "parent_companies = ['WALMART', 'COSTCO', 'KROGER', 'AHOLD DELHAIZE','ALBERTSONS']\n",
    "filtered_df = stores_general[stores_general['STORE TYPE'].isin(parent_companies)]\n",
    "\n",
    "# Step 2: Extract the PRIMARY SIC CODES values\n",
    "primary_sic_codes = filtered_df['PRIMARY SIC CODE']\n",
    "\n",
    "# Step 3: Get the unique PRIMARY SIC CODES values\n",
    "unique_sic_codes = primary_sic_codes.unique()\n",
    "\n",
    "# Print the unique PRIMARY SIC CODES\n",
    "unique_sic_codes = np.delete(unique_sic_codes,(np.where(unique_sic_codes == 541103)))\n",
    "\n",
    "#***NOTE remove SIC Code 541103 since it contains the SIC code for convenient stores"
   ]
  },
  {
   "cell_type": "code",
   "execution_count": 12,
   "id": "96b38b81-379e-47fb-9bcc-2c32f542b068",
   "metadata": {
    "tags": []
   },
   "outputs": [],
   "source": [
    "def sic_filter(df):\n",
    "    \"\"\"\n",
    "    Filters the dataframe to keep only the stores with specific primary SIC codes,\n",
    "    including NaN values. SIC codes are from the parent corporation's subsidiary's Primary SIC codes\n",
    "\n",
    "    The function takes in an unfiltered dataframe as a parameter.\n",
    "    The function returns a filtered dataframe.\n",
    "    \"\"\"\n",
    "    sic_codes = unique_sic_codes\n",
    "    filtered_df = df[df['PRIMARY SIC CODE'].isin(sic_codes) | df['PRIMARY SIC CODE'].isna()]\n",
    "    return filtered_df\n",
    "\n",
    "supermarkets = sic_filter(stores_general)"
   ]
  },
  {
   "cell_type": "code",
   "execution_count": 13,
   "id": "25b4ea2b-e8a3-4cbd-ad6c-d77f33de49b5",
   "metadata": {
    "tags": []
   },
   "outputs": [],
   "source": [
    "temp = supermarkets"
   ]
  },
  {
   "cell_type": "code",
   "execution_count": 14,
   "id": "0c899f8f-f391-4a24-ac2c-987007d9d86b",
   "metadata": {
    "tags": []
   },
   "outputs": [],
   "source": [
    "supermarkets = temp"
   ]
  },
  {
   "cell_type": "code",
   "execution_count": 16,
   "id": "9877e33d-a2c9-4a91-946e-a0e9ce637124",
   "metadata": {
    "tags": []
   },
   "outputs": [],
   "source": [
    "def update_parent_name(df):\n",
    "    \"\"\"\n",
    "    Helps account for erros in manual string matching selection\n",
    "    Checked for different Parent Numbers within each Parent Group and if the company had a different Parent Number \n",
    "    than the accepted, the company was grouped to other\n",
    "    \"\"\"\n",
    "    accepted_parent_numbers = {\n",
    "        238136725.0: \"AHOLD DELHAIZE\",\n",
    "        5995907.0: \"ALBERTSONS\",\n",
    "        7521503.0: \"KROGER\",\n",
    "        5889993.0: \"WALMART\",\n",
    "        441311800.0: \"COSTCO\"\n",
    "    }\n",
    "    \n",
    "    df.loc[~df['PARENT NUMBER'].isin(accepted_parent_numbers), 'STORE TYPE'] = \"OTHER\"\n",
    "    \n",
    "    return df\n",
    "supermarkets = update_parent_name(supermarkets)\n",
    "#Assigns Parent Number of Albertsons to CARRS\n",
    "supermarkets.loc[supermarkets[supermarkets[\"COMPANY\"] == \"CARRS QUALITY CTR PALMER SHPG\"].index, \"PARENT NUMBER\"] = 5995907.0"
   ]
  },
  {
   "cell_type": "code",
   "execution_count": null,
   "id": "8b824f72-5857-4c3d-ad12-b555588acee6",
   "metadata": {},
   "outputs": [],
   "source": []
  },
  {
   "cell_type": "code",
   "execution_count": 17,
   "id": "eb391967-e87a-4225-8129-43cc6978c9c4",
   "metadata": {
    "tags": []
   },
   "outputs": [
    {
     "data": {
      "text/html": [
       "<div>\n",
       "<style scoped>\n",
       "    .dataframe tbody tr th:only-of-type {\n",
       "        vertical-align: middle;\n",
       "    }\n",
       "\n",
       "    .dataframe tbody tr th {\n",
       "        vertical-align: top;\n",
       "    }\n",
       "\n",
       "    .dataframe thead th {\n",
       "        text-align: right;\n",
       "    }\n",
       "</style>\n",
       "<table border=\"1\" class=\"dataframe\">\n",
       "  <thead>\n",
       "    <tr style=\"text-align: right;\">\n",
       "      <th></th>\n",
       "      <th>COMPANY</th>\n",
       "      <th>ADDRESS LINE 1</th>\n",
       "      <th>CITY</th>\n",
       "      <th>STATE</th>\n",
       "      <th>ZIPCODE</th>\n",
       "      <th>ZIP4</th>\n",
       "      <th>COUNTY CODE</th>\n",
       "      <th>AREA CODE</th>\n",
       "      <th>IDCODE</th>\n",
       "      <th>LOCATION EMPLOYEE SIZE CODE</th>\n",
       "      <th>LOCATION SALES VOLUME CODE</th>\n",
       "      <th>PRIMARY SIC CODE</th>\n",
       "      <th>SIC6_DESCRIPTIONS</th>\n",
       "      <th>PRIMARY NAICS CODE</th>\n",
       "      <th>NAICS8 DESCRIPTIONS</th>\n",
       "      <th>SIC CODE</th>\n",
       "      <th>SIC6_DESCRIPTIONS (SIC)</th>\n",
       "      <th>SIC CODE 1</th>\n",
       "      <th>SIC6_DESCRIPTIONS (SIC1)</th>\n",
       "      <th>SIC CODE 2</th>\n",
       "      <th>SIC6_DESCRIPTIONS(SIC2)</th>\n",
       "      <th>SIC CODE 3</th>\n",
       "      <th>SIC6_DESCRIPTIONS(SIC3)</th>\n",
       "      <th>SIC CODE 4</th>\n",
       "      <th>SIC6_DESCRIPTIONS(SIC4)</th>\n",
       "      <th>ARCHIVE VERSION YEAR</th>\n",
       "      <th>YELLOW PAGE CODE</th>\n",
       "      <th>EMPLOYEE SIZE (5) - LOCATION</th>\n",
       "      <th>SALES VOLUME (9) - LOCATION</th>\n",
       "      <th>BUSINESS STATUS CODE</th>\n",
       "      <th>INDUSTRY SPECIFIC FIRST BYTE</th>\n",
       "      <th>YEAR ESTABLISHED</th>\n",
       "      <th>OFFICE SIZE CODE</th>\n",
       "      <th>COMPANY HOLDING STATUS</th>\n",
       "      <th>ABI</th>\n",
       "      <th>SUBSIDIARY NUMBER</th>\n",
       "      <th>PARENT NUMBER</th>\n",
       "      <th>PARENT ACTUAL EMPLOYEE SIZE</th>\n",
       "      <th>PARENT ACTUAL SALES VOLUME</th>\n",
       "      <th>PARENT EMPLOYEE SIZE CODE</th>\n",
       "      <th>PARENT SALES VOLUME CODE</th>\n",
       "      <th>SITE NUMBER</th>\n",
       "      <th>ADDRESS TYPE INDICATOR</th>\n",
       "      <th>POPULATION CODE</th>\n",
       "      <th>CENSUS TRACT</th>\n",
       "      <th>CENSUS BLOCK</th>\n",
       "      <th>LATITUDE</th>\n",
       "      <th>LONGITUDE</th>\n",
       "      <th>MATCH CODE</th>\n",
       "      <th>CBSA CODE</th>\n",
       "      <th>CBSA LEVEL</th>\n",
       "      <th>CSA CODE</th>\n",
       "      <th>FIPS CODE</th>\n",
       "      <th>STORE TYPE</th>\n",
       "    </tr>\n",
       "  </thead>\n",
       "  <tbody>\n",
       "    <tr>\n",
       "      <th>2</th>\n",
       "      <td>EL SOL MARKET</td>\n",
       "      <td>110 W MAIN ST</td>\n",
       "      <td>WESTMORLAND</td>\n",
       "      <td>CA</td>\n",
       "      <td>92281</td>\n",
       "      <td>NaN</td>\n",
       "      <td>25.0</td>\n",
       "      <td>760</td>\n",
       "      <td>2</td>\n",
       "      <td>B</td>\n",
       "      <td>C</td>\n",
       "      <td>541105</td>\n",
       "      <td>GROCERS-RETAIL</td>\n",
       "      <td>44511003.0</td>\n",
       "      <td>SUPERMARKETS/OTHER GROCERY (EXC CONVENIENCE) STRS</td>\n",
       "      <td>NaN</td>\n",
       "      <td>NaN</td>\n",
       "      <td>NaN</td>\n",
       "      <td>NaN</td>\n",
       "      <td>NaN</td>\n",
       "      <td>NaN</td>\n",
       "      <td>NaN</td>\n",
       "      <td>NaN</td>\n",
       "      <td>NaN</td>\n",
       "      <td>NaN</td>\n",
       "      <td>2022</td>\n",
       "      <td>39106.0</td>\n",
       "      <td>5.0</td>\n",
       "      <td>1061.0</td>\n",
       "      <td>9</td>\n",
       "      <td>NaN</td>\n",
       "      <td>NaN</td>\n",
       "      <td>NaN</td>\n",
       "      <td>NaN</td>\n",
       "      <td>519605455</td>\n",
       "      <td>NaN</td>\n",
       "      <td>NaN</td>\n",
       "      <td>NaN</td>\n",
       "      <td>NaN</td>\n",
       "      <td>NaN</td>\n",
       "      <td>NaN</td>\n",
       "      <td>NaN</td>\n",
       "      <td>NaN</td>\n",
       "      <td>3</td>\n",
       "      <td>10200.0</td>\n",
       "      <td>1.0</td>\n",
       "      <td>33.051800</td>\n",
       "      <td>-115.581800</td>\n",
       "      <td>X</td>\n",
       "      <td>20940.0</td>\n",
       "      <td>2.0</td>\n",
       "      <td>0.0</td>\n",
       "      <td>6025.0</td>\n",
       "      <td>OTHER</td>\n",
       "    </tr>\n",
       "    <tr>\n",
       "      <th>3</th>\n",
       "      <td>COOL SPRINGS GROCERY</td>\n",
       "      <td>241 WILDWOOD ST</td>\n",
       "      <td>MORGANTOWN</td>\n",
       "      <td>WV</td>\n",
       "      <td>26505</td>\n",
       "      <td>3141.0</td>\n",
       "      <td>61.0</td>\n",
       "      <td>304</td>\n",
       "      <td>2</td>\n",
       "      <td>A</td>\n",
       "      <td>A</td>\n",
       "      <td>541105</td>\n",
       "      <td>GROCERS-RETAIL</td>\n",
       "      <td>44511003.0</td>\n",
       "      <td>SUPERMARKETS/OTHER GROCERY (EXC CONVENIENCE) STRS</td>\n",
       "      <td>NaN</td>\n",
       "      <td>NaN</td>\n",
       "      <td>NaN</td>\n",
       "      <td>NaN</td>\n",
       "      <td>NaN</td>\n",
       "      <td>NaN</td>\n",
       "      <td>NaN</td>\n",
       "      <td>NaN</td>\n",
       "      <td>NaN</td>\n",
       "      <td>NaN</td>\n",
       "      <td>2022</td>\n",
       "      <td>39106.0</td>\n",
       "      <td>2.0</td>\n",
       "      <td>382.0</td>\n",
       "      <td>9</td>\n",
       "      <td>NaN</td>\n",
       "      <td>NaN</td>\n",
       "      <td>NaN</td>\n",
       "      <td>NaN</td>\n",
       "      <td>817953730</td>\n",
       "      <td>NaN</td>\n",
       "      <td>NaN</td>\n",
       "      <td>NaN</td>\n",
       "      <td>NaN</td>\n",
       "      <td>NaN</td>\n",
       "      <td>NaN</td>\n",
       "      <td>NaN</td>\n",
       "      <td>NaN</td>\n",
       "      <td>7</td>\n",
       "      <td>10400.0</td>\n",
       "      <td>4.0</td>\n",
       "      <td>39.652885</td>\n",
       "      <td>-79.986398</td>\n",
       "      <td>P</td>\n",
       "      <td>34060.0</td>\n",
       "      <td>2.0</td>\n",
       "      <td>390.0</td>\n",
       "      <td>54061.0</td>\n",
       "      <td>OTHER</td>\n",
       "    </tr>\n",
       "    <tr>\n",
       "      <th>5</th>\n",
       "      <td>EL SOL MEAT MARKET</td>\n",
       "      <td>1100 MEADOWS RD # B</td>\n",
       "      <td>CALEXICO</td>\n",
       "      <td>CA</td>\n",
       "      <td>92231</td>\n",
       "      <td>5917.0</td>\n",
       "      <td>25.0</td>\n",
       "      <td>760</td>\n",
       "      <td>2</td>\n",
       "      <td>D</td>\n",
       "      <td>E</td>\n",
       "      <td>541105</td>\n",
       "      <td>GROCERS-RETAIL</td>\n",
       "      <td>44511003.0</td>\n",
       "      <td>SUPERMARKETS/OTHER GROCERY (EXC CONVENIENCE) STRS</td>\n",
       "      <td>542107.0</td>\n",
       "      <td>MEAT-RETAIL</td>\n",
       "      <td>NaN</td>\n",
       "      <td>NaN</td>\n",
       "      <td>NaN</td>\n",
       "      <td>NaN</td>\n",
       "      <td>NaN</td>\n",
       "      <td>NaN</td>\n",
       "      <td>NaN</td>\n",
       "      <td>NaN</td>\n",
       "      <td>2022</td>\n",
       "      <td>NaN</td>\n",
       "      <td>29.0</td>\n",
       "      <td>6153.0</td>\n",
       "      <td>9</td>\n",
       "      <td>NaN</td>\n",
       "      <td>NaN</td>\n",
       "      <td>NaN</td>\n",
       "      <td>NaN</td>\n",
       "      <td>995912391</td>\n",
       "      <td>NaN</td>\n",
       "      <td>NaN</td>\n",
       "      <td>NaN</td>\n",
       "      <td>NaN</td>\n",
       "      <td>NaN</td>\n",
       "      <td>NaN</td>\n",
       "      <td>995912391.0</td>\n",
       "      <td>NaN</td>\n",
       "      <td>7</td>\n",
       "      <td>12002.0</td>\n",
       "      <td>2.0</td>\n",
       "      <td>32.679923</td>\n",
       "      <td>-115.482166</td>\n",
       "      <td>P</td>\n",
       "      <td>20940.0</td>\n",
       "      <td>2.0</td>\n",
       "      <td>0.0</td>\n",
       "      <td>6025.0</td>\n",
       "      <td>OTHER</td>\n",
       "    </tr>\n",
       "    <tr>\n",
       "      <th>7</th>\n",
       "      <td>KROGER</td>\n",
       "      <td>1600 S OHIO ST</td>\n",
       "      <td>MARTINSVILLE</td>\n",
       "      <td>IN</td>\n",
       "      <td>46151</td>\n",
       "      <td>3317.0</td>\n",
       "      <td>109.0</td>\n",
       "      <td>765</td>\n",
       "      <td>2</td>\n",
       "      <td>F</td>\n",
       "      <td>G</td>\n",
       "      <td>541105</td>\n",
       "      <td>GROCERS-RETAIL</td>\n",
       "      <td>44511003.0</td>\n",
       "      <td>SUPERMARKETS/OTHER GROCERY (EXC CONVENIENCE) STRS</td>\n",
       "      <td>NaN</td>\n",
       "      <td>NaN</td>\n",
       "      <td>NaN</td>\n",
       "      <td>NaN</td>\n",
       "      <td>NaN</td>\n",
       "      <td>NaN</td>\n",
       "      <td>NaN</td>\n",
       "      <td>NaN</td>\n",
       "      <td>NaN</td>\n",
       "      <td>NaN</td>\n",
       "      <td>2022</td>\n",
       "      <td>39106.0</td>\n",
       "      <td>102.0</td>\n",
       "      <td>21931.0</td>\n",
       "      <td>2</td>\n",
       "      <td>P</td>\n",
       "      <td>NaN</td>\n",
       "      <td>NaN</td>\n",
       "      <td>NaN</td>\n",
       "      <td>140765967</td>\n",
       "      <td>NaN</td>\n",
       "      <td>7521503.0</td>\n",
       "      <td>1200.0</td>\n",
       "      <td>137888000.0</td>\n",
       "      <td>I</td>\n",
       "      <td>I</td>\n",
       "      <td>140765967.0</td>\n",
       "      <td>NaN</td>\n",
       "      <td>7</td>\n",
       "      <td>510701.0</td>\n",
       "      <td>2.0</td>\n",
       "      <td>39.411880</td>\n",
       "      <td>-86.425148</td>\n",
       "      <td>P</td>\n",
       "      <td>26900.0</td>\n",
       "      <td>2.0</td>\n",
       "      <td>294.0</td>\n",
       "      <td>18109.0</td>\n",
       "      <td>KROGER</td>\n",
       "    </tr>\n",
       "    <tr>\n",
       "      <th>8</th>\n",
       "      <td>FOOD 4 LESS</td>\n",
       "      <td>2420 COTTONWOOD DR</td>\n",
       "      <td>EL CENTRO</td>\n",
       "      <td>CA</td>\n",
       "      <td>92243</td>\n",
       "      <td>1604.0</td>\n",
       "      <td>25.0</td>\n",
       "      <td>760</td>\n",
       "      <td>2</td>\n",
       "      <td>E</td>\n",
       "      <td>F</td>\n",
       "      <td>541105</td>\n",
       "      <td>GROCERS-RETAIL</td>\n",
       "      <td>44511003.0</td>\n",
       "      <td>SUPERMARKETS/OTHER GROCERY (EXC CONVENIENCE) STRS</td>\n",
       "      <td>NaN</td>\n",
       "      <td>NaN</td>\n",
       "      <td>NaN</td>\n",
       "      <td>NaN</td>\n",
       "      <td>NaN</td>\n",
       "      <td>NaN</td>\n",
       "      <td>NaN</td>\n",
       "      <td>NaN</td>\n",
       "      <td>NaN</td>\n",
       "      <td>NaN</td>\n",
       "      <td>2022</td>\n",
       "      <td>39106.0</td>\n",
       "      <td>70.0</td>\n",
       "      <td>14851.0</td>\n",
       "      <td>2</td>\n",
       "      <td>ï¿½</td>\n",
       "      <td>NaN</td>\n",
       "      <td>NaN</td>\n",
       "      <td>NaN</td>\n",
       "      <td>215261702</td>\n",
       "      <td>402627138.0</td>\n",
       "      <td>7521503.0</td>\n",
       "      <td>1200.0</td>\n",
       "      <td>137888000.0</td>\n",
       "      <td>I</td>\n",
       "      <td>I</td>\n",
       "      <td>215261702.0</td>\n",
       "      <td>NaN</td>\n",
       "      <td>7</td>\n",
       "      <td>11201.0</td>\n",
       "      <td>1.0</td>\n",
       "      <td>32.815719</td>\n",
       "      <td>-115.572166</td>\n",
       "      <td>P</td>\n",
       "      <td>20940.0</td>\n",
       "      <td>2.0</td>\n",
       "      <td>0.0</td>\n",
       "      <td>6025.0</td>\n",
       "      <td>KROGER</td>\n",
       "    </tr>\n",
       "  </tbody>\n",
       "</table>\n",
       "</div>"
      ],
      "text/plain": [
       "                COMPANY       ADDRESS LINE 1          CITY STATE  ZIPCODE  \\\n",
       "2         EL SOL MARKET        110 W MAIN ST   WESTMORLAND    CA    92281   \n",
       "3  COOL SPRINGS GROCERY      241 WILDWOOD ST    MORGANTOWN    WV    26505   \n",
       "5    EL SOL MEAT MARKET  1100 MEADOWS RD # B      CALEXICO    CA    92231   \n",
       "7                KROGER       1600 S OHIO ST  MARTINSVILLE    IN    46151   \n",
       "8           FOOD 4 LESS   2420 COTTONWOOD DR     EL CENTRO    CA    92243   \n",
       "\n",
       "     ZIP4  COUNTY CODE  AREA CODE  IDCODE LOCATION EMPLOYEE SIZE CODE  \\\n",
       "2     NaN         25.0        760       2                           B   \n",
       "3  3141.0         61.0        304       2                           A   \n",
       "5  5917.0         25.0        760       2                           D   \n",
       "7  3317.0        109.0        765       2                           F   \n",
       "8  1604.0         25.0        760       2                           E   \n",
       "\n",
       "  LOCATION SALES VOLUME CODE  PRIMARY SIC CODE SIC6_DESCRIPTIONS  \\\n",
       "2                          C            541105    GROCERS-RETAIL   \n",
       "3                          A            541105    GROCERS-RETAIL   \n",
       "5                          E            541105    GROCERS-RETAIL   \n",
       "7                          G            541105    GROCERS-RETAIL   \n",
       "8                          F            541105    GROCERS-RETAIL   \n",
       "\n",
       "   PRIMARY NAICS CODE                                NAICS8 DESCRIPTIONS  \\\n",
       "2          44511003.0  SUPERMARKETS/OTHER GROCERY (EXC CONVENIENCE) STRS   \n",
       "3          44511003.0  SUPERMARKETS/OTHER GROCERY (EXC CONVENIENCE) STRS   \n",
       "5          44511003.0  SUPERMARKETS/OTHER GROCERY (EXC CONVENIENCE) STRS   \n",
       "7          44511003.0  SUPERMARKETS/OTHER GROCERY (EXC CONVENIENCE) STRS   \n",
       "8          44511003.0  SUPERMARKETS/OTHER GROCERY (EXC CONVENIENCE) STRS   \n",
       "\n",
       "   SIC CODE SIC6_DESCRIPTIONS (SIC)  SIC CODE 1 SIC6_DESCRIPTIONS (SIC1)  \\\n",
       "2       NaN                     NaN         NaN                      NaN   \n",
       "3       NaN                     NaN         NaN                      NaN   \n",
       "5  542107.0             MEAT-RETAIL         NaN                      NaN   \n",
       "7       NaN                     NaN         NaN                      NaN   \n",
       "8       NaN                     NaN         NaN                      NaN   \n",
       "\n",
       "   SIC CODE 2 SIC6_DESCRIPTIONS(SIC2)  SIC CODE 3 SIC6_DESCRIPTIONS(SIC3)  \\\n",
       "2         NaN                     NaN         NaN                     NaN   \n",
       "3         NaN                     NaN         NaN                     NaN   \n",
       "5         NaN                     NaN         NaN                     NaN   \n",
       "7         NaN                     NaN         NaN                     NaN   \n",
       "8         NaN                     NaN         NaN                     NaN   \n",
       "\n",
       "   SIC CODE 4 SIC6_DESCRIPTIONS(SIC4)  ARCHIVE VERSION YEAR  YELLOW PAGE CODE  \\\n",
       "2         NaN                     NaN                  2022           39106.0   \n",
       "3         NaN                     NaN                  2022           39106.0   \n",
       "5         NaN                     NaN                  2022               NaN   \n",
       "7         NaN                     NaN                  2022           39106.0   \n",
       "8         NaN                     NaN                  2022           39106.0   \n",
       "\n",
       "   EMPLOYEE SIZE (5) - LOCATION  SALES VOLUME (9) - LOCATION  \\\n",
       "2                           5.0                       1061.0   \n",
       "3                           2.0                        382.0   \n",
       "5                          29.0                       6153.0   \n",
       "7                         102.0                      21931.0   \n",
       "8                          70.0                      14851.0   \n",
       "\n",
       "   BUSINESS STATUS CODE INDUSTRY SPECIFIC FIRST BYTE  YEAR ESTABLISHED  \\\n",
       "2                     9                          NaN               NaN   \n",
       "3                     9                          NaN               NaN   \n",
       "5                     9                          NaN               NaN   \n",
       "7                     2                            P               NaN   \n",
       "8                     2                          ï¿½               NaN   \n",
       "\n",
       "   OFFICE SIZE CODE  COMPANY HOLDING STATUS        ABI  SUBSIDIARY NUMBER  \\\n",
       "2               NaN                     NaN  519605455                NaN   \n",
       "3               NaN                     NaN  817953730                NaN   \n",
       "5               NaN                     NaN  995912391                NaN   \n",
       "7               NaN                     NaN  140765967                NaN   \n",
       "8               NaN                     NaN  215261702        402627138.0   \n",
       "\n",
       "   PARENT NUMBER  PARENT ACTUAL EMPLOYEE SIZE  PARENT ACTUAL SALES VOLUME  \\\n",
       "2            NaN                          NaN                         NaN   \n",
       "3            NaN                          NaN                         NaN   \n",
       "5            NaN                          NaN                         NaN   \n",
       "7      7521503.0                       1200.0                 137888000.0   \n",
       "8      7521503.0                       1200.0                 137888000.0   \n",
       "\n",
       "  PARENT EMPLOYEE SIZE CODE PARENT SALES VOLUME CODE  SITE NUMBER  \\\n",
       "2                       NaN                      NaN          NaN   \n",
       "3                       NaN                      NaN          NaN   \n",
       "5                       NaN                      NaN  995912391.0   \n",
       "7                         I                        I  140765967.0   \n",
       "8                         I                        I  215261702.0   \n",
       "\n",
       "  ADDRESS TYPE INDICATOR  POPULATION CODE  CENSUS TRACT  CENSUS BLOCK  \\\n",
       "2                    NaN                3       10200.0           1.0   \n",
       "3                    NaN                7       10400.0           4.0   \n",
       "5                    NaN                7       12002.0           2.0   \n",
       "7                    NaN                7      510701.0           2.0   \n",
       "8                    NaN                7       11201.0           1.0   \n",
       "\n",
       "    LATITUDE   LONGITUDE MATCH CODE  CBSA CODE  CBSA LEVEL  CSA CODE  \\\n",
       "2  33.051800 -115.581800          X    20940.0         2.0       0.0   \n",
       "3  39.652885  -79.986398          P    34060.0         2.0     390.0   \n",
       "5  32.679923 -115.482166          P    20940.0         2.0       0.0   \n",
       "7  39.411880  -86.425148          P    26900.0         2.0     294.0   \n",
       "8  32.815719 -115.572166          P    20940.0         2.0       0.0   \n",
       "\n",
       "   FIPS CODE STORE TYPE  \n",
       "2     6025.0      OTHER  \n",
       "3    54061.0      OTHER  \n",
       "5     6025.0      OTHER  \n",
       "7    18109.0     KROGER  \n",
       "8     6025.0     KROGER  "
      ]
     },
     "execution_count": 17,
     "metadata": {},
     "output_type": "execute_result"
    }
   ],
   "source": [
    "supermarkets.head()"
   ]
  },
  {
   "cell_type": "code",
   "execution_count": 18,
   "id": "32a5e6f9-9385-4440-865d-369f3c5ac115",
   "metadata": {
    "tags": []
   },
   "outputs": [],
   "source": [
    "def process_dataframe(df):\n",
    "    \"\"\"\n",
    "    Process the dataframe by generating parent numbers for companies.\n",
    "    Generates a random parent number from 0-9999 if the original parent number was NaN.\n",
    "    If the same company appears with a parent number of NaN, it doesn't get a new parent number; it gets the same parent number as its counterpart.\n",
    "    LIMITATIONS: This function does not account for when two different corporations have companies with the same name;\n",
    "    it will ultimately group companies with the same name into one parent number even if they are actually different organizations.\n",
    "    This type of anomaly is infrequent, so we will overlook this issue.\n",
    "    \"\"\"\n",
    "\n",
    "    companies = {}\n",
    "\n",
    "    def process_row(row):\n",
    "        company = row[\"COMPANY\"]\n",
    "        parent_number = row[\"PARENT NUMBER\"]\n",
    "\n",
    "        if pd.isna(parent_number):\n",
    "            if company in companies:\n",
    "                existing_parent = companies[company]\n",
    "                if not pd.isna(existing_parent):\n",
    "                    row[\"PARENT NUMBER\"] = existing_parent\n",
    "            else:\n",
    "                new_parent_number = random.randrange(0, 9999)\n",
    "                companies[company] = new_parent_number\n",
    "                row[\"PARENT NUMBER\"] = new_parent_number\n",
    "        else:\n",
    "            companies[company] = parent_number\n",
    "\n",
    "        return row\n",
    "\n",
    "    df_na = df.loc[df[\"PARENT NUMBER\"].isna()] \n",
    "    company_list = df_na[\"COMPANY\"].unique().tolist()\n",
    "    df = df.apply(process_row, axis=1)\n",
    "\n",
    "    return df\n",
    "\n",
    "supermarkets = process_dataframe(supermarkets)"
   ]
  },
  {
   "cell_type": "code",
   "execution_count": 19,
   "id": "bf81efb6-75b5-45c1-b3e9-8fed018038b5",
   "metadata": {
    "tags": []
   },
   "outputs": [
    {
     "data": {
      "text/plain": [
       "(1415, 54)"
      ]
     },
     "execution_count": 19,
     "metadata": {},
     "output_type": "execute_result"
    }
   ],
   "source": [
    "supermarkets.loc[supermarkets[\"SALES VOLUME (9) - LOCATION\"].isna()].shape"
   ]
  },
  {
   "cell_type": "code",
   "execution_count": 20,
   "id": "cd145e48-bddd-4763-a62b-77c2d2823fa6",
   "metadata": {
    "tags": []
   },
   "outputs": [],
   "source": [
    "#Fill NaN values for SALES VOLUME (9) - LOCATION\n",
    "# Locate Companies without a designated parent number (indicated by a parent number of < 9999)\n",
    "# Split these companies arbitrarily to account for true independent stores and non-independent stores (if there are only 3 companies under the parent number it is classified as independent other)\n",
    "\n",
    "non_parent_group = supermarkets[supermarkets[\"PARENT NUMBER\"] < 9999].groupby(\"FIPS CODE\")[\"SALES VOLUME (9) - LOCATION\"].median().reset_index()\n",
    "independent_non_parent = non_parent_group[non_parent_group[\"SALES VOLUME (9) - LOCATION\"] < 4]\n",
    "non_par = non_parent_group[non_parent_group[\"SALES VOLUME (9) - LOCATION\"] > 3]\n",
    "\n",
    "non_parent = supermarkets[supermarkets[\"FIPS CODE\"].isin(non_par[\"FIPS CODE\"])]\n",
    "np_independent = supermarkets[supermarkets[\"FIPS CODE\"].isin(independent_non_parent[\"FIPS CODE\"])]\n",
    "\n",
    "# Calculate FIPS CODE-specific medians\n",
    "median_np = non_parent.groupby(\"FIPS CODE\")[\"SALES VOLUME (9) - LOCATION\"].median().reset_index()\n",
    "median_np_ind = np_independent.groupby(\"FIPS CODE\")[\"SALES VOLUME (9) - LOCATION\"].median().reset_index()\n",
    "\n",
    "# Locate Companies with a designated parent number (indicated by a parent number of > 9999)\n",
    "# Split these companies arbitrarily to account for true independent stores and non-independent stores (if there are only 3 companies under the parent number it is classified as independent other)\n",
    "\n",
    "parent_group = supermarkets[supermarkets[\"PARENT NUMBER\"] > 9999].groupby(\"FIPS CODE\")[\"SALES VOLUME (9) - LOCATION\"].median().reset_index()\n",
    "independent_parent = parent_group[parent_group[\"SALES VOLUME (9) - LOCATION\"] < 4]\n",
    "p = parent_group[parent_group[\"SALES VOLUME (9) - LOCATION\"] > 3]\n",
    "\n",
    "parent = supermarkets[supermarkets[\"FIPS CODE\"].isin(parent_group[\"FIPS CODE\"])]\n",
    "independent_parent = supermarkets[supermarkets[\"FIPS CODE\"].isin(independent_parent[\"FIPS CODE\"])]\n",
    "\n",
    "# Calculate FIPS CODE-specific medians\n",
    "median_np = non_parent.groupby(\"FIPS CODE\")[\"SALES VOLUME (9) - LOCATION\"].median().reset_index()\n",
    "median_np_ind = np_independent.groupby(\"FIPS CODE\")[\"SALES VOLUME (9) - LOCATION\"].median().reset_index()\n",
    "median_parent = parent.groupby(\"FIPS CODE\")[\"SALES VOLUME (9) - LOCATION\"].median().reset_index()\n",
    "median_parent_ind = independent_parent.groupby(\"FIPS CODE\")[\"SALES VOLUME (9) - LOCATION\"].median().reset_index()\n",
    "\n",
    "# Update missing values based on FIPS CODE-specific medians\n",
    "supermarkets = supermarkets.merge(median_np, on=\"FIPS CODE\", suffixes=(\"\", \"_median_np\"), how=\"left\")\n",
    "supermarkets.loc[supermarkets[\"SALES VOLUME (9) - LOCATION\"].isnull(), \"SALES VOLUME (9) - LOCATION\"] = supermarkets[\"SALES VOLUME (9) - LOCATION_median_np\"]\n",
    "\n",
    "supermarkets = supermarkets.merge(median_np_ind, on=\"FIPS CODE\", suffixes=(\"\", \"_median_np_ind\"), how=\"left\")\n",
    "supermarkets.loc[supermarkets[\"SALES VOLUME (9) - LOCATION\"].isnull(), \"SALES VOLUME (9) - LOCATION\"] = supermarkets[\"SALES VOLUME (9) - LOCATION_median_np_ind\"]\n",
    "\n",
    "supermarkets = supermarkets.merge(median_parent, on=\"FIPS CODE\", suffixes=(\"\", \"_median_parent\"), how=\"left\")\n",
    "supermarkets.loc[supermarkets[\"SALES VOLUME (9) - LOCATION\"].isnull(), \"SALES VOLUME (9) - LOCATION\"] = supermarkets[\"SALES VOLUME (9) - LOCATION_median_parent\"]\n",
    "\n",
    "supermarkets = supermarkets.merge(median_parent_ind, on=\"FIPS CODE\", suffixes=(\"\", \"_median_parent_ind\"), how=\"left\")\n",
    "supermarkets.loc[supermarkets[\"SALES VOLUME (9) - LOCATION\"].isnull(), \"SALES VOLUME (9) - LOCATION\"] = supermarkets[\"SALES VOLUME (9) - LOCATION_median_parent_ind\"]\n",
    "\n",
    "# Drop redundant columns\n",
    "supermarkets.drop([\"SALES VOLUME (9) - LOCATION_median_np\", \"SALES VOLUME (9) - LOCATION_median_np_ind\", \"SALES VOLUME (9) - LOCATION_median_parent\", \"SALES VOLUME (9) - LOCATION_median_parent_ind\"], axis=1, inplace=True)"
   ]
  },
  {
   "cell_type": "code",
   "execution_count": 21,
   "id": "31ddb527-f5d5-4cea-b9bc-a4747504312f",
   "metadata": {
    "tags": []
   },
   "outputs": [
    {
     "data": {
      "text/html": [
       "<div>\n",
       "<style scoped>\n",
       "    .dataframe tbody tr th:only-of-type {\n",
       "        vertical-align: middle;\n",
       "    }\n",
       "\n",
       "    .dataframe tbody tr th {\n",
       "        vertical-align: top;\n",
       "    }\n",
       "\n",
       "    .dataframe thead th {\n",
       "        text-align: right;\n",
       "    }\n",
       "</style>\n",
       "<table border=\"1\" class=\"dataframe\">\n",
       "  <thead>\n",
       "    <tr style=\"text-align: right;\">\n",
       "      <th></th>\n",
       "      <th>COMPANY</th>\n",
       "      <th>ADDRESS LINE 1</th>\n",
       "      <th>CITY</th>\n",
       "      <th>STATE</th>\n",
       "      <th>ZIPCODE</th>\n",
       "      <th>ZIP4</th>\n",
       "      <th>COUNTY CODE</th>\n",
       "      <th>AREA CODE</th>\n",
       "      <th>IDCODE</th>\n",
       "      <th>LOCATION EMPLOYEE SIZE CODE</th>\n",
       "      <th>LOCATION SALES VOLUME CODE</th>\n",
       "      <th>PRIMARY SIC CODE</th>\n",
       "      <th>SIC6_DESCRIPTIONS</th>\n",
       "      <th>PRIMARY NAICS CODE</th>\n",
       "      <th>NAICS8 DESCRIPTIONS</th>\n",
       "      <th>SIC CODE</th>\n",
       "      <th>SIC6_DESCRIPTIONS (SIC)</th>\n",
       "      <th>SIC CODE 1</th>\n",
       "      <th>SIC6_DESCRIPTIONS (SIC1)</th>\n",
       "      <th>SIC CODE 2</th>\n",
       "      <th>SIC6_DESCRIPTIONS(SIC2)</th>\n",
       "      <th>SIC CODE 3</th>\n",
       "      <th>SIC6_DESCRIPTIONS(SIC3)</th>\n",
       "      <th>SIC CODE 4</th>\n",
       "      <th>SIC6_DESCRIPTIONS(SIC4)</th>\n",
       "      <th>ARCHIVE VERSION YEAR</th>\n",
       "      <th>YELLOW PAGE CODE</th>\n",
       "      <th>EMPLOYEE SIZE (5) - LOCATION</th>\n",
       "      <th>SALES VOLUME (9) - LOCATION</th>\n",
       "      <th>BUSINESS STATUS CODE</th>\n",
       "      <th>INDUSTRY SPECIFIC FIRST BYTE</th>\n",
       "      <th>YEAR ESTABLISHED</th>\n",
       "      <th>OFFICE SIZE CODE</th>\n",
       "      <th>COMPANY HOLDING STATUS</th>\n",
       "      <th>ABI</th>\n",
       "      <th>SUBSIDIARY NUMBER</th>\n",
       "      <th>PARENT NUMBER</th>\n",
       "      <th>PARENT ACTUAL EMPLOYEE SIZE</th>\n",
       "      <th>PARENT ACTUAL SALES VOLUME</th>\n",
       "      <th>PARENT EMPLOYEE SIZE CODE</th>\n",
       "      <th>PARENT SALES VOLUME CODE</th>\n",
       "      <th>SITE NUMBER</th>\n",
       "      <th>ADDRESS TYPE INDICATOR</th>\n",
       "      <th>POPULATION CODE</th>\n",
       "      <th>CENSUS TRACT</th>\n",
       "      <th>CENSUS BLOCK</th>\n",
       "      <th>LATITUDE</th>\n",
       "      <th>LONGITUDE</th>\n",
       "      <th>MATCH CODE</th>\n",
       "      <th>CBSA CODE</th>\n",
       "      <th>CBSA LEVEL</th>\n",
       "      <th>CSA CODE</th>\n",
       "      <th>FIPS CODE</th>\n",
       "      <th>STORE TYPE</th>\n",
       "    </tr>\n",
       "  </thead>\n",
       "  <tbody>\n",
       "    <tr>\n",
       "      <th>36601</th>\n",
       "      <td>OAK STREET MARKET</td>\n",
       "      <td>300 OAK ST</td>\n",
       "      <td>WAKEFIELD</td>\n",
       "      <td>NE</td>\n",
       "      <td>68784</td>\n",
       "      <td>5225.0</td>\n",
       "      <td>51.0</td>\n",
       "      <td>402</td>\n",
       "      <td>2</td>\n",
       "      <td>A</td>\n",
       "      <td>NaN</td>\n",
       "      <td>541105</td>\n",
       "      <td>GROCERS-RETAIL</td>\n",
       "      <td>44511003.0</td>\n",
       "      <td>SUPERMARKETS/OTHER GROCERY (EXC CONVENIENCE) STRS</td>\n",
       "      <td>NaN</td>\n",
       "      <td>NaN</td>\n",
       "      <td>NaN</td>\n",
       "      <td>NaN</td>\n",
       "      <td>NaN</td>\n",
       "      <td>NaN</td>\n",
       "      <td>NaN</td>\n",
       "      <td>NaN</td>\n",
       "      <td>NaN</td>\n",
       "      <td>NaN</td>\n",
       "      <td>2022</td>\n",
       "      <td>NaN</td>\n",
       "      <td>4.0</td>\n",
       "      <td>NaN</td>\n",
       "      <td>9</td>\n",
       "      <td>NaN</td>\n",
       "      <td>2022.0</td>\n",
       "      <td>NaN</td>\n",
       "      <td>NaN</td>\n",
       "      <td>765155855</td>\n",
       "      <td>NaN</td>\n",
       "      <td>9782.0</td>\n",
       "      <td>NaN</td>\n",
       "      <td>NaN</td>\n",
       "      <td>NaN</td>\n",
       "      <td>NaN</td>\n",
       "      <td>NaN</td>\n",
       "      <td>NaN</td>\n",
       "      <td>3</td>\n",
       "      <td>977800.0</td>\n",
       "      <td>4.0</td>\n",
       "      <td>42.268865</td>\n",
       "      <td>-96.862423</td>\n",
       "      <td>P</td>\n",
       "      <td>43580.0</td>\n",
       "      <td>2.0</td>\n",
       "      <td>0.0</td>\n",
       "      <td>31051.0</td>\n",
       "      <td>OTHER</td>\n",
       "    </tr>\n",
       "    <tr>\n",
       "      <th>73751</th>\n",
       "      <td>KROGER PICK UP</td>\n",
       "      <td>120 PINHOOK RD</td>\n",
       "      <td>MT OLIVET</td>\n",
       "      <td>KY</td>\n",
       "      <td>41064</td>\n",
       "      <td>NaN</td>\n",
       "      <td>201.0</td>\n",
       "      <td>859</td>\n",
       "      <td>2</td>\n",
       "      <td>NaN</td>\n",
       "      <td>NaN</td>\n",
       "      <td>541110</td>\n",
       "      <td>GROCERY PICKUP-CURBSIDE</td>\n",
       "      <td>NaN</td>\n",
       "      <td>NaN</td>\n",
       "      <td>NaN</td>\n",
       "      <td>NaN</td>\n",
       "      <td>NaN</td>\n",
       "      <td>NaN</td>\n",
       "      <td>NaN</td>\n",
       "      <td>NaN</td>\n",
       "      <td>NaN</td>\n",
       "      <td>NaN</td>\n",
       "      <td>NaN</td>\n",
       "      <td>NaN</td>\n",
       "      <td>2022</td>\n",
       "      <td>NaN</td>\n",
       "      <td>NaN</td>\n",
       "      <td>NaN</td>\n",
       "      <td>2</td>\n",
       "      <td>NaN</td>\n",
       "      <td>NaN</td>\n",
       "      <td>NaN</td>\n",
       "      <td>NaN</td>\n",
       "      <td>778830535</td>\n",
       "      <td>NaN</td>\n",
       "      <td>7521503.0</td>\n",
       "      <td>1200.0</td>\n",
       "      <td>137888000.0</td>\n",
       "      <td>I</td>\n",
       "      <td>I</td>\n",
       "      <td>NaN</td>\n",
       "      <td>NaN</td>\n",
       "      <td>3</td>\n",
       "      <td>970100.0</td>\n",
       "      <td>1.0</td>\n",
       "      <td>38.523000</td>\n",
       "      <td>-84.068600</td>\n",
       "      <td>X</td>\n",
       "      <td>0.0</td>\n",
       "      <td>NaN</td>\n",
       "      <td>0.0</td>\n",
       "      <td>21201.0</td>\n",
       "      <td>KROGER</td>\n",
       "    </tr>\n",
       "  </tbody>\n",
       "</table>\n",
       "</div>"
      ],
      "text/plain": [
       "                 COMPANY  ADDRESS LINE 1       CITY STATE  ZIPCODE    ZIP4  \\\n",
       "36601  OAK STREET MARKET      300 OAK ST  WAKEFIELD    NE    68784  5225.0   \n",
       "73751     KROGER PICK UP  120 PINHOOK RD  MT OLIVET    KY    41064     NaN   \n",
       "\n",
       "       COUNTY CODE  AREA CODE  IDCODE LOCATION EMPLOYEE SIZE CODE  \\\n",
       "36601         51.0        402       2                           A   \n",
       "73751        201.0        859       2                         NaN   \n",
       "\n",
       "      LOCATION SALES VOLUME CODE  PRIMARY SIC CODE        SIC6_DESCRIPTIONS  \\\n",
       "36601                        NaN            541105           GROCERS-RETAIL   \n",
       "73751                        NaN            541110  GROCERY PICKUP-CURBSIDE   \n",
       "\n",
       "       PRIMARY NAICS CODE                                NAICS8 DESCRIPTIONS  \\\n",
       "36601          44511003.0  SUPERMARKETS/OTHER GROCERY (EXC CONVENIENCE) STRS   \n",
       "73751                 NaN                                                NaN   \n",
       "\n",
       "       SIC CODE SIC6_DESCRIPTIONS (SIC)  SIC CODE 1 SIC6_DESCRIPTIONS (SIC1)  \\\n",
       "36601       NaN                     NaN         NaN                      NaN   \n",
       "73751       NaN                     NaN         NaN                      NaN   \n",
       "\n",
       "       SIC CODE 2 SIC6_DESCRIPTIONS(SIC2)  SIC CODE 3 SIC6_DESCRIPTIONS(SIC3)  \\\n",
       "36601         NaN                     NaN         NaN                     NaN   \n",
       "73751         NaN                     NaN         NaN                     NaN   \n",
       "\n",
       "       SIC CODE 4 SIC6_DESCRIPTIONS(SIC4)  ARCHIVE VERSION YEAR  \\\n",
       "36601         NaN                     NaN                  2022   \n",
       "73751         NaN                     NaN                  2022   \n",
       "\n",
       "       YELLOW PAGE CODE  EMPLOYEE SIZE (5) - LOCATION  \\\n",
       "36601               NaN                           4.0   \n",
       "73751               NaN                           NaN   \n",
       "\n",
       "       SALES VOLUME (9) - LOCATION  BUSINESS STATUS CODE  \\\n",
       "36601                          NaN                     9   \n",
       "73751                          NaN                     2   \n",
       "\n",
       "      INDUSTRY SPECIFIC FIRST BYTE  YEAR ESTABLISHED  OFFICE SIZE CODE  \\\n",
       "36601                          NaN            2022.0               NaN   \n",
       "73751                          NaN               NaN               NaN   \n",
       "\n",
       "       COMPANY HOLDING STATUS        ABI  SUBSIDIARY NUMBER  PARENT NUMBER  \\\n",
       "36601                     NaN  765155855                NaN         9782.0   \n",
       "73751                     NaN  778830535                NaN      7521503.0   \n",
       "\n",
       "       PARENT ACTUAL EMPLOYEE SIZE  PARENT ACTUAL SALES VOLUME  \\\n",
       "36601                          NaN                         NaN   \n",
       "73751                       1200.0                 137888000.0   \n",
       "\n",
       "      PARENT EMPLOYEE SIZE CODE PARENT SALES VOLUME CODE  SITE NUMBER  \\\n",
       "36601                       NaN                      NaN          NaN   \n",
       "73751                         I                        I          NaN   \n",
       "\n",
       "      ADDRESS TYPE INDICATOR  POPULATION CODE  CENSUS TRACT  CENSUS BLOCK  \\\n",
       "36601                    NaN                3      977800.0           4.0   \n",
       "73751                    NaN                3      970100.0           1.0   \n",
       "\n",
       "        LATITUDE  LONGITUDE MATCH CODE  CBSA CODE  CBSA LEVEL  CSA CODE  \\\n",
       "36601  42.268865 -96.862423          P    43580.0         2.0       0.0   \n",
       "73751  38.523000 -84.068600          X        0.0         NaN       0.0   \n",
       "\n",
       "       FIPS CODE STORE TYPE  \n",
       "36601    31051.0      OTHER  \n",
       "73751    21201.0     KROGER  "
      ]
     },
     "execution_count": 21,
     "metadata": {},
     "output_type": "execute_result"
    }
   ],
   "source": [
    "supermarkets.loc[supermarkets[\"SALES VOLUME (9) - LOCATION\"].isna()]"
   ]
  },
  {
   "cell_type": "code",
   "execution_count": 22,
   "id": "2260d07e-1b3c-4c9c-9eff-7ec7e3edb162",
   "metadata": {
    "tags": []
   },
   "outputs": [
    {
     "data": {
      "text/html": [
       "<div>\n",
       "<style scoped>\n",
       "    .dataframe tbody tr th:only-of-type {\n",
       "        vertical-align: middle;\n",
       "    }\n",
       "\n",
       "    .dataframe tbody tr th {\n",
       "        vertical-align: top;\n",
       "    }\n",
       "\n",
       "    .dataframe thead th {\n",
       "        text-align: right;\n",
       "    }\n",
       "</style>\n",
       "<table border=\"1\" class=\"dataframe\">\n",
       "  <thead>\n",
       "    <tr style=\"text-align: right;\">\n",
       "      <th></th>\n",
       "      <th>STORE TYPE</th>\n",
       "      <th>STORE COUNT</th>\n",
       "      <th>Percent</th>\n",
       "    </tr>\n",
       "  </thead>\n",
       "  <tbody>\n",
       "    <tr>\n",
       "      <th>0</th>\n",
       "      <td>AHOLD DELHAIZE</td>\n",
       "      <td>2105</td>\n",
       "      <td>2.701835</td>\n",
       "    </tr>\n",
       "    <tr>\n",
       "      <th>1</th>\n",
       "      <td>ALBERTSONS</td>\n",
       "      <td>2407</td>\n",
       "      <td>3.089462</td>\n",
       "    </tr>\n",
       "    <tr>\n",
       "      <th>2</th>\n",
       "      <td>COSTCO</td>\n",
       "      <td>29</td>\n",
       "      <td>0.037222</td>\n",
       "    </tr>\n",
       "    <tr>\n",
       "      <th>3</th>\n",
       "      <td>KROGER</td>\n",
       "      <td>3559</td>\n",
       "      <td>4.568091</td>\n",
       "    </tr>\n",
       "    <tr>\n",
       "      <th>4</th>\n",
       "      <td>OTHER</td>\n",
       "      <td>65420</td>\n",
       "      <td>83.968682</td>\n",
       "    </tr>\n",
       "    <tr>\n",
       "      <th>5</th>\n",
       "      <td>WALMART</td>\n",
       "      <td>4390</td>\n",
       "      <td>5.634707</td>\n",
       "    </tr>\n",
       "  </tbody>\n",
       "</table>\n",
       "</div>"
      ],
      "text/plain": [
       "       STORE TYPE  STORE COUNT    Percent\n",
       "0  AHOLD DELHAIZE         2105   2.701835\n",
       "1      ALBERTSONS         2407   3.089462\n",
       "2          COSTCO           29   0.037222\n",
       "3          KROGER         3559   4.568091\n",
       "4           OTHER        65420  83.968682\n",
       "5         WALMART         4390   5.634707"
      ]
     },
     "execution_count": 22,
     "metadata": {},
     "output_type": "execute_result"
    }
   ],
   "source": [
    "#Finds the Percent of Brick and Mortar and Store Count for Each Major Parent Company and Other\n",
    "store_count_us = supermarkets.groupby('STORE TYPE').count()[[\"CITY\"]].reset_index().rename(columns={\"CITY\":\"STORE COUNT\"})\n",
    "store_count_us['Percent'] = store_count_us['STORE COUNT'] / supermarkets.shape[0] * 100\n",
    "\n",
    "store_count_us"
   ]
  },
  {
   "cell_type": "markdown",
   "id": "3355c689-072b-4073-9903-4623967b22a5",
   "metadata": {},
   "source": [
    "# Illinois Analysis"
   ]
  },
  {
   "cell_type": "code",
   "execution_count": 23,
   "id": "d558e821-5b32-443f-bf30-ead0c51e57e8",
   "metadata": {
    "tags": []
   },
   "outputs": [
    {
     "data": {
      "text/html": [
       "<div>\n",
       "<style scoped>\n",
       "    .dataframe tbody tr th:only-of-type {\n",
       "        vertical-align: middle;\n",
       "    }\n",
       "\n",
       "    .dataframe tbody tr th {\n",
       "        vertical-align: top;\n",
       "    }\n",
       "\n",
       "    .dataframe thead th {\n",
       "        text-align: right;\n",
       "    }\n",
       "</style>\n",
       "<table border=\"1\" class=\"dataframe\">\n",
       "  <thead>\n",
       "    <tr style=\"text-align: right;\">\n",
       "      <th></th>\n",
       "      <th>COMPANY</th>\n",
       "      <th>ADDRESS LINE 1</th>\n",
       "      <th>CITY</th>\n",
       "      <th>STATE</th>\n",
       "      <th>ZIPCODE</th>\n",
       "      <th>ZIP4</th>\n",
       "      <th>COUNTY CODE</th>\n",
       "      <th>AREA CODE</th>\n",
       "      <th>IDCODE</th>\n",
       "      <th>LOCATION EMPLOYEE SIZE CODE</th>\n",
       "      <th>LOCATION SALES VOLUME CODE</th>\n",
       "      <th>PRIMARY SIC CODE</th>\n",
       "      <th>SIC6_DESCRIPTIONS</th>\n",
       "      <th>PRIMARY NAICS CODE</th>\n",
       "      <th>NAICS8 DESCRIPTIONS</th>\n",
       "      <th>SIC CODE</th>\n",
       "      <th>SIC6_DESCRIPTIONS (SIC)</th>\n",
       "      <th>SIC CODE 1</th>\n",
       "      <th>SIC6_DESCRIPTIONS (SIC1)</th>\n",
       "      <th>SIC CODE 2</th>\n",
       "      <th>SIC6_DESCRIPTIONS(SIC2)</th>\n",
       "      <th>SIC CODE 3</th>\n",
       "      <th>SIC6_DESCRIPTIONS(SIC3)</th>\n",
       "      <th>SIC CODE 4</th>\n",
       "      <th>SIC6_DESCRIPTIONS(SIC4)</th>\n",
       "      <th>ARCHIVE VERSION YEAR</th>\n",
       "      <th>YELLOW PAGE CODE</th>\n",
       "      <th>EMPLOYEE SIZE (5) - LOCATION</th>\n",
       "      <th>SALES VOLUME (9) - LOCATION</th>\n",
       "      <th>BUSINESS STATUS CODE</th>\n",
       "      <th>INDUSTRY SPECIFIC FIRST BYTE</th>\n",
       "      <th>YEAR ESTABLISHED</th>\n",
       "      <th>OFFICE SIZE CODE</th>\n",
       "      <th>COMPANY HOLDING STATUS</th>\n",
       "      <th>ABI</th>\n",
       "      <th>SUBSIDIARY NUMBER</th>\n",
       "      <th>PARENT NUMBER</th>\n",
       "      <th>PARENT ACTUAL EMPLOYEE SIZE</th>\n",
       "      <th>PARENT ACTUAL SALES VOLUME</th>\n",
       "      <th>PARENT EMPLOYEE SIZE CODE</th>\n",
       "      <th>PARENT SALES VOLUME CODE</th>\n",
       "      <th>SITE NUMBER</th>\n",
       "      <th>ADDRESS TYPE INDICATOR</th>\n",
       "      <th>POPULATION CODE</th>\n",
       "      <th>CENSUS TRACT</th>\n",
       "      <th>CENSUS BLOCK</th>\n",
       "      <th>LATITUDE</th>\n",
       "      <th>LONGITUDE</th>\n",
       "      <th>MATCH CODE</th>\n",
       "      <th>CBSA CODE</th>\n",
       "      <th>CBSA LEVEL</th>\n",
       "      <th>CSA CODE</th>\n",
       "      <th>FIPS CODE</th>\n",
       "      <th>STORE TYPE</th>\n",
       "    </tr>\n",
       "  </thead>\n",
       "  <tbody>\n",
       "    <tr>\n",
       "      <th>6</th>\n",
       "      <td>KROGER</td>\n",
       "      <td>301 E MCKINLEY RD</td>\n",
       "      <td>OTTAWA</td>\n",
       "      <td>IL</td>\n",
       "      <td>61350</td>\n",
       "      <td>4805.0</td>\n",
       "      <td>99.0</td>\n",
       "      <td>815</td>\n",
       "      <td>2</td>\n",
       "      <td>E</td>\n",
       "      <td>F</td>\n",
       "      <td>541105</td>\n",
       "      <td>GROCERS-RETAIL</td>\n",
       "      <td>44511003.0</td>\n",
       "      <td>SUPERMARKETS/OTHER GROCERY (EXC CONVENIENCE) STRS</td>\n",
       "      <td>NaN</td>\n",
       "      <td>NaN</td>\n",
       "      <td>NaN</td>\n",
       "      <td>NaN</td>\n",
       "      <td>NaN</td>\n",
       "      <td>NaN</td>\n",
       "      <td>NaN</td>\n",
       "      <td>NaN</td>\n",
       "      <td>NaN</td>\n",
       "      <td>NaN</td>\n",
       "      <td>2022</td>\n",
       "      <td>39106.0</td>\n",
       "      <td>70.0</td>\n",
       "      <td>14158.0</td>\n",
       "      <td>2</td>\n",
       "      <td>P</td>\n",
       "      <td>NaN</td>\n",
       "      <td>NaN</td>\n",
       "      <td>NaN</td>\n",
       "      <td>152123287</td>\n",
       "      <td>NaN</td>\n",
       "      <td>7521503.0</td>\n",
       "      <td>1200.0</td>\n",
       "      <td>137888000.0</td>\n",
       "      <td>I</td>\n",
       "      <td>I</td>\n",
       "      <td>152123287.0</td>\n",
       "      <td>NaN</td>\n",
       "      <td>7</td>\n",
       "      <td>963500.0</td>\n",
       "      <td>1.0</td>\n",
       "      <td>41.323858</td>\n",
       "      <td>-88.836271</td>\n",
       "      <td>P</td>\n",
       "      <td>36837.0</td>\n",
       "      <td>1.0</td>\n",
       "      <td>176.0</td>\n",
       "      <td>17099.0</td>\n",
       "      <td>KROGER</td>\n",
       "    </tr>\n",
       "    <tr>\n",
       "      <th>81</th>\n",
       "      <td>SPRING VALLEY SUPERMARKET</td>\n",
       "      <td>117 S SPALDING ST</td>\n",
       "      <td>SPRING VALLEY</td>\n",
       "      <td>IL</td>\n",
       "      <td>61362</td>\n",
       "      <td>2097.0</td>\n",
       "      <td>11.0</td>\n",
       "      <td>815</td>\n",
       "      <td>2</td>\n",
       "      <td>E</td>\n",
       "      <td>E</td>\n",
       "      <td>541105</td>\n",
       "      <td>GROCERS-RETAIL</td>\n",
       "      <td>44511003.0</td>\n",
       "      <td>SUPERMARKETS/OTHER GROCERY (EXC CONVENIENCE) STRS</td>\n",
       "      <td>542107.0</td>\n",
       "      <td>MEAT-RETAIL</td>\n",
       "      <td>NaN</td>\n",
       "      <td>NaN</td>\n",
       "      <td>NaN</td>\n",
       "      <td>NaN</td>\n",
       "      <td>NaN</td>\n",
       "      <td>NaN</td>\n",
       "      <td>NaN</td>\n",
       "      <td>NaN</td>\n",
       "      <td>2022</td>\n",
       "      <td>39106.0</td>\n",
       "      <td>60.0</td>\n",
       "      <td>8908.0</td>\n",
       "      <td>9</td>\n",
       "      <td>NaN</td>\n",
       "      <td>NaN</td>\n",
       "      <td>NaN</td>\n",
       "      <td>NaN</td>\n",
       "      <td>2994101</td>\n",
       "      <td>NaN</td>\n",
       "      <td>7164.0</td>\n",
       "      <td>NaN</td>\n",
       "      <td>NaN</td>\n",
       "      <td>NaN</td>\n",
       "      <td>NaN</td>\n",
       "      <td>NaN</td>\n",
       "      <td>NaN</td>\n",
       "      <td>5</td>\n",
       "      <td>965200.0</td>\n",
       "      <td>2.0</td>\n",
       "      <td>41.323951</td>\n",
       "      <td>-89.199282</td>\n",
       "      <td>P</td>\n",
       "      <td>36837.0</td>\n",
       "      <td>1.0</td>\n",
       "      <td>176.0</td>\n",
       "      <td>17011.0</td>\n",
       "      <td>OTHER</td>\n",
       "    </tr>\n",
       "    <tr>\n",
       "      <th>134</th>\n",
       "      <td>SENECA FOOD MART</td>\n",
       "      <td>271 S MAIN ST</td>\n",
       "      <td>SENECA</td>\n",
       "      <td>IL</td>\n",
       "      <td>61360</td>\n",
       "      <td>9415.0</td>\n",
       "      <td>99.0</td>\n",
       "      <td>815</td>\n",
       "      <td>2</td>\n",
       "      <td>B</td>\n",
       "      <td>C</td>\n",
       "      <td>541105</td>\n",
       "      <td>GROCERS-RETAIL</td>\n",
       "      <td>44511003.0</td>\n",
       "      <td>SUPERMARKETS/OTHER GROCERY (EXC CONVENIENCE) STRS</td>\n",
       "      <td>209903.0</td>\n",
       "      <td>FOOD PRODUCTS &amp; MANUFACTURERS</td>\n",
       "      <td>NaN</td>\n",
       "      <td>NaN</td>\n",
       "      <td>NaN</td>\n",
       "      <td>NaN</td>\n",
       "      <td>NaN</td>\n",
       "      <td>NaN</td>\n",
       "      <td>NaN</td>\n",
       "      <td>NaN</td>\n",
       "      <td>2022</td>\n",
       "      <td>39106.0</td>\n",
       "      <td>8.0</td>\n",
       "      <td>1618.0</td>\n",
       "      <td>2</td>\n",
       "      <td>NaN</td>\n",
       "      <td>NaN</td>\n",
       "      <td>NaN</td>\n",
       "      <td>NaN</td>\n",
       "      <td>152142808</td>\n",
       "      <td>NaN</td>\n",
       "      <td>558247.0</td>\n",
       "      <td>75.0</td>\n",
       "      <td>1385280.0</td>\n",
       "      <td>E</td>\n",
       "      <td>K</td>\n",
       "      <td>NaN</td>\n",
       "      <td>NaN</td>\n",
       "      <td>4</td>\n",
       "      <td>963700.0</td>\n",
       "      <td>1.0</td>\n",
       "      <td>41.306622</td>\n",
       "      <td>-88.610207</td>\n",
       "      <td>P</td>\n",
       "      <td>36837.0</td>\n",
       "      <td>1.0</td>\n",
       "      <td>176.0</td>\n",
       "      <td>17099.0</td>\n",
       "      <td>OTHER</td>\n",
       "    </tr>\n",
       "    <tr>\n",
       "      <th>157</th>\n",
       "      <td>HANDY FOODS</td>\n",
       "      <td>604 W MAIN ST</td>\n",
       "      <td>OTTAWA</td>\n",
       "      <td>IL</td>\n",
       "      <td>61350</td>\n",
       "      <td>2718.0</td>\n",
       "      <td>99.0</td>\n",
       "      <td>815</td>\n",
       "      <td>2</td>\n",
       "      <td>E</td>\n",
       "      <td>F</td>\n",
       "      <td>541105</td>\n",
       "      <td>GROCERS-RETAIL</td>\n",
       "      <td>44511003.0</td>\n",
       "      <td>SUPERMARKETS/OTHER GROCERY (EXC CONVENIENCE) STRS</td>\n",
       "      <td>NaN</td>\n",
       "      <td>NaN</td>\n",
       "      <td>NaN</td>\n",
       "      <td>NaN</td>\n",
       "      <td>NaN</td>\n",
       "      <td>NaN</td>\n",
       "      <td>NaN</td>\n",
       "      <td>NaN</td>\n",
       "      <td>NaN</td>\n",
       "      <td>NaN</td>\n",
       "      <td>2022</td>\n",
       "      <td>39106.0</td>\n",
       "      <td>90.0</td>\n",
       "      <td>19214.0</td>\n",
       "      <td>9</td>\n",
       "      <td>L</td>\n",
       "      <td>1963.0</td>\n",
       "      <td>NaN</td>\n",
       "      <td>NaN</td>\n",
       "      <td>152124368</td>\n",
       "      <td>NaN</td>\n",
       "      <td>7972.0</td>\n",
       "      <td>NaN</td>\n",
       "      <td>NaN</td>\n",
       "      <td>NaN</td>\n",
       "      <td>NaN</td>\n",
       "      <td>NaN</td>\n",
       "      <td>NaN</td>\n",
       "      <td>7</td>\n",
       "      <td>962800.0</td>\n",
       "      <td>4.0</td>\n",
       "      <td>41.346474</td>\n",
       "      <td>-88.848812</td>\n",
       "      <td>P</td>\n",
       "      <td>36837.0</td>\n",
       "      <td>1.0</td>\n",
       "      <td>176.0</td>\n",
       "      <td>17099.0</td>\n",
       "      <td>OTHER</td>\n",
       "    </tr>\n",
       "    <tr>\n",
       "      <th>173</th>\n",
       "      <td>SULLIVAN'S FOODS</td>\n",
       "      <td>1102 MERIDEN ST</td>\n",
       "      <td>MENDOTA</td>\n",
       "      <td>IL</td>\n",
       "      <td>61342</td>\n",
       "      <td>1054.0</td>\n",
       "      <td>99.0</td>\n",
       "      <td>815</td>\n",
       "      <td>2</td>\n",
       "      <td>E</td>\n",
       "      <td>F</td>\n",
       "      <td>541105</td>\n",
       "      <td>GROCERS-RETAIL</td>\n",
       "      <td>44511003.0</td>\n",
       "      <td>SUPERMARKETS/OTHER GROCERY (EXC CONVENIENCE) STRS</td>\n",
       "      <td>NaN</td>\n",
       "      <td>NaN</td>\n",
       "      <td>NaN</td>\n",
       "      <td>NaN</td>\n",
       "      <td>NaN</td>\n",
       "      <td>NaN</td>\n",
       "      <td>NaN</td>\n",
       "      <td>NaN</td>\n",
       "      <td>NaN</td>\n",
       "      <td>NaN</td>\n",
       "      <td>2022</td>\n",
       "      <td>39106.0</td>\n",
       "      <td>72.0</td>\n",
       "      <td>14562.0</td>\n",
       "      <td>2</td>\n",
       "      <td>NaN</td>\n",
       "      <td>1967.0</td>\n",
       "      <td>NaN</td>\n",
       "      <td>NaN</td>\n",
       "      <td>2971463</td>\n",
       "      <td>NaN</td>\n",
       "      <td>356801134.0</td>\n",
       "      <td>NaN</td>\n",
       "      <td>389500.0</td>\n",
       "      <td>NaN</td>\n",
       "      <td>I</td>\n",
       "      <td>2971463.0</td>\n",
       "      <td>NaN</td>\n",
       "      <td>5</td>\n",
       "      <td>961900.0</td>\n",
       "      <td>3.0</td>\n",
       "      <td>41.555409</td>\n",
       "      <td>-89.125462</td>\n",
       "      <td>0</td>\n",
       "      <td>36837.0</td>\n",
       "      <td>1.0</td>\n",
       "      <td>176.0</td>\n",
       "      <td>17099.0</td>\n",
       "      <td>OTHER</td>\n",
       "    </tr>\n",
       "  </tbody>\n",
       "</table>\n",
       "</div>"
      ],
      "text/plain": [
       "                       COMPANY     ADDRESS LINE 1           CITY STATE  \\\n",
       "6                       KROGER  301 E MCKINLEY RD         OTTAWA    IL   \n",
       "81   SPRING VALLEY SUPERMARKET  117 S SPALDING ST  SPRING VALLEY    IL   \n",
       "134           SENECA FOOD MART      271 S MAIN ST         SENECA    IL   \n",
       "157                HANDY FOODS      604 W MAIN ST         OTTAWA    IL   \n",
       "173           SULLIVAN'S FOODS    1102 MERIDEN ST        MENDOTA    IL   \n",
       "\n",
       "     ZIPCODE    ZIP4  COUNTY CODE  AREA CODE  IDCODE  \\\n",
       "6      61350  4805.0         99.0        815       2   \n",
       "81     61362  2097.0         11.0        815       2   \n",
       "134    61360  9415.0         99.0        815       2   \n",
       "157    61350  2718.0         99.0        815       2   \n",
       "173    61342  1054.0         99.0        815       2   \n",
       "\n",
       "    LOCATION EMPLOYEE SIZE CODE LOCATION SALES VOLUME CODE  PRIMARY SIC CODE  \\\n",
       "6                             E                          F            541105   \n",
       "81                            E                          E            541105   \n",
       "134                           B                          C            541105   \n",
       "157                           E                          F            541105   \n",
       "173                           E                          F            541105   \n",
       "\n",
       "    SIC6_DESCRIPTIONS  PRIMARY NAICS CODE  \\\n",
       "6      GROCERS-RETAIL          44511003.0   \n",
       "81     GROCERS-RETAIL          44511003.0   \n",
       "134    GROCERS-RETAIL          44511003.0   \n",
       "157    GROCERS-RETAIL          44511003.0   \n",
       "173    GROCERS-RETAIL          44511003.0   \n",
       "\n",
       "                                   NAICS8 DESCRIPTIONS  SIC CODE  \\\n",
       "6    SUPERMARKETS/OTHER GROCERY (EXC CONVENIENCE) STRS       NaN   \n",
       "81   SUPERMARKETS/OTHER GROCERY (EXC CONVENIENCE) STRS  542107.0   \n",
       "134  SUPERMARKETS/OTHER GROCERY (EXC CONVENIENCE) STRS  209903.0   \n",
       "157  SUPERMARKETS/OTHER GROCERY (EXC CONVENIENCE) STRS       NaN   \n",
       "173  SUPERMARKETS/OTHER GROCERY (EXC CONVENIENCE) STRS       NaN   \n",
       "\n",
       "           SIC6_DESCRIPTIONS (SIC)  SIC CODE 1 SIC6_DESCRIPTIONS (SIC1)  \\\n",
       "6                              NaN         NaN                      NaN   \n",
       "81                     MEAT-RETAIL         NaN                      NaN   \n",
       "134  FOOD PRODUCTS & MANUFACTURERS         NaN                      NaN   \n",
       "157                            NaN         NaN                      NaN   \n",
       "173                            NaN         NaN                      NaN   \n",
       "\n",
       "     SIC CODE 2 SIC6_DESCRIPTIONS(SIC2)  SIC CODE 3 SIC6_DESCRIPTIONS(SIC3)  \\\n",
       "6           NaN                     NaN         NaN                     NaN   \n",
       "81          NaN                     NaN         NaN                     NaN   \n",
       "134         NaN                     NaN         NaN                     NaN   \n",
       "157         NaN                     NaN         NaN                     NaN   \n",
       "173         NaN                     NaN         NaN                     NaN   \n",
       "\n",
       "     SIC CODE 4 SIC6_DESCRIPTIONS(SIC4)  ARCHIVE VERSION YEAR  \\\n",
       "6           NaN                     NaN                  2022   \n",
       "81          NaN                     NaN                  2022   \n",
       "134         NaN                     NaN                  2022   \n",
       "157         NaN                     NaN                  2022   \n",
       "173         NaN                     NaN                  2022   \n",
       "\n",
       "     YELLOW PAGE CODE  EMPLOYEE SIZE (5) - LOCATION  \\\n",
       "6             39106.0                          70.0   \n",
       "81            39106.0                          60.0   \n",
       "134           39106.0                           8.0   \n",
       "157           39106.0                          90.0   \n",
       "173           39106.0                          72.0   \n",
       "\n",
       "     SALES VOLUME (9) - LOCATION  BUSINESS STATUS CODE  \\\n",
       "6                        14158.0                     2   \n",
       "81                        8908.0                     9   \n",
       "134                       1618.0                     2   \n",
       "157                      19214.0                     9   \n",
       "173                      14562.0                     2   \n",
       "\n",
       "    INDUSTRY SPECIFIC FIRST BYTE  YEAR ESTABLISHED  OFFICE SIZE CODE  \\\n",
       "6                              P               NaN               NaN   \n",
       "81                           NaN               NaN               NaN   \n",
       "134                          NaN               NaN               NaN   \n",
       "157                            L            1963.0               NaN   \n",
       "173                          NaN            1967.0               NaN   \n",
       "\n",
       "     COMPANY HOLDING STATUS        ABI  SUBSIDIARY NUMBER  PARENT NUMBER  \\\n",
       "6                       NaN  152123287                NaN      7521503.0   \n",
       "81                      NaN    2994101                NaN         7164.0   \n",
       "134                     NaN  152142808                NaN       558247.0   \n",
       "157                     NaN  152124368                NaN         7972.0   \n",
       "173                     NaN    2971463                NaN    356801134.0   \n",
       "\n",
       "     PARENT ACTUAL EMPLOYEE SIZE  PARENT ACTUAL SALES VOLUME  \\\n",
       "6                         1200.0                 137888000.0   \n",
       "81                           NaN                         NaN   \n",
       "134                         75.0                   1385280.0   \n",
       "157                          NaN                         NaN   \n",
       "173                          NaN                    389500.0   \n",
       "\n",
       "    PARENT EMPLOYEE SIZE CODE PARENT SALES VOLUME CODE  SITE NUMBER  \\\n",
       "6                           I                        I  152123287.0   \n",
       "81                        NaN                      NaN          NaN   \n",
       "134                         E                        K          NaN   \n",
       "157                       NaN                      NaN          NaN   \n",
       "173                       NaN                        I    2971463.0   \n",
       "\n",
       "    ADDRESS TYPE INDICATOR  POPULATION CODE  CENSUS TRACT  CENSUS BLOCK  \\\n",
       "6                      NaN                7      963500.0           1.0   \n",
       "81                     NaN                5      965200.0           2.0   \n",
       "134                    NaN                4      963700.0           1.0   \n",
       "157                    NaN                7      962800.0           4.0   \n",
       "173                    NaN                5      961900.0           3.0   \n",
       "\n",
       "      LATITUDE  LONGITUDE MATCH CODE  CBSA CODE  CBSA LEVEL  CSA CODE  \\\n",
       "6    41.323858 -88.836271          P    36837.0         1.0     176.0   \n",
       "81   41.323951 -89.199282          P    36837.0         1.0     176.0   \n",
       "134  41.306622 -88.610207          P    36837.0         1.0     176.0   \n",
       "157  41.346474 -88.848812          P    36837.0         1.0     176.0   \n",
       "173  41.555409 -89.125462          0    36837.0         1.0     176.0   \n",
       "\n",
       "     FIPS CODE STORE TYPE  \n",
       "6      17099.0     KROGER  \n",
       "81     17011.0      OTHER  \n",
       "134    17099.0      OTHER  \n",
       "157    17099.0      OTHER  \n",
       "173    17099.0      OTHER  "
      ]
     },
     "execution_count": 23,
     "metadata": {},
     "output_type": "execute_result"
    }
   ],
   "source": [
    "supermarkets_il = supermarkets.loc[supermarkets[\"STATE\"] == \"IL\"]\n",
    "supermarkets_il.head() \n",
    "#There are 2662 Supermarkets/companies in IL"
   ]
  },
  {
   "cell_type": "code",
   "execution_count": 24,
   "id": "d9c94d3e-d206-4735-996e-43135edb692d",
   "metadata": {
    "tags": []
   },
   "outputs": [
    {
     "data": {
      "text/html": [
       "<div>\n",
       "<style scoped>\n",
       "    .dataframe tbody tr th:only-of-type {\n",
       "        vertical-align: middle;\n",
       "    }\n",
       "\n",
       "    .dataframe tbody tr th {\n",
       "        vertical-align: top;\n",
       "    }\n",
       "\n",
       "    .dataframe thead th {\n",
       "        text-align: right;\n",
       "    }\n",
       "</style>\n",
       "<table border=\"1\" class=\"dataframe\">\n",
       "  <thead>\n",
       "    <tr style=\"text-align: right;\">\n",
       "      <th></th>\n",
       "      <th>STORE TYPE</th>\n",
       "      <th>STORE COUNT</th>\n",
       "      <th>Percent</th>\n",
       "    </tr>\n",
       "  </thead>\n",
       "  <tbody>\n",
       "    <tr>\n",
       "      <th>0</th>\n",
       "      <td>ALBERTSONS</td>\n",
       "      <td>189</td>\n",
       "      <td>7.099925</td>\n",
       "    </tr>\n",
       "    <tr>\n",
       "      <th>1</th>\n",
       "      <td>KROGER</td>\n",
       "      <td>122</td>\n",
       "      <td>4.583020</td>\n",
       "    </tr>\n",
       "    <tr>\n",
       "      <th>2</th>\n",
       "      <td>OTHER</td>\n",
       "      <td>2217</td>\n",
       "      <td>83.283246</td>\n",
       "    </tr>\n",
       "    <tr>\n",
       "      <th>3</th>\n",
       "      <td>WALMART</td>\n",
       "      <td>134</td>\n",
       "      <td>5.033809</td>\n",
       "    </tr>\n",
       "  </tbody>\n",
       "</table>\n",
       "</div>"
      ],
      "text/plain": [
       "   STORE TYPE  STORE COUNT    Percent\n",
       "0  ALBERTSONS          189   7.099925\n",
       "1      KROGER          122   4.583020\n",
       "2       OTHER         2217  83.283246\n",
       "3     WALMART          134   5.033809"
      ]
     },
     "execution_count": 24,
     "metadata": {},
     "output_type": "execute_result"
    }
   ],
   "source": [
    "#Finds the Percent of Brick and Mortar and Store Count for Each Major Parent Company and Other in IL\n",
    "store_count_il = supermarkets_il.groupby('STORE TYPE').count()[[\"CITY\"]].reset_index().rename(columns={\"CITY\":\"STORE COUNT\"})\n",
    "store_count_il['Percent'] = store_count_il['STORE COUNT'] / supermarkets_il.shape[0] * 100\n",
    "\n",
    "store_count_il\n",
    "\n",
    "#External Sources\n",
    "#ALBERTSONS: 188 Locations (Jewel-Osco) (wikipedia)\n",
    "#KROGER: 88 Total: \"31 grocery stores across 25 cities in Illinois\" (Kroger.com) + 44 Mariano's (Mariano's.com) + 13 Ruler Foods (google maps)\n",
    "#WALMART: 169 Total Retail Units not including discount stores (Supercenters; Neighborhood Markets; Sam's Club) (Walmart.com)\n",
    "#COSTCO: 23 Warehouses (Costco.com)\n",
    "#AHOLD DELHAIZE: 0 (wikipedia)"
   ]
  },
  {
   "cell_type": "markdown",
   "id": "1411aa8b-4698-42e4-bff9-fb359bbba73b",
   "metadata": {},
   "source": [
    "# HHI and MARKET SHARE"
   ]
  },
  {
   "cell_type": "code",
   "execution_count": 39,
   "id": "8daadb2d-38ac-41e0-b1da-e531b0446d52",
   "metadata": {
    "tags": []
   },
   "outputs": [],
   "source": [
    "import numpy as np\n",
    "def calculate_market_share(df):\n",
    "    \"\"\"\n",
    "    Calculate market share based on the input dataframe.\n",
    "    Total Market Volume is calculated by the summation of each company's total sales volume by location and grouped under parent number.\n",
    "    Include the corresponding STORE TYPE from the supermarkets dataframe.\n",
    "    \"\"\"\n",
    "\n",
    "    market_share = df.groupby('PARENT NUMBER')[[\"SALES VOLUME (9) - LOCATION\", 'STORE TYPE']].agg({\"SALES VOLUME (9) - LOCATION\":'sum',\n",
    "                                                                                         'STORE TYPE': 'first'}).reset_index().rename(columns={\"SALES VOLUME (9) - LOCATION\": \"TOTAL SALES\"})\n",
    "    market_share[\"PERCENT\"] = (market_share[\"TOTAL SALES\"] / market_share[\"TOTAL SALES\"].sum()) * 100\n",
    "\n",
    "    market_share_sorted = market_share.sort_values(by=[\"PERCENT\"], ascending=False)\n",
    "\n",
    "    return market_share_sorted\n",
    "\n",
    "def hhi(num):\n",
    "    \"\"\"\n",
    "    Calculates the HHI of the market \n",
    "    NOTES: \n",
    "    \"\"\"\n",
    "    return np.square(num).sum() \n",
    "\n",
    "def categorize_market_concentration(hhi_value):\n",
    "    \"\"\"\n",
    "    Categorizations are based on the Antitrust Division of the US DOJ\n",
    "    \"\"\"\n",
    "    if hhi_value > 2500:\n",
    "        return 'HIGHLY CONCENTRATED'\n",
    "    elif hhi_value > 1500:\n",
    "        return 'MODERATELY CONCENTRATED'\n",
    "    else:\n",
    "        return 'NOT CONCENTRATED'\n"
   ]
  },
  {
   "cell_type": "code",
   "execution_count": 40,
   "id": "4cbc21ff-8180-44d4-894f-9c54f098a968",
   "metadata": {
    "tags": []
   },
   "outputs": [],
   "source": [
    "#Generates new dataframe of STATE and HHI index for the state\n",
    "states = stores_general[\"STATE\"].unique().tolist()\n",
    "hhi_values = []\n",
    "\n",
    "for state in states:\n",
    "    df_state = supermarkets.loc[supermarkets[\"STATE\"] == state]\n",
    "    df_state = process_dataframe(df_state)\n",
    "    market_share_state = calculate_market_share(df_state)\n",
    "    hhi_value = hhi(market_share_state[\"PERCENT\"])\n",
    "    market_concentration = categorize_market_concentration(hhi_value)\n",
    "    hhi_values.append((state, hhi_value, market_concentration))\n",
    "\n",
    "hhi_df_2022 = pd.DataFrame(hhi_values, columns=[\"STATE\", \"HHI\", \"MARKET CONCENTRATION\"])"
   ]
  },
  {
   "cell_type": "code",
   "execution_count": 41,
   "id": "f6a647c0-6705-4d71-90e2-dbb7aa984f80",
   "metadata": {
    "tags": []
   },
   "outputs": [
    {
     "data": {
      "text/html": [
       "<div>\n",
       "<style scoped>\n",
       "    .dataframe tbody tr th:only-of-type {\n",
       "        vertical-align: middle;\n",
       "    }\n",
       "\n",
       "    .dataframe tbody tr th {\n",
       "        vertical-align: top;\n",
       "    }\n",
       "\n",
       "    .dataframe thead th {\n",
       "        text-align: right;\n",
       "    }\n",
       "</style>\n",
       "<table border=\"1\" class=\"dataframe\">\n",
       "  <thead>\n",
       "    <tr style=\"text-align: right;\">\n",
       "      <th></th>\n",
       "      <th>STATE</th>\n",
       "      <th>HHI</th>\n",
       "    </tr>\n",
       "    <tr>\n",
       "      <th>MARKET CONCENTRATION</th>\n",
       "      <th></th>\n",
       "      <th></th>\n",
       "    </tr>\n",
       "  </thead>\n",
       "  <tbody>\n",
       "    <tr>\n",
       "      <th>HIGHLY CONCENTRATED</th>\n",
       "      <td>4</td>\n",
       "      <td>4</td>\n",
       "    </tr>\n",
       "    <tr>\n",
       "      <th>MODERATELY CONCENTRATED</th>\n",
       "      <td>23</td>\n",
       "      <td>23</td>\n",
       "    </tr>\n",
       "    <tr>\n",
       "      <th>NOT CONCENTRATED</th>\n",
       "      <td>22</td>\n",
       "      <td>22</td>\n",
       "    </tr>\n",
       "  </tbody>\n",
       "</table>\n",
       "</div>"
      ],
      "text/plain": [
       "                         STATE  HHI\n",
       "MARKET CONCENTRATION               \n",
       "HIGHLY CONCENTRATED          4    4\n",
       "MODERATELY CONCENTRATED     23   23\n",
       "NOT CONCENTRATED            22   22"
      ]
     },
     "execution_count": 41,
     "metadata": {},
     "output_type": "execute_result"
    }
   ],
   "source": [
    "hhi_df_2022.groupby('MARKET CONCENTRATION').count()"
   ]
  },
  {
   "cell_type": "code",
   "execution_count": 42,
   "id": "c9467d8a-d407-4e81-ab22-98e6b9962c22",
   "metadata": {
    "tags": []
   },
   "outputs": [
    {
     "data": {
      "application/vnd.plotly.v1+json": {
       "config": {
        "plotlyServerURL": "https://plot.ly"
       },
       "data": [
        {
         "coloraxis": "coloraxis",
         "customdata": [
          "NOT CONCENTRATED",
          "NOT CONCENTRATED",
          "MODERATELY CONCENTRATED",
          "MODERATELY CONCENTRATED",
          "NOT CONCENTRATED",
          "NOT CONCENTRATED",
          "MODERATELY CONCENTRATED",
          "HIGHLY CONCENTRATED",
          "MODERATELY CONCENTRATED",
          "MODERATELY CONCENTRATED",
          "NOT CONCENTRATED",
          "HIGHLY CONCENTRATED",
          "NOT CONCENTRATED",
          "NOT CONCENTRATED",
          "MODERATELY CONCENTRATED",
          "MODERATELY CONCENTRATED",
          "MODERATELY CONCENTRATED",
          "NOT CONCENTRATED",
          "MODERATELY CONCENTRATED",
          "NOT CONCENTRATED",
          "MODERATELY CONCENTRATED",
          "NOT CONCENTRATED",
          "MODERATELY CONCENTRATED",
          "NOT CONCENTRATED",
          "MODERATELY CONCENTRATED",
          "NOT CONCENTRATED",
          "MODERATELY CONCENTRATED",
          "NOT CONCENTRATED",
          "NOT CONCENTRATED",
          "NOT CONCENTRATED",
          "MODERATELY CONCENTRATED",
          "MODERATELY CONCENTRATED",
          "NOT CONCENTRATED",
          "MODERATELY CONCENTRATED",
          "MODERATELY CONCENTRATED",
          "NOT CONCENTRATED",
          "NOT CONCENTRATED",
          "NOT CONCENTRATED",
          "HIGHLY CONCENTRATED",
          "MODERATELY CONCENTRATED",
          "MODERATELY CONCENTRATED",
          "MODERATELY CONCENTRATED",
          "NOT CONCENTRATED",
          "HIGHLY CONCENTRATED",
          "MODERATELY CONCENTRATED",
          "NOT CONCENTRATED",
          "NOT CONCENTRATED",
          "MODERATELY CONCENTRATED",
          "MODERATELY CONCENTRATED"
         ],
         "geo": "geo",
         "hovertemplate": "<b>%{location}</b><br>HHI: %{z}<br>Market Concentration: %{customdata}",
         "locationmode": "USA-states",
         "locations": [
          "WV",
          "CA",
          "IN",
          "IL",
          "MO",
          "SC",
          "CT",
          "CO",
          "SD",
          "MI",
          "LA",
          "FL",
          "WI",
          "TX",
          "NJ",
          "DE",
          "NC",
          "OH",
          "KS",
          "PA",
          "NE",
          "AR",
          "VA",
          "MS",
          "AZ",
          "OK",
          "GA",
          "NY",
          "MA",
          "TN",
          "MD",
          "WY",
          "MN",
          "WA",
          "NH",
          "NM",
          "MT",
          "AL",
          "IA",
          "DC",
          "KY",
          "OR",
          "NV",
          "RI",
          "VT",
          "UT",
          "ID",
          "ND",
          "ME"
         ],
         "name": "",
         "type": "choropleth",
         "z": [
          1393.5589513478437,
          772.6784197820399,
          1883.5757266141022,
          1523.955826452476,
          1141.410565703231,
          1315.0959022913833,
          1939.8329006001743,
          2619.502120148458,
          1741.8877808600055,
          2372.54908944848,
          682.138178386111,
          4262.582072787695,
          1224.8156055751342,
          1300.5356124029677,
          2108.8384650830867,
          2280.3657914228793,
          1630.0215412216892,
          1469.8231642012856,
          1623.5606941358274,
          735.5586432821318,
          1567.308039051785,
          1205.711434841112,
          1860.5095473475528,
          906.5963183518285,
          1871.1536034617388,
          888.0845205523043,
          1956.9422257535282,
          756.260667466607,
          1318.0904346988339,
          1352.2935273369826,
          1586.552666816429,
          1617.9738203319478,
          1179.0577412213338,
          2016.3378070018339,
          2369.4452329785813,
          1312.8800195953654,
          1445.4934823924195,
          1203.7490734374146,
          4372.291415871186,
          2054.8312132206775,
          2222.630204741862,
          1605.4001240617147,
          1261.208758600768,
          2595.632670415119,
          1752.4448584538577,
          1300.3657176619586,
          1318.5666989448412,
          1722.2297313640802,
          1942.7805197684775
         ]
        }
       ],
       "layout": {
        "autosize": true,
        "coloraxis": {
         "cmax": 4372.291415871186,
         "cmin": 682.138178386111,
         "colorbar": {
          "title": {
           "text": "HHI"
          }
         },
         "colorscale": [
          [
           0,
           "rgb(255,255,204)"
          ],
          [
           0.125,
           "rgb(255,237,160)"
          ],
          [
           0.25,
           "rgb(254,217,118)"
          ],
          [
           0.375,
           "rgb(254,178,76)"
          ],
          [
           0.5,
           "rgb(253,141,60)"
          ],
          [
           0.625,
           "rgb(252,78,42)"
          ],
          [
           0.75,
           "rgb(227,26,28)"
          ],
          [
           0.875,
           "rgb(189,0,38)"
          ],
          [
           1,
           "rgb(128,0,38)"
          ]
         ]
        },
        "geo": {
         "center": {},
         "coastlinecolor": "rgb(100,100,100)",
         "domain": {
          "x": [
           0,
           1
          ],
          "y": [
           0,
           1
          ]
         },
         "lakecolor": "rgb(255,255,255)",
         "landcolor": "rgb(200,200,200)",
         "oceancolor": "rgb(247,247,247)",
         "projection": {
          "type": "albers usa"
         },
         "scope": "usa",
         "showcoastlines": true,
         "showlakes": true,
         "showland": true,
         "showocean": true
        },
        "legend": {
         "tracegroupgap": 0
        },
        "margin": {
         "t": 60
        },
        "template": {
         "data": {
          "bar": [
           {
            "error_x": {
             "color": "#2a3f5f"
            },
            "error_y": {
             "color": "#2a3f5f"
            },
            "marker": {
             "line": {
              "color": "#E5ECF6",
              "width": 0.5
             },
             "pattern": {
              "fillmode": "overlay",
              "size": 10,
              "solidity": 0.2
             }
            },
            "type": "bar"
           }
          ],
          "barpolar": [
           {
            "marker": {
             "line": {
              "color": "#E5ECF6",
              "width": 0.5
             },
             "pattern": {
              "fillmode": "overlay",
              "size": 10,
              "solidity": 0.2
             }
            },
            "type": "barpolar"
           }
          ],
          "carpet": [
           {
            "aaxis": {
             "endlinecolor": "#2a3f5f",
             "gridcolor": "white",
             "linecolor": "white",
             "minorgridcolor": "white",
             "startlinecolor": "#2a3f5f"
            },
            "baxis": {
             "endlinecolor": "#2a3f5f",
             "gridcolor": "white",
             "linecolor": "white",
             "minorgridcolor": "white",
             "startlinecolor": "#2a3f5f"
            },
            "type": "carpet"
           }
          ],
          "choropleth": [
           {
            "colorbar": {
             "outlinewidth": 0,
             "ticks": ""
            },
            "type": "choropleth"
           }
          ],
          "contour": [
           {
            "colorbar": {
             "outlinewidth": 0,
             "ticks": ""
            },
            "colorscale": [
             [
              0,
              "#0d0887"
             ],
             [
              0.1111111111111111,
              "#46039f"
             ],
             [
              0.2222222222222222,
              "#7201a8"
             ],
             [
              0.3333333333333333,
              "#9c179e"
             ],
             [
              0.4444444444444444,
              "#bd3786"
             ],
             [
              0.5555555555555556,
              "#d8576b"
             ],
             [
              0.6666666666666666,
              "#ed7953"
             ],
             [
              0.7777777777777778,
              "#fb9f3a"
             ],
             [
              0.8888888888888888,
              "#fdca26"
             ],
             [
              1,
              "#f0f921"
             ]
            ],
            "type": "contour"
           }
          ],
          "contourcarpet": [
           {
            "colorbar": {
             "outlinewidth": 0,
             "ticks": ""
            },
            "type": "contourcarpet"
           }
          ],
          "heatmap": [
           {
            "colorbar": {
             "outlinewidth": 0,
             "ticks": ""
            },
            "colorscale": [
             [
              0,
              "#0d0887"
             ],
             [
              0.1111111111111111,
              "#46039f"
             ],
             [
              0.2222222222222222,
              "#7201a8"
             ],
             [
              0.3333333333333333,
              "#9c179e"
             ],
             [
              0.4444444444444444,
              "#bd3786"
             ],
             [
              0.5555555555555556,
              "#d8576b"
             ],
             [
              0.6666666666666666,
              "#ed7953"
             ],
             [
              0.7777777777777778,
              "#fb9f3a"
             ],
             [
              0.8888888888888888,
              "#fdca26"
             ],
             [
              1,
              "#f0f921"
             ]
            ],
            "type": "heatmap"
           }
          ],
          "heatmapgl": [
           {
            "colorbar": {
             "outlinewidth": 0,
             "ticks": ""
            },
            "colorscale": [
             [
              0,
              "#0d0887"
             ],
             [
              0.1111111111111111,
              "#46039f"
             ],
             [
              0.2222222222222222,
              "#7201a8"
             ],
             [
              0.3333333333333333,
              "#9c179e"
             ],
             [
              0.4444444444444444,
              "#bd3786"
             ],
             [
              0.5555555555555556,
              "#d8576b"
             ],
             [
              0.6666666666666666,
              "#ed7953"
             ],
             [
              0.7777777777777778,
              "#fb9f3a"
             ],
             [
              0.8888888888888888,
              "#fdca26"
             ],
             [
              1,
              "#f0f921"
             ]
            ],
            "type": "heatmapgl"
           }
          ],
          "histogram": [
           {
            "marker": {
             "pattern": {
              "fillmode": "overlay",
              "size": 10,
              "solidity": 0.2
             }
            },
            "type": "histogram"
           }
          ],
          "histogram2d": [
           {
            "colorbar": {
             "outlinewidth": 0,
             "ticks": ""
            },
            "colorscale": [
             [
              0,
              "#0d0887"
             ],
             [
              0.1111111111111111,
              "#46039f"
             ],
             [
              0.2222222222222222,
              "#7201a8"
             ],
             [
              0.3333333333333333,
              "#9c179e"
             ],
             [
              0.4444444444444444,
              "#bd3786"
             ],
             [
              0.5555555555555556,
              "#d8576b"
             ],
             [
              0.6666666666666666,
              "#ed7953"
             ],
             [
              0.7777777777777778,
              "#fb9f3a"
             ],
             [
              0.8888888888888888,
              "#fdca26"
             ],
             [
              1,
              "#f0f921"
             ]
            ],
            "type": "histogram2d"
           }
          ],
          "histogram2dcontour": [
           {
            "colorbar": {
             "outlinewidth": 0,
             "ticks": ""
            },
            "colorscale": [
             [
              0,
              "#0d0887"
             ],
             [
              0.1111111111111111,
              "#46039f"
             ],
             [
              0.2222222222222222,
              "#7201a8"
             ],
             [
              0.3333333333333333,
              "#9c179e"
             ],
             [
              0.4444444444444444,
              "#bd3786"
             ],
             [
              0.5555555555555556,
              "#d8576b"
             ],
             [
              0.6666666666666666,
              "#ed7953"
             ],
             [
              0.7777777777777778,
              "#fb9f3a"
             ],
             [
              0.8888888888888888,
              "#fdca26"
             ],
             [
              1,
              "#f0f921"
             ]
            ],
            "type": "histogram2dcontour"
           }
          ],
          "mesh3d": [
           {
            "colorbar": {
             "outlinewidth": 0,
             "ticks": ""
            },
            "type": "mesh3d"
           }
          ],
          "parcoords": [
           {
            "line": {
             "colorbar": {
              "outlinewidth": 0,
              "ticks": ""
             }
            },
            "type": "parcoords"
           }
          ],
          "pie": [
           {
            "automargin": true,
            "type": "pie"
           }
          ],
          "scatter": [
           {
            "fillpattern": {
             "fillmode": "overlay",
             "size": 10,
             "solidity": 0.2
            },
            "type": "scatter"
           }
          ],
          "scatter3d": [
           {
            "line": {
             "colorbar": {
              "outlinewidth": 0,
              "ticks": ""
             }
            },
            "marker": {
             "colorbar": {
              "outlinewidth": 0,
              "ticks": ""
             }
            },
            "type": "scatter3d"
           }
          ],
          "scattercarpet": [
           {
            "marker": {
             "colorbar": {
              "outlinewidth": 0,
              "ticks": ""
             }
            },
            "type": "scattercarpet"
           }
          ],
          "scattergeo": [
           {
            "marker": {
             "colorbar": {
              "outlinewidth": 0,
              "ticks": ""
             }
            },
            "type": "scattergeo"
           }
          ],
          "scattergl": [
           {
            "marker": {
             "colorbar": {
              "outlinewidth": 0,
              "ticks": ""
             }
            },
            "type": "scattergl"
           }
          ],
          "scattermapbox": [
           {
            "marker": {
             "colorbar": {
              "outlinewidth": 0,
              "ticks": ""
             }
            },
            "type": "scattermapbox"
           }
          ],
          "scatterpolar": [
           {
            "marker": {
             "colorbar": {
              "outlinewidth": 0,
              "ticks": ""
             }
            },
            "type": "scatterpolar"
           }
          ],
          "scatterpolargl": [
           {
            "marker": {
             "colorbar": {
              "outlinewidth": 0,
              "ticks": ""
             }
            },
            "type": "scatterpolargl"
           }
          ],
          "scatterternary": [
           {
            "marker": {
             "colorbar": {
              "outlinewidth": 0,
              "ticks": ""
             }
            },
            "type": "scatterternary"
           }
          ],
          "surface": [
           {
            "colorbar": {
             "outlinewidth": 0,
             "ticks": ""
            },
            "colorscale": [
             [
              0,
              "#0d0887"
             ],
             [
              0.1111111111111111,
              "#46039f"
             ],
             [
              0.2222222222222222,
              "#7201a8"
             ],
             [
              0.3333333333333333,
              "#9c179e"
             ],
             [
              0.4444444444444444,
              "#bd3786"
             ],
             [
              0.5555555555555556,
              "#d8576b"
             ],
             [
              0.6666666666666666,
              "#ed7953"
             ],
             [
              0.7777777777777778,
              "#fb9f3a"
             ],
             [
              0.8888888888888888,
              "#fdca26"
             ],
             [
              1,
              "#f0f921"
             ]
            ],
            "type": "surface"
           }
          ],
          "table": [
           {
            "cells": {
             "fill": {
              "color": "#EBF0F8"
             },
             "line": {
              "color": "white"
             }
            },
            "header": {
             "fill": {
              "color": "#C8D4E3"
             },
             "line": {
              "color": "white"
             }
            },
            "type": "table"
           }
          ]
         },
         "layout": {
          "annotationdefaults": {
           "arrowcolor": "#2a3f5f",
           "arrowhead": 0,
           "arrowwidth": 1
          },
          "autotypenumbers": "strict",
          "coloraxis": {
           "colorbar": {
            "outlinewidth": 0,
            "ticks": ""
           }
          },
          "colorscale": {
           "diverging": [
            [
             0,
             "#8e0152"
            ],
            [
             0.1,
             "#c51b7d"
            ],
            [
             0.2,
             "#de77ae"
            ],
            [
             0.3,
             "#f1b6da"
            ],
            [
             0.4,
             "#fde0ef"
            ],
            [
             0.5,
             "#f7f7f7"
            ],
            [
             0.6,
             "#e6f5d0"
            ],
            [
             0.7,
             "#b8e186"
            ],
            [
             0.8,
             "#7fbc41"
            ],
            [
             0.9,
             "#4d9221"
            ],
            [
             1,
             "#276419"
            ]
           ],
           "sequential": [
            [
             0,
             "#0d0887"
            ],
            [
             0.1111111111111111,
             "#46039f"
            ],
            [
             0.2222222222222222,
             "#7201a8"
            ],
            [
             0.3333333333333333,
             "#9c179e"
            ],
            [
             0.4444444444444444,
             "#bd3786"
            ],
            [
             0.5555555555555556,
             "#d8576b"
            ],
            [
             0.6666666666666666,
             "#ed7953"
            ],
            [
             0.7777777777777778,
             "#fb9f3a"
            ],
            [
             0.8888888888888888,
             "#fdca26"
            ],
            [
             1,
             "#f0f921"
            ]
           ],
           "sequentialminus": [
            [
             0,
             "#0d0887"
            ],
            [
             0.1111111111111111,
             "#46039f"
            ],
            [
             0.2222222222222222,
             "#7201a8"
            ],
            [
             0.3333333333333333,
             "#9c179e"
            ],
            [
             0.4444444444444444,
             "#bd3786"
            ],
            [
             0.5555555555555556,
             "#d8576b"
            ],
            [
             0.6666666666666666,
             "#ed7953"
            ],
            [
             0.7777777777777778,
             "#fb9f3a"
            ],
            [
             0.8888888888888888,
             "#fdca26"
            ],
            [
             1,
             "#f0f921"
            ]
           ]
          },
          "colorway": [
           "#636efa",
           "#EF553B",
           "#00cc96",
           "#ab63fa",
           "#FFA15A",
           "#19d3f3",
           "#FF6692",
           "#B6E880",
           "#FF97FF",
           "#FECB52"
          ],
          "font": {
           "color": "#2a3f5f"
          },
          "geo": {
           "bgcolor": "white",
           "lakecolor": "white",
           "landcolor": "#E5ECF6",
           "showlakes": true,
           "showland": true,
           "subunitcolor": "white"
          },
          "hoverlabel": {
           "align": "left"
          },
          "hovermode": "closest",
          "mapbox": {
           "style": "light"
          },
          "paper_bgcolor": "white",
          "plot_bgcolor": "#E5ECF6",
          "polar": {
           "angularaxis": {
            "gridcolor": "white",
            "linecolor": "white",
            "ticks": ""
           },
           "bgcolor": "#E5ECF6",
           "radialaxis": {
            "gridcolor": "white",
            "linecolor": "white",
            "ticks": ""
           }
          },
          "scene": {
           "xaxis": {
            "backgroundcolor": "#E5ECF6",
            "gridcolor": "white",
            "gridwidth": 2,
            "linecolor": "white",
            "showbackground": true,
            "ticks": "",
            "zerolinecolor": "white"
           },
           "yaxis": {
            "backgroundcolor": "#E5ECF6",
            "gridcolor": "white",
            "gridwidth": 2,
            "linecolor": "white",
            "showbackground": true,
            "ticks": "",
            "zerolinecolor": "white"
           },
           "zaxis": {
            "backgroundcolor": "#E5ECF6",
            "gridcolor": "white",
            "gridwidth": 2,
            "linecolor": "white",
            "showbackground": true,
            "ticks": "",
            "zerolinecolor": "white"
           }
          },
          "shapedefaults": {
           "line": {
            "color": "#2a3f5f"
           }
          },
          "ternary": {
           "aaxis": {
            "gridcolor": "white",
            "linecolor": "white",
            "ticks": ""
           },
           "baxis": {
            "gridcolor": "white",
            "linecolor": "white",
            "ticks": ""
           },
           "bgcolor": "#E5ECF6",
           "caxis": {
            "gridcolor": "white",
            "linecolor": "white",
            "ticks": ""
           }
          },
          "title": {
           "x": 0.05
          },
          "xaxis": {
           "automargin": true,
           "gridcolor": "white",
           "linecolor": "white",
           "ticks": "",
           "title": {
            "standoff": 15
           },
           "zerolinecolor": "white",
           "zerolinewidth": 2
          },
          "yaxis": {
           "automargin": true,
           "gridcolor": "white",
           "linecolor": "white",
           "ticks": "",
           "title": {
            "standoff": 15
           },
           "zerolinecolor": "white",
           "zerolinewidth": 2
          }
         }
        },
        "title": {
         "text": "HHI by State"
        }
       }
      },
      "image/png": "[encoded data removed]",
      "text/html": [
       "<div>                            <div id=\"eb17e96f-fa50-42fa-bf51-d670c1d1ad58\" class=\"plotly-graph-div\" style=\"height:525px; width:100%;\"></div>            <script type=\"text/javascript\">                require([\"plotly\"], function(Plotly) {                    window.PLOTLYENV=window.PLOTLYENV || {};                                    if (document.getElementById(\"eb17e96f-fa50-42fa-bf51-d670c1d1ad58\")) {                    Plotly.newPlot(                        \"eb17e96f-fa50-42fa-bf51-d670c1d1ad58\",                        [{\"coloraxis\":\"coloraxis\",\"geo\":\"geo\",\"hovertemplate\":\"\\u003cb\\u003e%{location}\\u003c\\u002fb\\u003e\\u003cbr\\u003eHHI: %{z}\\u003cbr\\u003eMarket Concentration: %{customdata}\",\"locationmode\":\"USA-states\",\"locations\":[\"WV\",\"CA\",\"IN\",\"IL\",\"MO\",\"SC\",\"CT\",\"CO\",\"SD\",\"MI\",\"LA\",\"FL\",\"WI\",\"TX\",\"NJ\",\"DE\",\"NC\",\"OH\",\"KS\",\"PA\",\"NE\",\"AR\",\"VA\",\"MS\",\"AZ\",\"OK\",\"GA\",\"NY\",\"MA\",\"TN\",\"MD\",\"WY\",\"MN\",\"WA\",\"NH\",\"NM\",\"MT\",\"AL\",\"IA\",\"DC\",\"KY\",\"OR\",\"NV\",\"RI\",\"VT\",\"UT\",\"ID\",\"ND\",\"ME\"],\"name\":\"\",\"z\":[1393.5589513478437,772.6784197820399,1883.5757266141022,1523.955826452476,1141.410565703231,1315.0959022913833,1939.8329006001743,2619.502120148458,1741.8877808600055,2372.54908944848,682.138178386111,4262.582072787695,1224.8156055751342,1300.5356124029677,2108.8384650830867,2280.3657914228793,1630.0215412216892,1469.8231642012856,1623.5606941358274,735.5586432821318,1567.308039051785,1205.711434841112,1860.5095473475528,906.5963183518285,1871.1536034617388,888.0845205523043,1956.9422257535282,756.260667466607,1318.0904346988339,1352.2935273369826,1586.552666816429,1617.9738203319478,1179.0577412213338,2016.3378070018339,2369.4452329785813,1312.8800195953654,1445.4934823924195,1203.7490734374146,4372.291415871186,2054.8312132206775,2222.630204741862,1605.4001240617147,1261.208758600768,2595.632670415119,1752.4448584538577,1300.3657176619586,1318.5666989448412,1722.2297313640802,1942.7805197684775],\"type\":\"choropleth\",\"customdata\":[\"NOT CONCENTRATED\",\"NOT CONCENTRATED\",\"MODERATELY CONCENTRATED\",\"MODERATELY CONCENTRATED\",\"NOT CONCENTRATED\",\"NOT CONCENTRATED\",\"MODERATELY CONCENTRATED\",\"HIGHLY CONCENTRATED\",\"MODERATELY CONCENTRATED\",\"MODERATELY CONCENTRATED\",\"NOT CONCENTRATED\",\"HIGHLY CONCENTRATED\",\"NOT CONCENTRATED\",\"NOT CONCENTRATED\",\"MODERATELY CONCENTRATED\",\"MODERATELY CONCENTRATED\",\"MODERATELY CONCENTRATED\",\"NOT CONCENTRATED\",\"MODERATELY CONCENTRATED\",\"NOT CONCENTRATED\",\"MODERATELY CONCENTRATED\",\"NOT CONCENTRATED\",\"MODERATELY CONCENTRATED\",\"NOT CONCENTRATED\",\"MODERATELY CONCENTRATED\",\"NOT CONCENTRATED\",\"MODERATELY CONCENTRATED\",\"NOT CONCENTRATED\",\"NOT CONCENTRATED\",\"NOT CONCENTRATED\",\"MODERATELY CONCENTRATED\",\"MODERATELY CONCENTRATED\",\"NOT CONCENTRATED\",\"MODERATELY CONCENTRATED\",\"MODERATELY CONCENTRATED\",\"NOT CONCENTRATED\",\"NOT CONCENTRATED\",\"NOT CONCENTRATED\",\"HIGHLY CONCENTRATED\",\"MODERATELY CONCENTRATED\",\"MODERATELY CONCENTRATED\",\"MODERATELY CONCENTRATED\",\"NOT CONCENTRATED\",\"HIGHLY CONCENTRATED\",\"MODERATELY CONCENTRATED\",\"NOT CONCENTRATED\",\"NOT CONCENTRATED\",\"MODERATELY CONCENTRATED\",\"MODERATELY CONCENTRATED\"]}],                        {\"template\":{\"data\":{\"histogram2dcontour\":[{\"type\":\"histogram2dcontour\",\"colorbar\":{\"outlinewidth\":0,\"ticks\":\"\"},\"colorscale\":[[0.0,\"#0d0887\"],[0.1111111111111111,\"#46039f\"],[0.2222222222222222,\"#7201a8\"],[0.3333333333333333,\"#9c179e\"],[0.4444444444444444,\"#bd3786\"],[0.5555555555555556,\"#d8576b\"],[0.6666666666666666,\"#ed7953\"],[0.7777777777777778,\"#fb9f3a\"],[0.8888888888888888,\"#fdca26\"],[1.0,\"#f0f921\"]]}],\"choropleth\":[{\"type\":\"choropleth\",\"colorbar\":{\"outlinewidth\":0,\"ticks\":\"\"}}],\"histogram2d\":[{\"type\":\"histogram2d\",\"colorbar\":{\"outlinewidth\":0,\"ticks\":\"\"},\"colorscale\":[[0.0,\"#0d0887\"],[0.1111111111111111,\"#46039f\"],[0.2222222222222222,\"#7201a8\"],[0.3333333333333333,\"#9c179e\"],[0.4444444444444444,\"#bd3786\"],[0.5555555555555556,\"#d8576b\"],[0.6666666666666666,\"#ed7953\"],[0.7777777777777778,\"#fb9f3a\"],[0.8888888888888888,\"#fdca26\"],[1.0,\"#f0f921\"]]}],\"heatmap\":[{\"type\":\"heatmap\",\"colorbar\":{\"outlinewidth\":0,\"ticks\":\"\"},\"colorscale\":[[0.0,\"#0d0887\"],[0.1111111111111111,\"#46039f\"],[0.2222222222222222,\"#7201a8\"],[0.3333333333333333,\"#9c179e\"],[0.4444444444444444,\"#bd3786\"],[0.5555555555555556,\"#d8576b\"],[0.6666666666666666,\"#ed7953\"],[0.7777777777777778,\"#fb9f3a\"],[0.8888888888888888,\"#fdca26\"],[1.0,\"#f0f921\"]]}],\"heatmapgl\":[{\"type\":\"heatmapgl\",\"colorbar\":{\"outlinewidth\":0,\"ticks\":\"\"},\"colorscale\":[[0.0,\"#0d0887\"],[0.1111111111111111,\"#46039f\"],[0.2222222222222222,\"#7201a8\"],[0.3333333333333333,\"#9c179e\"],[0.4444444444444444,\"#bd3786\"],[0.5555555555555556,\"#d8576b\"],[0.6666666666666666,\"#ed7953\"],[0.7777777777777778,\"#fb9f3a\"],[0.8888888888888888,\"#fdca26\"],[1.0,\"#f0f921\"]]}],\"contourcarpet\":[{\"type\":\"contourcarpet\",\"colorbar\":{\"outlinewidth\":0,\"ticks\":\"\"}}],\"contour\":[{\"type\":\"contour\",\"colorbar\":{\"outlinewidth\":0,\"ticks\":\"\"},\"colorscale\":[[0.0,\"#0d0887\"],[0.1111111111111111,\"#46039f\"],[0.2222222222222222,\"#7201a8\"],[0.3333333333333333,\"#9c179e\"],[0.4444444444444444,\"#bd3786\"],[0.5555555555555556,\"#d8576b\"],[0.6666666666666666,\"#ed7953\"],[0.7777777777777778,\"#fb9f3a\"],[0.8888888888888888,\"#fdca26\"],[1.0,\"#f0f921\"]]}],\"surface\":[{\"type\":\"surface\",\"colorbar\":{\"outlinewidth\":0,\"ticks\":\"\"},\"colorscale\":[[0.0,\"#0d0887\"],[0.1111111111111111,\"#46039f\"],[0.2222222222222222,\"#7201a8\"],[0.3333333333333333,\"#9c179e\"],[0.4444444444444444,\"#bd3786\"],[0.5555555555555556,\"#d8576b\"],[0.6666666666666666,\"#ed7953\"],[0.7777777777777778,\"#fb9f3a\"],[0.8888888888888888,\"#fdca26\"],[1.0,\"#f0f921\"]]}],\"mesh3d\":[{\"type\":\"mesh3d\",\"colorbar\":{\"outlinewidth\":0,\"ticks\":\"\"}}],\"scatter\":[{\"fillpattern\":{\"fillmode\":\"overlay\",\"size\":10,\"solidity\":0.2},\"type\":\"scatter\"}],\"parcoords\":[{\"type\":\"parcoords\",\"line\":{\"colorbar\":{\"outlinewidth\":0,\"ticks\":\"\"}}}],\"scatterpolargl\":[{\"type\":\"scatterpolargl\",\"marker\":{\"colorbar\":{\"outlinewidth\":0,\"ticks\":\"\"}}}],\"bar\":[{\"error_x\":{\"color\":\"#2a3f5f\"},\"error_y\":{\"color\":\"#2a3f5f\"},\"marker\":{\"line\":{\"color\":\"#E5ECF6\",\"width\":0.5},\"pattern\":{\"fillmode\":\"overlay\",\"size\":10,\"solidity\":0.2}},\"type\":\"bar\"}],\"scattergeo\":[{\"type\":\"scattergeo\",\"marker\":{\"colorbar\":{\"outlinewidth\":0,\"ticks\":\"\"}}}],\"scatterpolar\":[{\"type\":\"scatterpolar\",\"marker\":{\"colorbar\":{\"outlinewidth\":0,\"ticks\":\"\"}}}],\"histogram\":[{\"marker\":{\"pattern\":{\"fillmode\":\"overlay\",\"size\":10,\"solidity\":0.2}},\"type\":\"histogram\"}],\"scattergl\":[{\"type\":\"scattergl\",\"marker\":{\"colorbar\":{\"outlinewidth\":0,\"ticks\":\"\"}}}],\"scatter3d\":[{\"type\":\"scatter3d\",\"line\":{\"colorbar\":{\"outlinewidth\":0,\"ticks\":\"\"}},\"marker\":{\"colorbar\":{\"outlinewidth\":0,\"ticks\":\"\"}}}],\"scattermapbox\":[{\"type\":\"scattermapbox\",\"marker\":{\"colorbar\":{\"outlinewidth\":0,\"ticks\":\"\"}}}],\"scatterternary\":[{\"type\":\"scatterternary\",\"marker\":{\"colorbar\":{\"outlinewidth\":0,\"ticks\":\"\"}}}],\"scattercarpet\":[{\"type\":\"scattercarpet\",\"marker\":{\"colorbar\":{\"outlinewidth\":0,\"ticks\":\"\"}}}],\"carpet\":[{\"aaxis\":{\"endlinecolor\":\"#2a3f5f\",\"gridcolor\":\"white\",\"linecolor\":\"white\",\"minorgridcolor\":\"white\",\"startlinecolor\":\"#2a3f5f\"},\"baxis\":{\"endlinecolor\":\"#2a3f5f\",\"gridcolor\":\"white\",\"linecolor\":\"white\",\"minorgridcolor\":\"white\",\"startlinecolor\":\"#2a3f5f\"},\"type\":\"carpet\"}],\"table\":[{\"cells\":{\"fill\":{\"color\":\"#EBF0F8\"},\"line\":{\"color\":\"white\"}},\"header\":{\"fill\":{\"color\":\"#C8D4E3\"},\"line\":{\"color\":\"white\"}},\"type\":\"table\"}],\"barpolar\":[{\"marker\":{\"line\":{\"color\":\"#E5ECF6\",\"width\":0.5},\"pattern\":{\"fillmode\":\"overlay\",\"size\":10,\"solidity\":0.2}},\"type\":\"barpolar\"}],\"pie\":[{\"automargin\":true,\"type\":\"pie\"}]},\"layout\":{\"autotypenumbers\":\"strict\",\"colorway\":[\"#636efa\",\"#EF553B\",\"#00cc96\",\"#ab63fa\",\"#FFA15A\",\"#19d3f3\",\"#FF6692\",\"#B6E880\",\"#FF97FF\",\"#FECB52\"],\"font\":{\"color\":\"#2a3f5f\"},\"hovermode\":\"closest\",\"hoverlabel\":{\"align\":\"left\"},\"paper_bgcolor\":\"white\",\"plot_bgcolor\":\"#E5ECF6\",\"polar\":{\"bgcolor\":\"#E5ECF6\",\"angularaxis\":{\"gridcolor\":\"white\",\"linecolor\":\"white\",\"ticks\":\"\"},\"radialaxis\":{\"gridcolor\":\"white\",\"linecolor\":\"white\",\"ticks\":\"\"}},\"ternary\":{\"bgcolor\":\"#E5ECF6\",\"aaxis\":{\"gridcolor\":\"white\",\"linecolor\":\"white\",\"ticks\":\"\"},\"baxis\":{\"gridcolor\":\"white\",\"linecolor\":\"white\",\"ticks\":\"\"},\"caxis\":{\"gridcolor\":\"white\",\"linecolor\":\"white\",\"ticks\":\"\"}},\"coloraxis\":{\"colorbar\":{\"outlinewidth\":0,\"ticks\":\"\"}},\"colorscale\":{\"sequential\":[[0.0,\"#0d0887\"],[0.1111111111111111,\"#46039f\"],[0.2222222222222222,\"#7201a8\"],[0.3333333333333333,\"#9c179e\"],[0.4444444444444444,\"#bd3786\"],[0.5555555555555556,\"#d8576b\"],[0.6666666666666666,\"#ed7953\"],[0.7777777777777778,\"#fb9f3a\"],[0.8888888888888888,\"#fdca26\"],[1.0,\"#f0f921\"]],\"sequentialminus\":[[0.0,\"#0d0887\"],[0.1111111111111111,\"#46039f\"],[0.2222222222222222,\"#7201a8\"],[0.3333333333333333,\"#9c179e\"],[0.4444444444444444,\"#bd3786\"],[0.5555555555555556,\"#d8576b\"],[0.6666666666666666,\"#ed7953\"],[0.7777777777777778,\"#fb9f3a\"],[0.8888888888888888,\"#fdca26\"],[1.0,\"#f0f921\"]],\"diverging\":[[0,\"#8e0152\"],[0.1,\"#c51b7d\"],[0.2,\"#de77ae\"],[0.3,\"#f1b6da\"],[0.4,\"#fde0ef\"],[0.5,\"#f7f7f7\"],[0.6,\"#e6f5d0\"],[0.7,\"#b8e186\"],[0.8,\"#7fbc41\"],[0.9,\"#4d9221\"],[1,\"#276419\"]]},\"xaxis\":{\"gridcolor\":\"white\",\"linecolor\":\"white\",\"ticks\":\"\",\"title\":{\"standoff\":15},\"zerolinecolor\":\"white\",\"automargin\":true,\"zerolinewidth\":2},\"yaxis\":{\"gridcolor\":\"white\",\"linecolor\":\"white\",\"ticks\":\"\",\"title\":{\"standoff\":15},\"zerolinecolor\":\"white\",\"automargin\":true,\"zerolinewidth\":2},\"scene\":{\"xaxis\":{\"backgroundcolor\":\"#E5ECF6\",\"gridcolor\":\"white\",\"linecolor\":\"white\",\"showbackground\":true,\"ticks\":\"\",\"zerolinecolor\":\"white\",\"gridwidth\":2},\"yaxis\":{\"backgroundcolor\":\"#E5ECF6\",\"gridcolor\":\"white\",\"linecolor\":\"white\",\"showbackground\":true,\"ticks\":\"\",\"zerolinecolor\":\"white\",\"gridwidth\":2},\"zaxis\":{\"backgroundcolor\":\"#E5ECF6\",\"gridcolor\":\"white\",\"linecolor\":\"white\",\"showbackground\":true,\"ticks\":\"\",\"zerolinecolor\":\"white\",\"gridwidth\":2}},\"shapedefaults\":{\"line\":{\"color\":\"#2a3f5f\"}},\"annotationdefaults\":{\"arrowcolor\":\"#2a3f5f\",\"arrowhead\":0,\"arrowwidth\":1},\"geo\":{\"bgcolor\":\"white\",\"landcolor\":\"#E5ECF6\",\"subunitcolor\":\"white\",\"showland\":true,\"showlakes\":true,\"lakecolor\":\"white\"},\"title\":{\"x\":0.05},\"mapbox\":{\"style\":\"light\"}}},\"geo\":{\"domain\":{\"x\":[0.0,1.0],\"y\":[0.0,1.0]},\"center\":{},\"scope\":\"usa\",\"projection\":{\"type\":\"albers usa\"},\"showcoastlines\":true,\"coastlinecolor\":\"rgb(100,100,100)\",\"showland\":true,\"landcolor\":\"rgb(200,200,200)\",\"showocean\":true,\"oceancolor\":\"rgb(247,247,247)\",\"showlakes\":true,\"lakecolor\":\"rgb(255,255,255)\"},\"coloraxis\":{\"colorbar\":{\"title\":{\"text\":\"HHI\"}},\"colorscale\":[[0.0,\"rgb(255,255,204)\"],[0.125,\"rgb(255,237,160)\"],[0.25,\"rgb(254,217,118)\"],[0.375,\"rgb(254,178,76)\"],[0.5,\"rgb(253,141,60)\"],[0.625,\"rgb(252,78,42)\"],[0.75,\"rgb(227,26,28)\"],[0.875,\"rgb(189,0,38)\"],[1.0,\"rgb(128,0,38)\"]],\"cmin\":682.138178386111,\"cmax\":4372.291415871186},\"legend\":{\"tracegroupgap\":0},\"margin\":{\"t\":60},\"title\":{\"text\":\"HHI by State\"}},                        {\"responsive\": true}                    ).then(function(){\n",
       "                            \n",
       "var gd = document.getElementById('eb17e96f-fa50-42fa-bf51-d670c1d1ad58');\n",
       "var x = new MutationObserver(function (mutations, observer) {{\n",
       "        var display = window.getComputedStyle(gd).display;\n",
       "        if (!display || display === 'none') {{\n",
       "            console.log([gd, 'removed!']);\n",
       "            Plotly.purge(gd);\n",
       "            observer.disconnect();\n",
       "        }}\n",
       "}});\n",
       "\n",
       "// Listen for the removal of the full notebook cells\n",
       "var notebookContainer = gd.closest('#notebook-container');\n",
       "if (notebookContainer) {{\n",
       "    x.observe(notebookContainer, {childList: true});\n",
       "}}\n",
       "\n",
       "// Listen for the clearing of the current output cell\n",
       "var outputEl = gd.closest('.output');\n",
       "if (outputEl) {{\n",
       "    x.observe(outputEl, {childList: true});\n",
       "}}\n",
       "\n",
       "                        })                };                });            </script>        </div>"
      ]
     },
     "metadata": {},
     "output_type": "display_data"
    }
   ],
   "source": [
    "#Generates Chloropleth Map of US based on State Boundaries for HHI Index\n",
    "import plotly.express as px\n",
    "\n",
    "fig = px.choropleth(\n",
    "    hhi_df_2022,\n",
    "    locations='STATE',\n",
    "    locationmode='USA-states',\n",
    "    color='HHI',\n",
    "    color_continuous_scale='YlOrRd',\n",
    "    range_color=(hhi_df_2022['HHI'].min(), hhi_df_2022['HHI'].max()),\n",
    "    scope='usa',\n",
    "    labels={'STATE': 'State', 'HHI': 'HHI'}\n",
    ")\n",
    "\n",
    "fig.update_layout(\n",
    "    title_text='HHI by State',\n",
    "    geo=dict(\n",
    "        showcoastlines=True,\n",
    "        coastlinecolor='rgb(100,100,100)',\n",
    "        showland=True,\n",
    "        landcolor='rgb(200,200,200)',\n",
    "        showocean=True,\n",
    "        oceancolor='rgb(247,247,247)',\n",
    "        showlakes=True,\n",
    "        lakecolor='rgb(255,255,255)',\n",
    "        projection_type='albers usa'\n",
    "    )\n",
    ")\n",
    "\n",
    "fig.update_traces(\n",
    "    hovertemplate='<b>%{location}</b><br>HHI: %{z}<br>Market Concentration: %{customdata}',\n",
    "    customdata=hhi_df_2022['MARKET CONCENTRATION']\n",
    ")\n",
    "\n",
    "fig.show()\n"
   ]
  },
  {
   "cell_type": "markdown",
   "id": "1dc38671-cd68-479a-b0a5-d3f778b5e2f9",
   "metadata": {},
   "source": [
    "# HHI (COUNTY CODES)"
   ]
  },
  {
   "cell_type": "code",
   "execution_count": 43,
   "id": "bee4be00-186c-4c9d-b56d-e267e72c4c69",
   "metadata": {
    "tags": []
   },
   "outputs": [],
   "source": [
    "def calculate_state_hhi(df, state):\n",
    "    \"\"\"\n",
    "    Calculates the HHI on the state level based on county code\n",
    "    \"\"\"\n",
    "    df_state = df.loc[df[\"STATE\"] == state]\n",
    "    state_counties = df_state[\"COUNTY CODE\"].unique().tolist()\n",
    "    hhi_values_state = []\n",
    "\n",
    "    for county in state_counties:\n",
    "        df_county = df_state.loc[df_state[\"COUNTY CODE\"] == county]\n",
    "        df_county = process_dataframe(df_county)\n",
    "        market_share_county = calculate_market_share(df_county)\n",
    "        hhi_value_county = hhi(market_share_county[\"PERCENT\"])\n",
    "        market_concentration_county = categorize_market_concentration(hhi_value_county)\n",
    "        hhi_values_state.append((county, hhi_value_county, market_concentration_county))\n",
    "\n",
    "    state_hhi_df = pd.DataFrame(hhi_values_state, columns=[\"COUNTY CODE\", \"HHI\", \"MARKET CONCENTRATION\"])\n",
    "    state_hhi_df[\"STATE\"] = state\n",
    "\n",
    "    return state_hhi_df\n",
    "\n",
    "\n",
    "state_hhi_nw_2022 = pd.DataFrame(columns=[\"STATE\", \"COUNTY CODE\", \"HHI\", \"MARKET CONCENTRATION\"]) \n",
    "\n",
    "for state in states:\n",
    "    df_state = supermarkets.loc[supermarkets[\"STATE\"] == state]\n",
    "    state_hhi_nw = calculate_state_hhi(df_state, state)\n",
    "    state_hhi_nw_2022 = pd.concat([state_hhi_nw_2022, state_hhi_nw], ignore_index=True)\n",
    "\n",
    "county_hhi = state_hhi_nw_2022"
   ]
  },
  {
   "cell_type": "code",
   "execution_count": 44,
   "id": "b3def02a-2d5a-4693-9ebe-a79759dbf36c",
   "metadata": {
    "tags": []
   },
   "outputs": [
    {
     "data": {
      "text/html": [
       "<div>\n",
       "<style scoped>\n",
       "    .dataframe tbody tr th:only-of-type {\n",
       "        vertical-align: middle;\n",
       "    }\n",
       "\n",
       "    .dataframe tbody tr th {\n",
       "        vertical-align: top;\n",
       "    }\n",
       "\n",
       "    .dataframe thead th {\n",
       "        text-align: right;\n",
       "    }\n",
       "</style>\n",
       "<table border=\"1\" class=\"dataframe\">\n",
       "  <thead>\n",
       "    <tr style=\"text-align: right;\">\n",
       "      <th></th>\n",
       "      <th>STATE</th>\n",
       "      <th>COUNTY CODE</th>\n",
       "      <th>HHI</th>\n",
       "      <th>MARKET CONCENTRATION</th>\n",
       "    </tr>\n",
       "  </thead>\n",
       "  <tbody>\n",
       "    <tr>\n",
       "      <th>0</th>\n",
       "      <td>WV</td>\n",
       "      <td>61.0</td>\n",
       "      <td>3565.547049</td>\n",
       "      <td>HIGHLY CONCENTRATED</td>\n",
       "    </tr>\n",
       "    <tr>\n",
       "      <th>1</th>\n",
       "      <td>WV</td>\n",
       "      <td>77.0</td>\n",
       "      <td>5674.854514</td>\n",
       "      <td>HIGHLY CONCENTRATED</td>\n",
       "    </tr>\n",
       "    <tr>\n",
       "      <th>2</th>\n",
       "      <td>WV</td>\n",
       "      <td>1.0</td>\n",
       "      <td>7795.862538</td>\n",
       "      <td>HIGHLY CONCENTRATED</td>\n",
       "    </tr>\n",
       "    <tr>\n",
       "      <th>3</th>\n",
       "      <td>WV</td>\n",
       "      <td>93.0</td>\n",
       "      <td>3765.432099</td>\n",
       "      <td>HIGHLY CONCENTRATED</td>\n",
       "    </tr>\n",
       "    <tr>\n",
       "      <th>4</th>\n",
       "      <td>WV</td>\n",
       "      <td>49.0</td>\n",
       "      <td>4852.078535</td>\n",
       "      <td>HIGHLY CONCENTRATED</td>\n",
       "    </tr>\n",
       "  </tbody>\n",
       "</table>\n",
       "</div>"
      ],
      "text/plain": [
       "  STATE  COUNTY CODE          HHI MARKET CONCENTRATION\n",
       "0    WV         61.0  3565.547049  HIGHLY CONCENTRATED\n",
       "1    WV         77.0  5674.854514  HIGHLY CONCENTRATED\n",
       "2    WV          1.0  7795.862538  HIGHLY CONCENTRATED\n",
       "3    WV         93.0  3765.432099  HIGHLY CONCENTRATED\n",
       "4    WV         49.0  4852.078535  HIGHLY CONCENTRATED"
      ]
     },
     "execution_count": 44,
     "metadata": {},
     "output_type": "execute_result"
    }
   ],
   "source": [
    "county_hhi.head()"
   ]
  },
  {
   "cell_type": "markdown",
   "id": "703a9fb2-ea3f-423e-b08c-63ca79c63014",
   "metadata": {
    "tags": []
   },
   "source": [
    "# CONCENTRATION RATIO"
   ]
  },
  {
   "cell_type": "code",
   "execution_count": 50,
   "id": "714d8695-8e7d-4a2f-8a02-5af5219cb34e",
   "metadata": {
    "tags": []
   },
   "outputs": [
    {
     "name": "stdout",
     "output_type": "stream",
     "text": [
      "CR-4 Ratio: 38.01892771897957\n",
      "CR-10 Ratio: 54.219097769330396\n",
      "CR-20 Ratio: 65.91496173294495\n"
     ]
    }
   ],
   "source": [
    "# Calculate CR-4\n",
    "cr4_total_share = national_ms.head(4)['PERCENT'].sum()\n",
    "cr4_ratio = cr4_total_share\n",
    "\n",
    "# Calculate CR-10\n",
    "cr10_total_share = national_ms.head(10)['PERCENT'].sum()\n",
    "cr10_ratio = cr10_total_share\n",
    "\n",
    "# Calculate CR-20\n",
    "cr20_total_share = national_ms.head(20)['PERCENT'].sum()\n",
    "cr20_ratio = cr20_total_share\n",
    "\n",
    "print(\"CR-4 Ratio:\", cr4_ratio)\n",
    "print(\"CR-10 Ratio:\", cr10_ratio)\n",
    "print(\"CR-20 Ratio:\", cr20_ratio)"
   ]
  }
 ],
 "metadata": {
  "kernelspec": {
   "display_name": "Python 3 (ipykernel)",
   "language": "python",
   "name": "python3"
  },
  "language_info": {
   "codemirror_mode": {
    "name": "ipython",
    "version": 3
   },
   "file_extension": ".py",
   "mimetype": "text/x-python",
   "name": "python",
   "nbconvert_exporter": "python",
   "pygments_lexer": "ipython3",
   "version": "3.9.7"
  }
 },
 "nbformat": 4,
 "nbformat_minor": 5
}
